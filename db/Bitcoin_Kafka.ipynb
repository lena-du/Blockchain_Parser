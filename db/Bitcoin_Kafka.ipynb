{
  "nbformat": 4,
  "nbformat_minor": 0,
  "metadata": {
    "colab": {
      "name": "Bitcoin-Kafka.ipynb",
      "provenance": [],
      "collapsed_sections": [],
      "authorship_tag": "ABX9TyMkdhUUmHdNRN7/E4e3tNdm"
    },
    "kernelspec": {
      "name": "python3",
      "display_name": "Python 3"
    },
    "language_info": {
      "name": "python"
    }
  },
  "cells": [
    {
      "cell_type": "code",
      "metadata": {
        "id": "q_Ei2LPLPgvm"
      },
      "source": [
        "# Python-SSH librabry installation\n",
        "%pip install paramiko\n",
        "\n",
        "# Kafka library installation\n",
        "%pip install kafka-python"
      ],
      "execution_count": null,
      "outputs": []
    },
    {
      "cell_type": "code",
      "metadata": {
        "id": "iYjQDhWrP0Ea"
      },
      "source": [
        "# Establish SSH connection to the host \n",
        "import paramiko \n",
        "\n",
        "host = \"artemis.uni.ma\"\n",
        "port = 22\n",
        "username = credentials['user'][0]\n",
        "password = credentials['pwd'][0]\n",
        "ssh = paramiko.SSHClient()\n",
        "ssh.set_missing_host_key_policy(paramiko.AutoAddPolicy())\n",
        "ssh.connect(host, port, username, password)"
      ],
      "execution_count": null,
      "outputs": []
    },
    {
      "cell_type": "markdown",
      "metadata": {
        "id": "K5IrBMuhQBbp"
      },
      "source": [
        "#### Kafka Producer "
      ]
    },
    {
      "cell_type": "code",
      "metadata": {
        "id": "XTvSmFetQFa5"
      },
      "source": [
        "import json\n",
        "from kafka import KafkaProducer\n",
        "producer = KafkaProducer(bootstrap_servers='localhost:9092') #bootstrap_servers=host +':9092'\n",
        "producer = KafkaProducer(value_serializer=lambda x: json.dumps(x).encode('utf-8'))\n",
        "\n",
        "# Topic - Blocks \n",
        "# blocks=json_data\n",
        "for i in range(len(blocks)):\n",
        "    command = producer.send('blocks', blocks[i])\n",
        "    stdin, stdout, stderr = ssh.exec_command(command)\n",
        "  \n",
        "\n",
        "# Topic - Transactions\n",
        "#transactions=json.dumps(txlist, indent=4, sort_keys=False)\n",
        "for i in range(len(transactions)):\n",
        "    command = producer.send('transactions', transactions[i])\n",
        "    stdin, stdout, stderr = ssh.exec_command(command)\n",
        "  \n",
        "# Make all buffered records immediately available to send\n",
        "command = producer.flush()\n",
        "stdin, stdout, stderr = ssh.exec_command(command)\n",
        "\n",
        "# Close the producer\n",
        "command = producer.close()\n",
        "stdin, stdout, stderr = ssh.exec_command(command)\n"
      ],
      "execution_count": null,
      "outputs": []
    }
  ]
}
