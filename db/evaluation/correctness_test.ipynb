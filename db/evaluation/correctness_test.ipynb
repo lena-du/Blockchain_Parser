{
 "cells": [
  {
   "cell_type": "markdown",
   "metadata": {},
   "source": [
    "# Correctness Test"
   ]
  },
  {
   "cell_type": "markdown",
   "metadata": {},
   "source": [
    "## Set up"
   ]
  },
  {
   "cell_type": "code",
   "execution_count": null,
   "metadata": {},
   "outputs": [],
   "source": [
    "import numpy as np\n",
    "import time\n",
    "from neo4jConnector import startNeo4jSession"
   ]
  },
  {
   "cell_type": "code",
   "execution_count": null,
   "metadata": {},
   "outputs": [],
   "source": [
    "driver, session = startNeo4jSession(port=7688)"
   ]
  },
  {
   "cell_type": "code",
   "execution_count": null,
   "metadata": {},
   "outputs": [],
   "source": [
    "## parameter settings\n",
    "start_block_height = 164467\n",
    "end_block_height = start_block_height + 1\n",
    "\n",
    "\n",
    "# original set\n",
    "b = 'Block'\n",
    "t = 'Transaction'\n",
    "a = 'Address'\n",
    "\n",
    "# test set\n",
    "bt = b + '_test'\n",
    "tt = t + '_test'\n",
    "at = a + '_test'\n",
    "\n",
    "# analysis parameters\n",
    "blockClasses       = [b, bt]\n",
    "transactionClasses = [t, tt]\n",
    "addressClasses     = [a, at]"
   ]
  },
  {
   "cell_type": "markdown",
   "metadata": {},
   "source": [
    "## Analysis"
   ]
  },
  {
   "cell_type": "markdown",
   "metadata": {},
   "source": [
    "### Functions\n",
    "\n",
    "#### Queries"
   ]
  },
  {
   "cell_type": "code",
   "execution_count": null,
   "metadata": {},
   "outputs": [],
   "source": [
    "### Blocks\n",
    "## properties\n",
    "def getBlockPropertiesByHeightQuery(blockClasses, height):\n",
    "    return f'''\n",
    "            MATCH (b:{blockClasses[0]} {{height: {height}}}) \n",
    "            WITH COLLECT([b.height, b.blockDate, b.hash, b.mediantime]) as properties\n",
    "            RETURN apoc.util.md5(properties), properties\n",
    "            UNION\n",
    "            MATCH (b:{blockClasses[1]} {{height: {height}}}) \n",
    "            WITH COLLECT([b.height, b.blockDate, b.hash, b.mediantime]) as properties\n",
    "            RETURN apoc.util.md5(properties), properties\n",
    "            '''\n",
    "\n",
    "###  Transactions\n",
    "## retrieve transaction ids from block\n",
    "def getTransactionsFromBlockHeightQuery(blockClasses, height):\n",
    "    return f'''\n",
    "            MATCH (b:{blockClasses[0]} {{height: {height}}})<-[:BELONGS_TO]-(t) \n",
    "            WITH t.txid as txids WITH txids ORDER BY txids WITH COLLECT(txids) as list \n",
    "            RETURN apoc.util.md5(COLLECT(list)), list\n",
    "            UNION\n",
    "            MATCH (b:{blockClasses[1]} {{height: {height}}})<-[:BELONGS_TO]-(t) \n",
    "            WITH t.txid as txids WITH txids ORDER BY txids WITH COLLECT(txids) as list \n",
    "            RETURN apoc.util.md5(COLLECT(list)), list\n",
    "            '''\n",
    "\n",
    "## TR properties\n",
    "def getTransactionPropertiesByTxidQuery(transactionClasses, txid):\n",
    "    return f'''\n",
    "            MATCH (t:{transactionClasses[0]} {{txid: \\\"{txid}\\\"}}) \n",
    "                WITH COLLECT([t.txid, t.inDegree, t.outDegree, t.inSum, t.outSum, t.date]) as properties \n",
    "                RETURN apoc.util.md5(properties), properties\n",
    "            UNION\n",
    "            MATCH (t:{transactionClasses[1]} {{txid: \\\"{txid}\\\"}}) \n",
    "                WITH COLLECT([t.txid, t.inDegree, t.outDegree, t.inSum, t.outSum, t.date]) as properties \n",
    "                RETURN apoc.util.md5(properties), properties\n",
    "            '''                                 \n",
    "\n",
    "\n",
    "# TR edges with edgetype, value & address\n",
    "# in case of need to also separately retrieve list of addresses\n",
    "'''\n",
    "MATCH (t:{transactionClasses[1]} {{txid: \\\"{txid}\\\"}})-[r:SENDS|RECEIVES]-(a) \n",
    "    WITH type(r) AS type, r.value AS value, a.address AS address\n",
    "    WITH type, value, address ORDER BY type, value, address\n",
    "    WITH COLLECT([type, value, address]) AS edges, COLLECT(address) AS addresses\n",
    "    RETURN apoc.util.md5(COLLECT(edges)), edges, addresses\n",
    "'''\n",
    "#\n",
    "def getAddressFromTransactionIDQuery(txClass, txid):\n",
    "    return f'''\n",
    "            MATCH (t:{transactionClasses[0]} {{txid: \\\"{txid}\\\"}})-[r:SENDS|RECEIVES]-(a) \n",
    "                WITH type(r) AS type, r.value AS value, a.address AS address\n",
    "                WITH type, value, address ORDER BY type, value, address\n",
    "                WITH COLLECT([type, value, address]) AS edges\n",
    "                RETURN apoc.util.md5(COLLECT(edges)), edges\n",
    "            UNION\n",
    "            MATCH (t:{transactionClasses[1]} {{txid: \\\"{txid}\\\"}})-[r:SENDS|RECEIVES]-(a) \n",
    "                WITH type(r) AS type, r.value AS value, a.address AS address\n",
    "                WITH type, value, address ORDER BY type, value, address\n",
    "                WITH COLLECT([type, value, address]) AS edges\n",
    "                RETURN apoc.util.md5(COLLECT(edges)), edges\n",
    "            '''\n",
    "\n"
   ]
  },
  {
   "cell_type": "markdown",
   "metadata": {},
   "source": [
    "#### Other functions"
   ]
  },
  {
   "cell_type": "code",
   "execution_count": null,
   "metadata": {},
   "outputs": [],
   "source": [
    "#############################################\n",
    "############## other functions ##############\n",
    "\n",
    "def runQuery(query):\n",
    "    return session.run(query).values()\n",
    "\n",
    "\n",
    "## second version \n",
    "def matchProperties(nodeClassList, \n",
    "                    query,\n",
    "                    node_identifier, \n",
    "                    match_count, \n",
    "                    mismatches):\n",
    "    \n",
    "    #send query to neo4j\n",
    "    result = runQuery(query(nodeClassList, node_identifier))\n",
    "\n",
    "    # match\n",
    "    if len(result) == 1:\n",
    "        match_count += 1\n",
    "    \n",
    "    # mismatch\n",
    "    elif len(result) == 2:\n",
    "         # todo: extend outputs to dictionary containing all relevant characters\n",
    "        outputs                              = {}\n",
    "        outputs['node_type']                 = nodeClassList[0]\n",
    "        outputs['node_identifier']           = node_identifier\n",
    "        outputs['query']                     = query.__name__\n",
    "        outputs['cyperQuery']                = query(nodeClassList, node_identifier)\n",
    "        outputs[nodeClassList[0]+'_outputs'] = result[0][-1]\n",
    "        outputs[nodeClassList[1]+'_outputs'] = result[1][-1]\n",
    "        \n",
    "        mismatches.append(outputs)\n",
    "    \n",
    "    # something went wrong\n",
    "    else:\n",
    "        raise Exception('Length of query output does not match.')\n",
    "\n",
    "    # return match_count, mismatches and all results without the hash\n",
    "    return match_count, mismatches, result[0][-1]\n"
   ]
  },
  {
   "cell_type": "markdown",
   "metadata": {},
   "source": [
    "### Correctnes check"
   ]
  },
  {
   "cell_type": "code",
   "execution_count": null,
   "metadata": {},
   "outputs": [],
   "source": [
    "# overall parameter\n",
    "mismatches  = []\n",
    "match_count = 0 \n",
    "\n",
    "#timing\n",
    "startTime = time.time()\n",
    "\n",
    "#loop through blocks\n",
    "for block_height in np.arange(start_block_height, end_block_height):\n",
    "    \n",
    "    # check whether returned block properties match\n",
    "    match_count, mismatches, outputs = matchProperties(nodeClassList = blockClasses, \n",
    "                                                       query = getBlockPropertiesByHeightQuery,\n",
    "                                                       node_identifier = block_height,\n",
    "                                                       match_count = match_count,\n",
    "                                                       mismatches = mismatches)\n",
    "    \n",
    "    # check whether returned txids  match\n",
    "    match_count, mismatches, outputs = matchProperties(nodeClassList = blockClasses, \n",
    "                                                       query = getTransactionsFromBlockHeightQuery,\n",
    "                                                       node_identifier = block_height,\n",
    "                                                       match_count = match_count,\n",
    "                                                       mismatches = mismatches)\n",
    "\n",
    "    # loop through all provided txids of the correct block\n",
    "    for txid in outputs:\n",
    "\n",
    "        # match tx properties\n",
    "        match_count, mismatches, outputs = matchProperties(nodeClassList = transactionClasses, \n",
    "                                                           query = getTransactionPropertiesByTxidQuery,\n",
    "                                                           node_identifier = txid, \n",
    "                                                           match_count = match_count,\n",
    "                                                           mismatches = mismatches)\n",
    "        \n",
    "        match_count, mismatches, outputs = matchProperties(nodeClassList = transactionClasses, \n",
    "                                                           query = getAddressFromTransactionIDQuery,\n",
    "                                                           node_identifier = txid, \n",
    "                                                           match_count = match_count,\n",
    "                                                           mismatches = mismatches)\n",
    "        \n",
    "        \n",
    "endTime = np.round((time.time() - startTime),2)\n",
    "print(f'Retrieval execution time in {endTime} seconds.')\n",
    "print('Retrieved blocks: ', 1 + block_height - start_block_height)\n",
    "print(f'\\nMatches: {match_count}; Mismatches: {len(mismatches)}')\n",
    "\n"
   ]
  },
  {
   "cell_type": "markdown",
   "metadata": {},
   "source": [
    "## Mismatch analysis"
   ]
  },
  {
   "cell_type": "code",
   "execution_count": null,
   "metadata": {
    "scrolled": false
   },
   "outputs": [],
   "source": [
    "count = 1\n",
    "for mismatch in mismatches:\n",
    "    print(f'\\n*********************************************************************** \\\n",
    "            \\nMismatch nr. {count} \\\n",
    "            \\n*********************************************************************** ')\n",
    "    for item in mismatch:\n",
    "        print('-', item)\n",
    "        print('  ', mismatch[item])\n",
    "        print('----------')\n",
    "    count += 1 "
   ]
  },
  {
   "cell_type": "markdown",
   "metadata": {},
   "source": [
    "## Error analysis"
   ]
  },
  {
   "cell_type": "code",
   "execution_count": null,
   "metadata": {},
   "outputs": [],
   "source": [
    "# automatically check for error reason / specify what is wrong, based on function\n",
    "# iterate through mismatches"
   ]
  },
  {
   "cell_type": "markdown",
   "metadata": {},
   "source": [
    "# Test section"
   ]
  },
  {
   "cell_type": "code",
   "execution_count": null,
   "metadata": {},
   "outputs": [],
   "source": [
    "##  test settings\n",
    "height=1\n",
    "txid = '60a20bd93aa49ab4b28d514ec10b06e1829ce6818ec06cd3aabd013ebcdc4bb1'\n",
    "blockClass = b\n",
    "txClass = t\n",
    "addrClass = a"
   ]
  },
  {
   "cell_type": "code",
   "execution_count": null,
   "metadata": {},
   "outputs": [],
   "source": [
    "txid = '60a20bd93aa49ab4b28d514ec10b06e1829ce6818ec06cd3aabd013ebcdc4bb1' #there\n",
    "txid = 'd88fbb53146b8662b9e3d58f245d5d7ae0a841e8eb1ad13e8e3e8504a0d8fcea' #missing\n",
    "txid = '9205ce5bdf62cdf04050b302150f5bcf62d998abece5745ade3b996c4889074e' #outsum previously not matching\n",
    "txid = '60a20bd93aa49ab4b28d514ec10b06e1829ce6818ec06cd3aabd013ebcdc4bb1' #multisig one\n",
    "#query = getTransactionPropertiesByTxidQuery(transactionClasses, txid)\n",
    "\n",
    "height = 728\n",
    "#height = 164467\n",
    "\n",
    "#query = getTransactionsFromBlockHeightQuery(blockClasses, height)\n",
    "\n",
    "query = getBlockPropertiesByHeightQuery(blockClasses, height)\n",
    "\n",
    "#query = getAddressFromTransactionIDQuery(transactionClasses, txid)\n",
    "\n",
    "print(query)\n",
    "r = session.run(query).values()\n",
    "print('length: ', len(r))\n",
    "r"
   ]
  },
  {
   "cell_type": "markdown",
   "metadata": {},
   "source": [
    "## Deleting all testnodes"
   ]
  },
  {
   "cell_type": "code",
   "execution_count": null,
   "metadata": {},
   "outputs": [],
   "source": [
    "# delete all test nodes\n",
    "delete_queries = [\n",
    "    'match (t:Block_test) detach delete t',\n",
    "    'match (t:Address_test) detach delete t',\n",
    "    'match (t:Transaction_test) detach delete t']\n",
    "\n",
    "for query in delete_queries:\n",
    "    session.run(query)"
   ]
  },
  {
   "cell_type": "markdown",
   "metadata": {},
   "source": [
    "## End connection"
   ]
  },
  {
   "cell_type": "code",
   "execution_count": null,
   "metadata": {},
   "outputs": [],
   "source": [
    "session.close()\n",
    "driver.close()"
   ]
  }
 ],
 "metadata": {
  "kernelspec": {
   "display_name": "Python 3",
   "language": "python",
   "name": "python3"
  },
  "language_info": {
   "codemirror_mode": {
    "name": "ipython",
    "version": 3
   },
   "file_extension": ".py",
   "mimetype": "text/x-python",
   "name": "python",
   "nbconvert_exporter": "python",
   "pygments_lexer": "ipython3",
   "version": "3.6.10"
  }
 },
 "nbformat": 4,
 "nbformat_minor": 4
}
