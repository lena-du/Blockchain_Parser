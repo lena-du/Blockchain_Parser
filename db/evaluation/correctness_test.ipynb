{
 "cells": [
  {
   "cell_type": "markdown",
   "metadata": {},
   "source": [
    "# Correctness Test"
   ]
  },
  {
   "cell_type": "markdown",
   "metadata": {},
   "source": [
    "## Set up"
   ]
  },
  {
   "cell_type": "code",
   "execution_count": 2,
   "metadata": {
    "scrolled": false
   },
   "outputs": [],
   "source": [
    "from neo4j import GraphDatabase\n",
    "import pandas as pd\n",
    "import numpy as np\n",
    "import time\n",
    "\n",
    "\n",
    "credentialsNeo4j = pd.read_json('../credentialsNeo4j.json')\n",
    "\n",
    "use_local = False\n",
    "location = \"local\"\n",
    "\n",
    "uri = \"neo4j://localhost:\"\n",
    "\n",
    "if use_local == True:\n",
    "    location = 'local'\n",
    "    port     = 7687\n",
    "else:\n",
    "    location = 'server'\n",
    "    port     = 7688\n",
    "    \n",
    "username = credentialsNeo4j[location][0]['user']\n",
    "password = credentialsNeo4j[location][0]['pwd']\n",
    "driver = GraphDatabase.driver(uri + str(port), auth=(username, password))\n",
    "session = driver.session()"
   ]
  },
  {
   "cell_type": "code",
   "execution_count": 10,
   "metadata": {},
   "outputs": [],
   "source": [
    "## parameter settings\n",
    "\n",
    "# original set\n",
    "b = 'Block'\n",
    "t = 'Transaction'\n",
    "a = 'Address'\n",
    "\n",
    "# test set\n",
    "bt = b + '_test'\n",
    "tt = t + '_test'\n",
    "at = a + '_test'\n",
    "\n",
    "# analysis parameters\n",
    "blockClasses       = [b, bt]\n",
    "transactionClasses = [t, tt]\n",
    "addressClasses     = [a, at]\n",
    "start_block_height = 1"
   ]
  },
  {
   "cell_type": "code",
   "execution_count": 4,
   "metadata": {},
   "outputs": [
    {
     "data": {
      "text/plain": [
       "\"height=1\\ntxid = '7b8f901f2244a3dcc9d2757cefe660849d8800a964fda944922df06450468153'\\nblockClass = b\\ntxClass = t\\naddrClass = a\""
      ]
     },
     "execution_count": 4,
     "metadata": {},
     "output_type": "execute_result"
    }
   ],
   "source": [
    "##  test settings\n",
    "'''height=1\n",
    "txid = '7b8f901f2244a3dcc9d2757cefe660849d8800a964fda944922df06450468153'\n",
    "blockClass = b\n",
    "txClass = t\n",
    "addrClass = a'''"
   ]
  },
  {
   "cell_type": "markdown",
   "metadata": {},
   "source": [
    "## Analysis"
   ]
  },
  {
   "cell_type": "markdown",
   "metadata": {},
   "source": [
    "### Functions\n",
    "\n",
    "#### Queries"
   ]
  },
  {
   "cell_type": "code",
   "execution_count": 5,
   "metadata": {},
   "outputs": [],
   "source": [
    "### Blocks\n",
    "## properties\n",
    "def getBlockPropertiesByHeightQuery(blockClass, height):\n",
    "    return f'MATCH (b:{blockClass} {{height: {height}}}) RETURN b'#.format(blockClass, height)\n",
    "\n",
    "## edges\n",
    "def getBlockEdgesByHeightQuery(blockClass, height):\n",
    "    return f'MATCH (b:{blockClass} {{height: {height}}})<-[r]-() RETURN r'\n",
    "\n",
    "\n",
    "###  Transactions\n",
    "## retrieve transactions\n",
    "def getTransactionsFromBlockHeightQuery(blockClass, height):\n",
    "    return f'MATCH (b:{blockClass} {{height: {height}}})<-[:BELONGS_TO]-(t) RETURN t.txid'\n",
    "\n",
    "## TR properties\n",
    "#def getTransactionPropertiesByTxidQuery(txClass, txid):\n",
    "#    return f'MATCH (t:{txClass} {{txid: \\\"{txid}\\\"}}) RETURN t'\n",
    "\n",
    "# alternative version\n",
    "def getTransactionPropertiesByTxidQuery(txClass, txid):\n",
    "    return f'MATCH (t:{txClass} {{txid: \\\"{txid}\\\"}}) RETURN t.txid, t.inDegree, t.outDegree, t.inSum, t.outSum, t.date'\n",
    "\n",
    "### Addresses\n",
    "## retrieve addresses\n",
    "#def getAddressFromTransactionIDQuery(txClass, txid, addrClass):\n",
    "#    return f'MATCH (t:{txClass} {{txid: \\\"{txid}\\\"}})-[]-(a:{addrClass}) RETURN a'\n",
    "\n",
    "# alternative without addressclass\n",
    "def getAddressFromTransactionIDQuery(txClass, txid):\n",
    "    #return f'MATCH (t:{txClass} {{txid: \\\"{txid}\\\"}}) WHERE (t)<-[:SENDS]-(a) OR (t)-[:RECEIVES]->(a) RETURN a'\n",
    "    return f'''\n",
    "    MATCH (t:{txClass} {{txid: \\\"{txid}\\\"}}) WITH t MATCH (a)-[:SENDS]->(t)    RETURN a.address as address\n",
    "    UNION\n",
    "    MATCH (t:{txClass} {{txid: \\\"{txid}\\\"}}) WITH t MATCH (a)<-[:RECEIVES]-(t) RETURN a.address as address\n",
    "    '''\n",
    "    \n",
    "        \n",
    "## properties  \n",
    "def getAddressPropertiesByAddressQuery(addrClass, address):\n",
    "    return f'MATCH (a:{addrClass} {{address: \\\"{address}\\\"}}) RETURN a'\n",
    "\n",
    "# todo: match properties of edges"
   ]
  },
  {
   "cell_type": "markdown",
   "metadata": {},
   "source": [
    "#### Other functions"
   ]
  },
  {
   "cell_type": "code",
   "execution_count": 6,
   "metadata": {},
   "outputs": [],
   "source": [
    "def runQuery(query):\n",
    "#    return session.run(query).data()\n",
    "    return session.run(query)#.values()\n",
    "\n",
    "\n",
    "## second version \n",
    "def matchProperties(nodeClassList, \n",
    "                    query,\n",
    "                    returnType, \n",
    "                    node_identifier, \n",
    "                    match_count, \n",
    "                    mismatches, \n",
    "                    matchAddressProperties=False):\n",
    "    \n",
    "    outputs = []\n",
    "    \n",
    "    #loop through different labels of the nodes\n",
    "    for nodeClass in nodeClassList:\n",
    "        #send query to neo4j\n",
    "        #print(query(nodeClass, node_identifier))\n",
    "        results = runQuery(query(nodeClass, node_identifier))\n",
    "        \n",
    "        \n",
    "        ## strip off data\n",
    "        # data for properties of single node\n",
    "        if returnType == 'data':\n",
    "            results = results.data()\n",
    "            \n",
    "        # values for list of one property\n",
    "        elif returnType == 'values':\n",
    "            results = results.values()\n",
    "            \n",
    "        # parameter missing\n",
    "        else:\n",
    "            raise Exception('returnType not set')\n",
    "        \n",
    "        outputs.append(results)\n",
    "    \n",
    "    \n",
    "    #print(outputs[0])\n",
    "        \n",
    "    if len(outputs) != 2:\n",
    "        raise Exception('Length of query output does not match.')\n",
    "\n",
    "        \n",
    "    # check if equivalent: \n",
    "    ## todo: - extend to comparison of arbitrary many \n",
    "    ##       - extend for addresses (differing in coinbase and in/outdegree)\n",
    "\n",
    "    #outputs arre the same\n",
    "    if compareOutputs(outputs, returnType) == True: \n",
    "        match_count += 1\n",
    "\n",
    "    else:\n",
    "        # todo: extend outputs to dictionary containing all relevant characters\n",
    "        mismatches.append(outputs)\n",
    "\n",
    "    return match_count, mismatches, outputs\n",
    "\n",
    "\n",
    "def compareOutputs(outputs, returnType):\n",
    "    \n",
    "    #outputs = [v for k,v in outputs]\n",
    "    #print(outputs)\n",
    "    match = False \n",
    "    o1 = outputs[0]\n",
    "    o2 = outputs[1]\n",
    "    \n",
    "    if returnType == 'values':\n",
    "        if np.all(np.isin(o1, o2)):\n",
    "            match = True\n",
    "    \n",
    "    elif o1 == o2:\n",
    "        match = True\n",
    "        \n",
    "    return match\n",
    "\n",
    "\n"
   ]
  },
  {
   "cell_type": "markdown",
   "metadata": {},
   "source": [
    "### Correctnes check"
   ]
  },
  {
   "cell_type": "code",
   "execution_count": 9,
   "metadata": {},
   "outputs": [
    {
     "name": "stdout",
     "output_type": "stream",
     "text": [
      "Retrieval execution time in 819.11 seconds.\n",
      "\n",
      "Matches: 4034; Mismatches: 0\n"
     ]
    },
    {
     "data": {
      "text/plain": [
       "[]"
      ]
     },
     "execution_count": 9,
     "metadata": {},
     "output_type": "execute_result"
    }
   ],
   "source": [
    "# overall parameter\n",
    "mismatches  = []\n",
    "match_count = 0 \n",
    "\n",
    "#timing\n",
    "startTime = time.time()\n",
    "\n",
    "#loop through blocks\n",
    "for block_height in np.arange(start_block_height, 1000):\n",
    "    \n",
    "    # check whether returned block properties match\n",
    "    match_count, mismatches, outputs = matchProperties(nodeClassList = blockClasses, \n",
    "                                                       query = getBlockPropertiesByHeightQuery,\n",
    "                                                       returnType = 'data',\n",
    "                                                       node_identifier = block_height,\n",
    "                                                       match_count = match_count,\n",
    "                                                       mismatches = mismatches)\n",
    "    \n",
    "\n",
    "    # check whether returned txids  match\n",
    "    match_count, mismatches, outputs = matchProperties(nodeClassList = blockClasses, \n",
    "                                                       query = getTransactionsFromBlockHeightQuery,\n",
    "                                                       returnType = 'values',\n",
    "                                                       node_identifier = block_height,\n",
    "                                                       match_count = match_count,\n",
    "                                                       mismatches = mismatches)\n",
    "     \n",
    "    # strip off outputs for \n",
    "    txids = []\n",
    "    for tx_list in outputs:\n",
    "        for txid in tx_list:\n",
    "            txids.append(txid)\n",
    "    # deduplicate list. \n",
    "    # -> if one label returns a wrong txid, it will be searched for this in both labels\n",
    "    txids = np.unique(txids)\n",
    "    \n",
    "    # start loop for all txids for that block\n",
    "    for txid in txids:\n",
    "\n",
    "        \n",
    "        # Match tx properties\n",
    "        match_count, mismatches, outputs = matchProperties(nodeClassList = transactionClasses, \n",
    "                                                           query = getTransactionPropertiesByTxidQuery,\n",
    "                                                           returnType = 'data',\n",
    "                                                           node_identifier = txid, \n",
    "                                                           match_count = match_count,\n",
    "                                                           mismatches = mismatches)\n",
    "        # retrieve and match addresses\n",
    "        match_count, mismatches, outputs = matchProperties(nodeClassList = transactionClasses, \n",
    "                                                           query = getAddressFromTransactionIDQuery,\n",
    "                                                           returnType = 'values',\n",
    "                                                           node_identifier = txid, \n",
    "                                                           match_count = match_count,\n",
    "                                                           mismatches = mismatches)\n",
    "\n",
    "        \n",
    "        #### Todo: loop through edges to addresses and check properties\n",
    "\n",
    "        \n",
    "endTime = np.round((time.time() - startTime),2)\n",
    "print(f'Retrieval execution time in {endTime} seconds.')\n",
    "print('Retrieved blocks: ', block_height - start_block_height)\n",
    "print(f'\\nMatches: {match_count}; Mismatches: {len(mismatches)}')\n",
    "mismatches"
   ]
  },
  {
   "cell_type": "markdown",
   "metadata": {},
   "source": [
    "## End connection"
   ]
  },
  {
   "cell_type": "code",
   "execution_count": null,
   "metadata": {},
   "outputs": [],
   "source": [
    "session.close()\n",
    "driver.close()"
   ]
  }
 ],
 "metadata": {
  "kernelspec": {
   "display_name": "Python 3",
   "language": "python",
   "name": "python3"
  },
  "language_info": {
   "codemirror_mode": {
    "name": "ipython",
    "version": 3
   },
   "file_extension": ".py",
   "mimetype": "text/x-python",
   "name": "python",
   "nbconvert_exporter": "python",
   "pygments_lexer": "ipython3",
   "version": "3.6.10"
  }
 },
 "nbformat": 4,
 "nbformat_minor": 4
}
