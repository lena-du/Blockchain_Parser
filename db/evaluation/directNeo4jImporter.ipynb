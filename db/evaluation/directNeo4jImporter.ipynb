{
 "cells": [
  {
   "cell_type": "markdown",
   "metadata": {},
   "source": [
    "# directNeo4jImporter\n",
    "\n",
    "## *! not working yet ! *\n",
    "\n",
    "This file is used to directly push blocks and transactions (incl. addresses to neo4j)"
   ]
  },
  {
   "cell_type": "code",
   "execution_count": null,
   "metadata": {},
   "outputs": [],
   "source": [
    "# parameter handed over\n",
    "kafka_topics =   {\n",
    "    'transaction': 'transactions', \n",
    "    'block': 'blocks'\n",
    "}\n",
    "node_labels = {\n",
    "    'original': {\n",
    "        'block'       : 'Block',\n",
    "        'transaction' : 'Transaction',\n",
    "        'address'     : 'Address'\n",
    "    },\n",
    "    'test': {\n",
    "        'block'       : 'Block_test',\n",
    "        'transaction' : 'Transaction_test',\n",
    "        'address'     : 'Address_test'\n",
    "    }\n",
    "}\n",
    "evaluate_original = False"
   ]
  },
  {
   "cell_type": "code",
   "execution_count": null,
   "metadata": {},
   "outputs": [],
   "source": [
    "# imports\n",
    "import sys\n",
    "from cypher_queries import *\n",
    "sys.path.append(\"../\")\n",
    "from neo4jConnector import startNeo4jSession"
   ]
  },
  {
   "cell_type": "code",
   "execution_count": null,
   "metadata": {},
   "outputs": [],
   "source": [
    "driver, session = startNeo4jSession() \n"
   ]
  },
  {
   "cell_type": "code",
   "execution_count": null,
   "metadata": {},
   "outputs": [],
   "source": [
    "queryBlocks = getCypherQueries(topic = kafka_topics['block'], \n",
    "                               matchOnAddress = False, \n",
    "                               getTemplate = False, \n",
    "                               node_labels = node_labels,\n",
    "                               evaluate_original = False)\n",
    "\n",
    "queryTransactions = getCypherQueries(topic = kafka_topics['transaction'], \n",
    "                               matchOnAddress = False, \n",
    "                               getTemplate = False, \n",
    "                               node_labels = node_labels,\n",
    "                               evaluate_original = False)\n",
    "print(queryTransactions)"
   ]
  },
  {
   "cell_type": "code",
   "execution_count": null,
   "metadata": {},
   "outputs": [],
   "source": [
    "def directNeoImport(startBlock, endBlock):\n",
    "\n",
    "    driver, session = startNeo4jSession() \n",
    "    \n",
    "    for blockheight in range(startBlock,endBlock,getInput):\n",
    "        try:\n",
    "            # retrival of block + transfer to the respective topic\n",
    "            blockhash = getBlockHash(blockheight)\n",
    "            data, block = getblock(blockhash)\n",
    "            \n",
    "            # push to neo4j\n",
    "            \n",
    "            \n",
    "        except:\n",
    "            print('Error handling block at height' + str(blockheight) + 'with blockhash' + str(blockhash))\n",
    "    \n",
    "\n",
    "        # retrival of transactions + transfer to the respective topic\n",
    "        for txid in block['tx'][:]:\n",
    "            try:\n",
    "                tx = gettx(txid,block,getInput)\n",
    "                \n",
    "                # push to neo4j\n",
    "                \n",
    "                \n",
    "            except:\n",
    "                print('Error handling transactions at block' + str(blockheight) + ' with transaction id' + str(txid['txid']))\n",
    "\n",
    "    return "
   ]
  },
  {
   "cell_type": "code",
   "execution_count": null,
   "metadata": {},
   "outputs": [],
   "source": [
    "test = {'txid': '0e3e2357e806b6cdb1f70b54c3a3a17b6714ee1f0e68bebb44a74b1efd512098', 'block_hash': '00000000839a8e6886ab5951d76f411475428afc90947ee320161bbf18eb6048', 'block_date': '2009-01-09', 'outDegree': 1, 'inDegree': 1, 'outSum': 5000000000, 'inSum': 5000000000, 'input_list': [{'addr': 'coinbase', 'val': 5000000000}], 'output_list': [{'addr': '12c6DSiU4Rq3P4ZxziKxzrL5LmMBrzjrJX', 'val': 5000000000, 'outNr': 0}]}\n",
    "\n",
    "#run_tx()"
   ]
  },
  {
   "cell_type": "code",
   "execution_count": null,
   "metadata": {},
   "outputs": [],
   "source": [
    "def run_tx(tx, event):\n",
    "    tx.run(queryTransactions, \n",
    "           txid         = event[\"txid\"], \n",
    "           output_list  = event[\"output_list\"], \n",
    "           block_hash   = event[\"block_hash\"], \n",
    "           inDegree     = event[\"inDegree\"], \n",
    "           outDegree    = event[\"outDegree\"], \n",
    "           outSum       = event[\"outSum\"],\n",
    "           inSum        = event[\"inSum\"],\n",
    "           input_list   = event[\"input_list\"], \n",
    "           block_date   = event[\"block_date\"])\n",
    "\n",
    "\n",
    "with driver.session() as session:\n",
    "    session.write_transaction(run_tx, test)"
   ]
  },
  {
   "cell_type": "code",
   "execution_count": null,
   "metadata": {
    "scrolled": false
   },
   "outputs": [],
   "source": [
    "session.run('Match (n:Block_test) return n LIMIT 5').values()"
   ]
  },
  {
   "cell_type": "code",
   "execution_count": null,
   "metadata": {},
   "outputs": [],
   "source": [
    "#queryTransactions = getCypherQueries(topic = kafka_topics['transaction'], \n",
    "                               evaluation = False, \n",
    "                               matchOnAddress = False, \n",
    "                               getTemplate = False, \n",
    "                               node_labels = node_labels,\n",
    "                               evaluate_original = True)\n",
    "print(queryTransactions)"
   ]
  },
  {
   "cell_type": "code",
   "execution_count": null,
   "metadata": {},
   "outputs": [],
   "source": [
    "queryTransactions"
   ]
  },
  {
   "cell_type": "code",
   "execution_count": null,
   "metadata": {},
   "outputs": [],
   "source": []
  },
  {
   "cell_type": "code",
   "execution_count": null,
   "metadata": {},
   "outputs": [],
   "source": []
  }
 ],
 "metadata": {
  "kernelspec": {
   "display_name": "Python 3 (ipykernel)",
   "language": "python",
   "name": "python3"
  },
  "language_info": {
   "codemirror_mode": {
    "name": "ipython",
    "version": 3
   },
   "file_extension": ".py",
   "mimetype": "text/x-python",
   "name": "python",
   "nbconvert_exporter": "python",
   "pygments_lexer": "ipython3",
   "version": "3.8.10"
  }
 },
 "nbformat": 4,
 "nbformat_minor": 4
}
