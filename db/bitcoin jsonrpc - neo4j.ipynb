{
 "cells": [
  {
   "cell_type": "markdown",
   "metadata": {},
   "source": [
    "# Retrieving data via bitcoin-cli"
   ]
  },
  {
   "cell_type": "code",
   "execution_count": 1,
   "metadata": {},
   "outputs": [],
   "source": [
    "# install necessary python libraries \n",
    "#%pip install python-bitcoinrpc\n",
    "#%pip install paramiko"
   ]
  },
  {
   "cell_type": "code",
   "execution_count": 2,
   "metadata": {},
   "outputs": [],
   "source": [
    "# read credentials from json file \n",
    "import pandas as pd\n",
    "\n",
    "credentials = pd.read_json('credentials.json')"
   ]
  },
  {
   "cell_type": "code",
   "execution_count": 3,
   "metadata": {},
   "outputs": [],
   "source": [
    "# establish ssh connection to the host \n",
    "import paramiko \n",
    "host = \"artemis.uni.ma\"\n",
    "port = 22\n",
    "username = credentials['user'][0]\n",
    "password = credentials['pwd'][0]\n",
    "\n",
    "ssh = paramiko.SSHClient()\n",
    "ssh.set_missing_host_key_policy(paramiko.AutoAddPolicy())\n",
    "ssh.connect(host, port, username, password)"
   ]
  },
  {
   "cell_type": "markdown",
   "metadata": {},
   "source": [
    "## Step 1: Monitor newly incoming files "
   ]
  },
  {
   "cell_type": "code",
   "execution_count": 4,
   "metadata": {},
   "outputs": [],
   "source": [
    "stdin, stdout, stderr = ssh.exec_command(\"bitcoin-cli getblockchaininfo\") # returns the header hash of the most recent block on the best block chain."
   ]
  },
  {
   "cell_type": "code",
   "execution_count": 5,
   "metadata": {},
   "outputs": [
    {
     "name": "stdout",
     "output_type": "stream",
     "text": [
      "000000000000000000099901fbaa4983ca0f7792b73acab7db6578282d57569f\n",
      "683070\n"
     ]
    }
   ],
   "source": [
    "# parse json output\n",
    "import json\n",
    "blockchaininfo = json.loads(stdout.read().decode(\"utf-8\"))\n",
    "\n",
    "bestblockhash = blockchaininfo['bestblockhash']\n",
    "headers = blockchaininfo['headers']\n",
    "print(bestblockhash)\n",
    "print(headers)"
   ]
  },
  {
   "cell_type": "markdown",
   "metadata": {},
   "source": [
    "## Step 2: Get information about the new block"
   ]
  },
  {
   "cell_type": "code",
   "execution_count": 6,
   "metadata": {},
   "outputs": [
    {
     "name": "stdout",
     "output_type": "stream",
     "text": [
      "{\n",
      "    \"block_hash\": \"000000000000000000099901fbaa4983ca0f7792b73acab7db6578282d57569f\",\n",
      "    \"block_height\": 683070,\n",
      "    \"block_timestamp\": \"2021-05-11 09:54:50\",\n",
      "    \"block_date\": \"2021-05-11\",\n",
      "    \"previousblockhash\": \"000000000000000000035a715d554ed41fdd029bf89cb0f8c0ea1027efc28511\"\n",
      "}\n"
     ]
    }
   ],
   "source": [
    "# get blockinfo \n",
    "command = \"bitcoin-cli getblock \" + bestblockhash + \" 2\"\n",
    "stdin, stdout, stderr = ssh.exec_command(command)\n",
    "\n",
    "block = json.loads(stdout.read().decode(\"utf-8\"))\n",
    "\n",
    "from datetime import datetime, timezone\n",
    "ts_epoch = block['time']\n",
    "block_timestamp = datetime.fromtimestamp(ts_epoch)\n",
    "block_date = block_timestamp.strftime('%Y-%m-%d')\n",
    "block_hash = block['hash']\n",
    "block_height = block['height']\n",
    "previousblockhash = block['previousblockhash']\n",
    "# nextblockhash = block['nextblockhash']\n",
    "\n",
    "# build json object\n",
    "data = {}\n",
    "data['block_hash'] = block_hash\n",
    "data['block_height'] = block_height\n",
    "data['block_timestamp'] = str(block_timestamp)\n",
    "data['block_date'] = str(block_date)\n",
    "data['previousblockhash'] = previousblockhash # relevant for PRECEDES relationship\n",
    "# data['nextblockhash'] = nextblockhash\n",
    "json_data = json.dumps(data, indent=4, sort_keys=False)\n",
    "\n",
    "print(json_data)\n"
   ]
  },
  {
   "cell_type": "markdown",
   "metadata": {},
   "source": [
    "## Step 3: Iterate through the list of txids and retrieve information on tx"
   ]
  },
  {
   "cell_type": "code",
   "execution_count": 7,
   "metadata": {},
   "outputs": [
    {
     "data": {
      "text/plain": [
       "{'txid': '89396ac12db5327463777292228eedb9b9ffcd5afde8d1b829346ad7a67f3358',\n",
       " 'hash': '6cb540fac775a3d6099615c79f2ea91ab21330e3fb0da03d2ec3c5a0f3372df6',\n",
       " 'version': 1,\n",
       " 'size': 246,\n",
       " 'vsize': 164,\n",
       " 'weight': 654,\n",
       " 'locktime': 0,\n",
       " 'vin': [{'txid': '1200df64074fb7fce4b40a1f784309a3d1d33fa413cb1df2aeca692d78565468',\n",
       "   'vout': 3,\n",
       "   'scriptSig': {'asm': '00144f6ffebd3dffc5613c334666f24bfe19b47a857a',\n",
       "    'hex': '1600144f6ffebd3dffc5613c334666f24bfe19b47a857a'},\n",
       "   'txinwitness': ['3045022100ab4c3204b23d716fe9f0b35a4b71c786d490822eaf6a6d28bf9ae4f6a998116302203922de278ee736b08d84b50b9859bc9614f087bb4e4967b1f3e560121dbef74a01',\n",
       "    '0311aa8a4c72d2fa87bbd0fbfed71618a99535f0f2c8827cf5cff062d740dd9386'],\n",
       "   'sequence': 4294967295}],\n",
       " 'vout': [{'value': 0.02577948,\n",
       "   'n': 0,\n",
       "   'scriptPubKey': {'asm': '0 0d7e3778ee29e9b036347dd2fbebfa424fe4254d',\n",
       "    'hex': '00140d7e3778ee29e9b036347dd2fbebfa424fe4254d',\n",
       "    'reqSigs': 1,\n",
       "    'type': 'witness_v0_keyhash',\n",
       "    'addresses': ['bc1qp4lrw78w985mqd350hf0h6l6gf87gf2d2hpq0g']}},\n",
       "  {'value': 0.54321,\n",
       "   'n': 1,\n",
       "   'scriptPubKey': {'asm': '0 6b0fa2f5e28761a10bf9e072114da142daf8f96b',\n",
       "    'hex': '00146b0fa2f5e28761a10bf9e072114da142daf8f96b',\n",
       "    'reqSigs': 1,\n",
       "    'type': 'witness_v0_keyhash',\n",
       "    'addresses': ['bc1qdv869a0zsas6zzleupepzndpgtd037ttxz03l2']}}],\n",
       " 'hex': '01000000000101685456782d69caaef21dcb13a43fd3d1a30943781f0ab4e4fcb74f0764df001203000000171600144f6ffebd3dffc5613c334666f24bfe19b47a857affffffff021c562700000000001600140d7e3778ee29e9b036347dd2fbebfa424fe4254d68df3c03000000001600146b0fa2f5e28761a10bf9e072114da142daf8f96b02483045022100ab4c3204b23d716fe9f0b35a4b71c786d490822eaf6a6d28bf9ae4f6a998116302203922de278ee736b08d84b50b9859bc9614f087bb4e4967b1f3e560121dbef74a01210311aa8a4c72d2fa87bbd0fbfed71618a99535f0f2c8827cf5cff062d740dd938600000000',\n",
       " 'blockhash': '000000000000000000099901fbaa4983ca0f7792b73acab7db6578282d57569f',\n",
       " 'confirmations': 2,\n",
       " 'time': 1620719690,\n",
       " 'blocktime': 1620719690}"
      ]
     },
     "metadata": {},
     "output_type": "display_data"
    },
    {
     "name": "stdout",
     "output_type": "stream",
     "text": [
      "{\n",
      "    \"txid\": \"89396ac12db5327463777292228eedb9b9ffcd5afde8d1b829346ad7a67f3358\",\n",
      "    \"block_hash\": \"000000000000000000099901fbaa4983ca0f7792b73acab7db6578282d57569f\",\n",
      "    \"block_date\": \"2021-05-11\",\n",
      "    \"address_list\": [\n",
      "        {\n",
      "            \"addr\": \"bc1qp4lrw78w985mqd350hf0h6l6gf87gf2d2hpq0g\",\n",
      "            \"output_nr\": 0\n",
      "        },\n",
      "        {\n",
      "            \"addr\": \"bc1qdv869a0zsas6zzleupepzndpgtd037ttxz03l2\",\n",
      "            \"output_nr\": 1\n",
      "        }\n",
      "    ],\n",
      "    \"inDegree\": 1,\n",
      "    \"outDegree\": 2,\n",
      "    \"input_list\": [\n",
      "        {\n",
      "            \"txid\": \"1200df64074fb7fce4b40a1f784309a3d1d33fa413cb1df2aeca692d78565468\",\n",
      "            \"output_nr\": 3\n",
      "        }\n",
      "    ]\n",
      "}\n",
      "Execution time in seconds: 104.1369400024414\n"
     ]
    }
   ],
   "source": [
    "###  parse transactions which are contained in one block \n",
    "\n",
    "# Testing section \n",
    "#  - saving a few transactions in list\n",
    "#  - to prevent from parsing all transactions, set parse_all to False\n",
    "parse_all = True \n",
    "c = 0\n",
    "txs_needed = 1\n",
    "offset = 0\n",
    "txs = []\n",
    "\n",
    "\n",
    "# timing of transaction retrieval for one block\n",
    "import time\n",
    "startTime = time.time() # measure execution time\n",
    "\n",
    "\n",
    "# start of parsing !!!! using [1:] to skip coinbase !!!!!\n",
    "for tx in block['tx'][offset:]: \n",
    "    command = \"bitcoin-cli getrawtransaction \" + tx['txid'] + \" true\"\n",
    "    stdin, stdout, stderr = ssh.exec_command(command)\n",
    "    rawtx = json.loads(stdout.read().decode(\"utf-8\"))\n",
    "    \n",
    "    address_list = []  \n",
    "\n",
    "    for o in rawtx['vout']: \n",
    "        # check whether there are output adresses\n",
    "        if 'addresses' in o['scriptPubKey']:\n",
    "            for a in o['scriptPubKey']['addresses']: \n",
    "                # a Python object (dict):\n",
    "                addrObj = {\n",
    "                   \"addr\": a,\n",
    "                    \"output_nr\": o['n']\n",
    "                }\n",
    "                jAddr = json.dumps(addrObj)\n",
    "                # convert json string to Json Dict\n",
    "                jsonDict = json.loads(jAddr)\n",
    "                address_list.append(jsonDict)\n",
    "        \n",
    "    # print json object = one transaction within a block\n",
    "    txdata = {}\n",
    "    txdata['txid'] = tx['txid']\n",
    "    txdata['block_hash'] = block_hash\n",
    "    txdata['block_date'] = str(block_date)\n",
    "    txdata['address_list'] = address_list\n",
    "    txdata['inDegree'] = len(rawtx['vin']) \n",
    "    txdata['outDegree'] = len(rawtx['vout'])\n",
    "    \n",
    "    # creating input list  ## Throwing error for \n",
    "    input_list = []\n",
    "    for i in rawtx['vin']: \n",
    "        # bypassing coinbase transactions!\n",
    "        try:\n",
    "            addrObj = {\n",
    "               \"txid\": i['txid'],\n",
    "                \"output_nr\": i['vout']\n",
    "            }\n",
    "            jAddr = json.dumps(addrObj)\n",
    "            jsonDict = json.loads(jAddr)\n",
    "            input_list.append(jsonDict)\n",
    "        \n",
    "            txdata['input_list'] = input_list\n",
    "        \n",
    "        # reformulate and handle coinbase!\n",
    "        except: pass\n",
    "    \n",
    "    tx_json_data = json.dumps(txdata, indent=4, sort_keys=False)\n",
    "    \n",
    "    \n",
    "    # Testing by sample creation\n",
    "    if parse_all == False:\n",
    "        txs.append(tx_json_data)\n",
    "        c += 1\n",
    "        if c >= txs_needed:\n",
    "            break\n",
    "\n",
    "    #print(tx_json_data)\n",
    "\n",
    "    \n",
    "display(rawtx)\n",
    "print(tx_json_data)    \n",
    "    \n",
    "        \n",
    "executionTime = (time.time() - startTime)\n",
    "print('Execution time in seconds: ' + str(executionTime))"
   ]
  },
  {
   "cell_type": "markdown",
   "metadata": {},
   "source": [
    "## General information Retrieval Test"
   ]
  },
  {
   "cell_type": "code",
   "execution_count": 8,
   "metadata": {},
   "outputs": [
    {
     "name": "stdout",
     "output_type": "stream",
     "text": [
      "{'txid': '89396ac12db5327463777292228eedb9b9ffcd5afde8d1b829346ad7a67f3358', 'hash': '6cb540fac775a3d6099615c79f2ea91ab21330e3fb0da03d2ec3c5a0f3372df6', 'version': 1, 'size': 246, 'vsize': 164, 'weight': 654, 'locktime': 0, 'vin': [{'txid': '1200df64074fb7fce4b40a1f784309a3d1d33fa413cb1df2aeca692d78565468', 'vout': 3, 'scriptSig': {'asm': '00144f6ffebd3dffc5613c334666f24bfe19b47a857a', 'hex': '1600144f6ffebd3dffc5613c334666f24bfe19b47a857a'}, 'txinwitness': ['3045022100ab4c3204b23d716fe9f0b35a4b71c786d490822eaf6a6d28bf9ae4f6a998116302203922de278ee736b08d84b50b9859bc9614f087bb4e4967b1f3e560121dbef74a01', '0311aa8a4c72d2fa87bbd0fbfed71618a99535f0f2c8827cf5cff062d740dd9386'], 'sequence': 4294967295}], 'vout': [{'value': 0.02577948, 'n': 0, 'scriptPubKey': {'asm': '0 0d7e3778ee29e9b036347dd2fbebfa424fe4254d', 'hex': '00140d7e3778ee29e9b036347dd2fbebfa424fe4254d', 'reqSigs': 1, 'type': 'witness_v0_keyhash', 'addresses': ['bc1qp4lrw78w985mqd350hf0h6l6gf87gf2d2hpq0g']}}, {'value': 0.54321, 'n': 1, 'scriptPubKey': {'asm': '0 6b0fa2f5e28761a10bf9e072114da142daf8f96b', 'hex': '00146b0fa2f5e28761a10bf9e072114da142daf8f96b', 'reqSigs': 1, 'type': 'witness_v0_keyhash', 'addresses': ['bc1qdv869a0zsas6zzleupepzndpgtd037ttxz03l2']}}], 'hex': '01000000000101685456782d69caaef21dcb13a43fd3d1a30943781f0ab4e4fcb74f0764df001203000000171600144f6ffebd3dffc5613c334666f24bfe19b47a857affffffff021c562700000000001600140d7e3778ee29e9b036347dd2fbebfa424fe4254d68df3c03000000001600146b0fa2f5e28761a10bf9e072114da142daf8f96b02483045022100ab4c3204b23d716fe9f0b35a4b71c786d490822eaf6a6d28bf9ae4f6a998116302203922de278ee736b08d84b50b9859bc9614f087bb4e4967b1f3e560121dbef74a01210311aa8a4c72d2fa87bbd0fbfed71618a99535f0f2c8827cf5cff062d740dd938600000000', 'blockhash': '000000000000000000099901fbaa4983ca0f7792b73acab7db6578282d57569f', 'confirmations': 2, 'time': 1620719690, 'blocktime': 1620719690}\n"
     ]
    }
   ],
   "source": [
    "command = \"bitcoin-cli getrawtransaction \" + tx['txid'] + \" true\"\n",
    "stdin, stdout, stderr = ssh.exec_command(command)\n",
    "rawtx = json.loads(stdout.read().decode(\"utf-8\"))\n",
    "print(rawtx)"
   ]
  },
  {
   "cell_type": "code",
   "execution_count": 9,
   "metadata": {},
   "outputs": [
    {
     "name": "stdout",
     "output_type": "stream",
     "text": [
      "['1']\n"
     ]
    }
   ],
   "source": [
    "test_list = []\n",
    "test_list.append('1')\n",
    "print(test_list)"
   ]
  },
  {
   "cell_type": "code",
   "execution_count": 10,
   "metadata": {},
   "outputs": [
    {
     "name": "stdout",
     "output_type": "stream",
     "text": [
      "[{'name': 'John', 'age': 30, 'city': 'New York'}]\n"
     ]
    }
   ],
   "source": [
    "test_list = []\n",
    "# a Python object (dict):\n",
    "x = {\n",
    "  \"name\": \"John\",\n",
    "  \"age\": 30,\n",
    "  \"city\": \"New York\"\n",
    "}\n",
    "\n",
    "# convert into JSON string:\n",
    "y = json.dumps(x)\n",
    "# convert json string to Json Dict\n",
    "jsonDict = json.loads(y)\n",
    "test_list.append(jsonDict)\n",
    "\n",
    "print(test_list)"
   ]
  },
  {
   "cell_type": "markdown",
   "metadata": {},
   "source": [
    "## Kafka Producer\n",
    "\n"
   ]
  },
  {
   "cell_type": "code",
   "execution_count": null,
   "metadata": {},
   "outputs": [],
   "source": [
    "%pip install kafka-python"
   ]
  },
  {
   "cell_type": "markdown",
   "metadata": {},
   "source": [
    "#### Example Blocks"
   ]
  },
  {
   "cell_type": "code",
   "execution_count": null,
   "metadata": {},
   "outputs": [],
   "source": [
    "blocks = [ \\\n",
    "{\n",
    "    \"block_hash\": \"0000000000000000000be676cdc68e8f4b7f9a60743f6aa4b63cb8cbbdb9154d\",\n",
    "    \"block_height\": 682948,\n",
    "    \"block_timestamp\": \"2021-05-10 17:16:37\",\n",
    "    \"block_date\": \"2021-05-10\",\n",
    "    \"previousblockhash\": \"0000000000000000000070815fbd03d22c4914cfb0348fbbea3b7f878864a748\"\n",
    "},\n",
    "\n",
    "{\n",
    "    \"block_hash\": \"0000000000000000000130c1c5607bc663835e8ce53ad99d7a9e67c8a99506f0\",\n",
    "    \"block_height\": 682949,\n",
    "    \"block_timestamp\": \"2021-05-10 17:34:30\",\n",
    "    \"block_date\": \"2021-05-10\",\n",
    "    \"previousblockhash\": \"0000000000000000000be676cdc68e8f4b7f9a60743f6aa4b63cb8cbbdb9154d\"\n",
    "},\n",
    "\n",
    "{\n",
    "    \"block_hash\": \"000000000000000000018c81e5c4ce50114eab530aa3a7c01d4dc171fa16bf03\",\n",
    "    \"block_height\": 682950,\n",
    "    \"block_timestamp\": \"2021-05-10 17:45:30\",\n",
    "    \"block_date\": \"2021-05-10\",\n",
    "    \"previousblockhash\": \"0000000000000000000130c1c5607bc663835e8ce53ad99d7a9e67c8a99506f0\"\n",
    "},\n",
    "\n",
    "{\n",
    "    \"block_hash\": \"00000000000000000005aeb509abd1c98af7db195a6e57898e1273e7a50eed51\",\n",
    "    \"block_height\": 682951,\n",
    "    \"block_timestamp\": \"2021-05-10 17:45:57\",\n",
    "    \"block_date\": \"2021-05-10\",\n",
    "    \"previousblockhash\": \"000000000000000000018c81e5c4ce50114eab530aa3a7c01d4dc171fa16bf03\"\n",
    "},\n",
    "\n",
    "{\n",
    "    \"block_hash\": \"000000000000000000056e16b2d1d46e0370f0277bb7b62dfb88db2a2e400d8c\",\n",
    "    \"block_height\": 682952,\n",
    "    \"block_timestamp\": \"2021-05-10 17:52:50\",\n",
    "    \"block_date\": \"2021-05-10\",\n",
    "    \"previousblockhash\": \"00000000000000000005aeb509abd1c98af7db195a6e57898e1273e7a50eed51\"\n",
    "},\n",
    "\n",
    "{\n",
    "    \"block_hash\": \"00000000000000000003c54646926bcdafa0bd3fe194564cbca2e44d1ac7bb4f\",\n",
    "    \"block_height\": 682953,\n",
    "    \"block_timestamp\": \"2021-05-10 17:57:14\",\n",
    "    \"block_date\": \"2021-05-10\",\n",
    "    \"previousblockhash\": \"000000000000000000056e16b2d1d46e0370f0277bb7b62dfb88db2a2e400d8c\"\n",
    "},\n",
    "\n",
    "{\n",
    "    \"block_hash\": \"0000000000000000000d9d791740148bc2e80501219697399bafa73a12717c5a\",\n",
    "    \"block_height\": 682954,\n",
    "    \"block_timestamp\": \"2021-05-10 17:57:14\",\n",
    "    \"block_date\": \"2021-05-10\",\n",
    "    \"previousblockhash\": \"00000000000000000003c54646926bcdafa0bd3fe194564cbca2e44d1ac7bb4f\"\n",
    "},\n",
    "\n",
    "{\n",
    "    \"block_hash\": \"0000000000000000000483beb70ad8fd8475da0cd0417499c5a310ef6ddb3561\",\n",
    "    \"block_height\": 682955,\n",
    "    \"block_timestamp\": \"2021-05-10 17:59:06\",\n",
    "    \"block_date\": \"2021-05-10\",\n",
    "    \"previousblockhash\": \"0000000000000000000d9d791740148bc2e80501219697399bafa73a12717c5a\"\n",
    "}]"
   ]
  },
  {
   "cell_type": "markdown",
   "metadata": {},
   "source": [
    "#### Pushing them to the \"blocks\" topic"
   ]
  },
  {
   "cell_type": "code",
   "execution_count": null,
   "metadata": {},
   "outputs": [],
   "source": [
    "import json\n",
    "from kafka import KafkaProducer\n",
    "producer = KafkaProducer(bootstrap_servers='localhost:9092')\n",
    "producer = KafkaProducer(value_serializer=lambda v: json.dumps(v).encode('utf-8'))"
   ]
  },
  {
   "cell_type": "code",
   "execution_count": null,
   "metadata": {},
   "outputs": [],
   "source": [
    "# Block test\n",
    "for i in range(len(blocks)):\n",
    "    producer.send('blocks', blocks[i])"
   ]
  }
 ],
 "metadata": {
  "kernelspec": {
   "display_name": "Python 3",
   "language": "python",
   "name": "python3"
  },
  "language_info": {
   "codemirror_mode": {
    "name": "ipython",
    "version": 3
   },
   "file_extension": ".py",
   "mimetype": "text/x-python",
   "name": "python",
   "nbconvert_exporter": "python",
   "pygments_lexer": "ipython3",
   "version": "3.6.10"
  }
 },
 "nbformat": 4,
 "nbformat_minor": 4
}
