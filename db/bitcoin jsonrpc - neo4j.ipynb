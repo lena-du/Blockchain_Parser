{
 "cells": [
  {
   "cell_type": "markdown",
   "metadata": {},
   "source": [
    "# Retrieving data via bitcoin-cli"
   ]
  },
  {
   "cell_type": "code",
   "execution_count": null,
   "metadata": {},
   "outputs": [],
   "source": [
    "# install necessary python libraries \n",
    "%pip install python-bitcoinrpc\n",
    "%pip install paramiko"
   ]
  },
  {
   "cell_type": "code",
   "execution_count": null,
   "metadata": {},
   "outputs": [],
   "source": [
    "# read credentials from json file \n",
    "import pandas as pd\n",
    "\n",
    "credentials = pd.read_json('credentials.json')"
   ]
  },
  {
   "cell_type": "code",
   "execution_count": null,
   "metadata": {},
   "outputs": [],
   "source": [
    "# establish ssh connection to the host \n",
    "import paramiko \n",
    "host = \"artemis.uni.ma\"\n",
    "port = 22\n",
    "username = credentials['user'][0]\n",
    "password = credentials['pwd'][0]\n",
    "\n",
    "ssh = paramiko.SSHClient()\n",
    "ssh.set_missing_host_key_policy(paramiko.AutoAddPolicy())\n",
    "ssh.connect(host, port, username, password)"
   ]
  },
  {
   "cell_type": "markdown",
   "metadata": {},
   "source": [
    "## Step 1: Monitor newly incoming files "
   ]
  },
  {
   "cell_type": "code",
   "execution_count": null,
   "metadata": {},
   "outputs": [],
   "source": [
    "stdin, stdout, stderr = ssh.exec_command(\"bitcoin-cli getblockchaininfo\") # returns the header hash of the most recent block on the best block chain."
   ]
  },
  {
   "cell_type": "code",
   "execution_count": null,
   "metadata": {},
   "outputs": [],
   "source": [
    "# parse json output\n",
    "import json\n",
    "blockchaininfo = json.loads(stdout.read().decode(\"utf-8\"))\n",
    "\n",
    "bestblockhash = blockchaininfo['bestblockhash']\n",
    "headers = blockchaininfo['headers']\n",
    "print(bestblockhash)\n",
    "print(headers)"
   ]
  },
  {
   "cell_type": "markdown",
   "metadata": {},
   "source": [
    "## Step 2: Get information about the new block"
   ]
  },
  {
   "cell_type": "code",
   "execution_count": null,
   "metadata": {},
   "outputs": [],
   "source": [
    "# get blockinfo \n",
    "command = \"bitcoin-cli getblock \" + bestblockhash + \" 2\"\n",
    "stdin, stdout, stderr = ssh.exec_command(command)\n",
    "\n",
    "block = json.loads(stdout.read().decode(\"utf-8\"))\n",
    "\n",
    "from datetime import datetime, timezone\n",
    "ts_epoch = block['time']\n",
    "block_timestamp = datetime.fromtimestamp(ts_epoch)\n",
    "block_date = block_timestamp.strftime('%Y-%m-%d')\n",
    "block_hash = block['hash']\n",
    "block_height = block['height']\n",
    "previousblockhash = block['previousblockhash']\n",
    "# nextblockhash = block['nextblockhash']\n",
    "\n",
    "# build json object\n",
    "data = {}\n",
    "data['block_hash'] = block_hash\n",
    "data['block_height'] = block_height\n",
    "data['block_timestamp'] = str(block_timestamp)\n",
    "data['block_date'] = str(block_date)\n",
    "data['previousblockhash'] = previousblockhash # relevant for PRECEDES relationship\n",
    "# data['nextblockhash'] = nextblockhash\n",
    "json_data = json.dumps(data, indent=4, sort_keys=False)\n",
    "\n",
    "print(json_data)\n"
   ]
  },
  {
   "cell_type": "markdown",
   "metadata": {},
   "source": [
    "## Step 3: Iterate through the list of txids and retrieve information on tx"
   ]
  },
  {
   "cell_type": "code",
   "execution_count": null,
   "metadata": {},
   "outputs": [],
   "source": [
    "# parse transactions which are contained in one block \n",
    "\n",
    "import time\n",
    "startTime = time.time() # measure execution time\n",
    "\n",
    "for tx in block['tx']: \n",
    "    command = \"bitcoin-cli getrawtransaction \" + tx['txid'] + \" true\"\n",
    "    stdin, stdout, stderr = ssh.exec_command(command)\n",
    "    rawtx = json.loads(stdout.read().decode(\"utf-8\"))\n",
    "    \n",
    "    address_list = []  \n",
    "\n",
    "    for o in rawtx['vout']: \n",
    "        # check whether there are output adresses\n",
    "        if 'addresses' in o['scriptPubKey']:\n",
    "            for a in o['scriptPubKey']['addresses']: \n",
    "                # a Python object (dict):\n",
    "                addrObj = {\n",
    "                   \"addr\": a,\n",
    "                    \"outNr\": o['n']\n",
    "                }\n",
    "                jAddr = json.dumps(addrObj)\n",
    "                # convert json string to Json Dict\n",
    "                jsonDict = json.loads(jAddr)\n",
    "                address_list.append(jsonDict)\n",
    "        \n",
    "    # print json object = one transaction within a block\n",
    "    txdata = {}\n",
    "    txdata['txid'] = tx['txid']\n",
    "    txdata['block_hash'] = block_hash\n",
    "    txdata['block_date'] = str(block_date)\n",
    "    txdata['address_list'] = address_list\n",
    "    txdata['inDegree'] = len(rawtx['vin']) \n",
    "    txdata['outDegree'] = len(rawtx['vout'])\n",
    "    tx_json_data = json.dumps(txdata, indent=4, sort_keys=False)\n",
    "\n",
    "    print(tx_json_data)\n",
    "    \n",
    "    \n",
    "        \n",
    "executionTime = (time.time() - startTime)\n",
    "print('Execution time in seconds: ' + str(executionTime))"
   ]
  },
  {
   "cell_type": "code",
   "execution_count": null,
   "metadata": {},
   "outputs": [],
   "source": [
    "command = \"bitcoin-cli getrawtransaction \" + tx['txid'] + \" true\"\n",
    "stdin, stdout, stderr = ssh.exec_command(command)\n",
    "rawtx = json.loads(stdout.read().decode(\"utf-8\"))\n",
    "print(rawtx)"
   ]
  },
  {
   "cell_type": "code",
   "execution_count": null,
   "metadata": {},
   "outputs": [],
   "source": [
    "test_list = []\n",
    "test_list.append('1')\n",
    "print(test_list)"
   ]
  },
  {
   "cell_type": "code",
   "execution_count": null,
   "metadata": {},
   "outputs": [],
   "source": [
    "test_list = []\n",
    "# a Python object (dict):\n",
    "x = {\n",
    "  \"name\": \"John\",\n",
    "  \"age\": 30,\n",
    "  \"city\": \"New York\"\n",
    "}\n",
    "\n",
    "# convert into JSON string:\n",
    "y = json.dumps(x)\n",
    "# convert json string to Json Dict\n",
    "jsonDict = json.loads(y)\n",
    "test_list.append(jsonDict)\n",
    "\n",
    "print(test_list)"
   ]
  },
  {
   "cell_type": "code",
   "execution_count": null,
   "metadata": {},
   "outputs": [],
   "source": []
  }
 ],
 "metadata": {
  "kernelspec": {
   "display_name": "Python 3",
   "language": "python",
   "name": "python3"
  },
  "language_info": {
   "codemirror_mode": {
    "name": "ipython",
    "version": 3
   },
   "file_extension": ".py",
   "mimetype": "text/x-python",
   "name": "python",
   "nbconvert_exporter": "python",
   "pygments_lexer": "ipython3",
   "version": "3.8.5"
  }
 },
 "nbformat": 4,
 "nbformat_minor": 4
}
