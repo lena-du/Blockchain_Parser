{
  "nbformat": 4,
  "nbformat_minor": 0,
  "metadata": {
    "colab": {
      "name": "pipelineP1-testing.ipynb",
      "provenance": [],
      "collapsed_sections": [],
      "authorship_tag": "ABX9TyNn+RXtQpPUrv+8a/ed9Baq"
    },
    "kernelspec": {
      "name": "python3",
      "display_name": "Python 3"
    },
    "language_info": {
      "name": "python"
    }
  },
  "cells": [
    {
      "cell_type": "code",
      "metadata": {
        "id": "3xj4hVimKcJl"
      },
      "source": [
        "\n",
        "from bitcoin_rpc import * \n",
        "\n",
        "startTime = time.time()\n",
        "\n",
        "for blockheight in range(1,1001):\n",
        "  try:\n",
        "    # retrival of block + transfer to respective topic \n",
        "    blockhash = getBlockHash(blockheight)\n",
        "    data, block = getblock(blockhash)\n",
        "    producer.send('blocks', data)\n",
        "  except:\n",
        "    print(\"Error handling block at length\" + blockheight)\n",
        "\n",
        "  try:\n",
        "    # retrival of transactions + transfer to respective topic\n",
        "    for txid in block['tx'][:]:\n",
        "      tx = gettx(txid,block)\n",
        "      producer.send('transactions', tx)\n",
        "  except:\n",
        "    print(\"Error handling transactions at block\" + blockheight + ' with transaction id' + txid)\n",
        "\n",
        "\n",
        "\n",
        "endTime = (time.time() - startTime)\n",
        "print('Execution time in seconds: ' + str(endTime))"
      ],
      "execution_count": null,
      "outputs": []
    }
  ]
}