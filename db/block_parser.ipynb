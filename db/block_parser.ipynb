{
 "cells": [
  {
   "cell_type": "markdown",
   "metadata": {},
   "source": [
    "## Blockchain parser test\n",
    "Using blk00000.dat"
   ]
  },
  {
   "cell_type": "code",
   "execution_count": 1,
   "metadata": {},
   "outputs": [],
   "source": [
    "import os\n",
    "from blockchain_parser.blockchain import Blockchain"
   ]
  },
  {
   "cell_type": "code",
   "execution_count": 2,
   "metadata": {},
   "outputs": [
    {
     "name": "stdout",
     "output_type": "stream",
     "text": [
      "last transaction:  2011-04-25 03:22:45 000000000000b55a58b25653b4b418a9e43ecc47d1eaf3b5a90ee8790e7579b5\n",
      "Blocks:  119964\n",
      "TXs:  435139\n",
      "outputs:  653859\n"
     ]
    }
   ],
   "source": [
    "''' \n",
    "    Taken from https://github.com/alecalve/python-bitcoin-blockchain-parser  -  not the forked one by Jochen\n",
    "'''\n",
    "\n",
    "# Instantiate the Blockchain by giving the path to the directory\n",
    "# containing the .blk files created by bitcoind\n",
    "\n",
    "c = 0\n",
    "tc = 0\n",
    "bc = 0\n",
    "outputnrs = []\n",
    "outputvalues = []\n",
    "\n",
    "try:\n",
    "    blockchain = Blockchain(os.path.expanduser('./data/blocks'))\n",
    "    for block in blockchain.get_unordered_blocks():\n",
    "        for tx in block.transactions:\n",
    "            for no, output in enumerate(tx.outputs):\n",
    "                #print(\"tx=%s outputno=%d type=%s value=%s\" % (tx.hash, no, output.type, output.value))\n",
    "                outputnrs.append(no)\n",
    "                outputvalues.append(output.value)\n",
    "                \n",
    "                c += 1\n",
    "                #if c >= 10:\n",
    "                #    raise StopIteration\n",
    "            tc += 1\n",
    "        bc += 1\n",
    "        t = block.header.timestamp\n",
    "        h = block.hash\n",
    "        #raise StopIteration\n",
    "        \n",
    "except StopIteration: pass\n",
    "print('last transaction: ', t, h)\n",
    "\n",
    "print('Blocks: ', bc)\n",
    "print('TXs: ', tc)\n",
    "print('outputs: ', c)"
   ]
  },
  {
   "cell_type": "markdown",
   "metadata": {},
   "source": [
    "## Histogramms"
   ]
  },
  {
   "cell_type": "code",
   "execution_count": 3,
   "metadata": {},
   "outputs": [
    {
     "data": {
      "text/plain": [
       "(array([6.36825e+05, 5.46000e+03, 4.27000e+03, 2.90300e+03, 1.77500e+03,\n",
       "        1.11100e+03, 6.69000e+02, 4.47000e+02, 2.41000e+02, 1.58000e+02]),\n",
       " array([ 0. ,  9.9, 19.8, 29.7, 39.6, 49.5, 59.4, 69.3, 79.2, 89.1, 99. ]),\n",
       " <BarContainer object of 10 artists>)"
      ]
     },
     "execution_count": 3,
     "metadata": {},
     "output_type": "execute_result"
    },
    {
     "data": {
      "image/png": "[encoded data removed]",
      "text/plain": [
       "<Figure size 432x288 with 1 Axes>"
      ]
     },
     "metadata": {
      "needs_background": "light"
     },
     "output_type": "display_data"
    }
   ],
   "source": [
    "import matplotlib.pyplot as plt\n",
    "plt.hist(outputnrs)"
   ]
  },
  {
   "cell_type": "code",
   "execution_count": 4,
   "metadata": {},
   "outputs": [
    {
     "data": {
      "text/plain": [
       "(array([6.53696e+05, 1.02000e+02, 5.10000e+01, 8.00000e+00, 0.00000e+00,\n",
       "        0.00000e+00, 1.00000e+00, 0.00000e+00, 0.00000e+00, 1.00000e+00]),\n",
       " array([0.0e+00, 4.0e+12, 8.0e+12, 1.2e+13, 1.6e+13, 2.0e+13, 2.4e+13,\n",
       "        2.8e+13, 3.2e+13, 3.6e+13, 4.0e+13]),\n",
       " <BarContainer object of 10 artists>)"
      ]
     },
     "execution_count": 4,
     "metadata": {},
     "output_type": "execute_result"
    },
    {
     "data": {
      "image/png": "[encoded data removed]",
      "text/plain": [
       "<Figure size 432x288 with 1 Axes>"
      ]
     },
     "metadata": {
      "needs_background": "light"
     },
     "output_type": "display_data"
    }
   ],
   "source": [
    "plt.hist(outputvalues)"
   ]
  },
  {
   "cell_type": "markdown",
   "metadata": {},
   "source": [
    "## Conversion to csv files for Neo4j"
   ]
  },
  {
   "cell_type": "code",
   "execution_count": 5,
   "metadata": {},
   "outputs": [],
   "source": [
    "''' \n",
    "    Taken from https://github.com/SchaeferJ/Blockchain_Parser/blob/master/btc-to-csv.py\n",
    "'''\n",
    "\n",
    "for tx in block.transactions:\n",
    "    tx_id = tx.txid\n",
    "\n",
    "    outputs = []\n",
    "    addresses = []\n",
    "    receives = []\n",
    "    inSum = 0\n",
    "    outSum = 0\n",
    "    inDegree = 0\n",
    "    for o in range(len(tx.outputs)):\n",
    "        try:\n",
    "            # Create a list of outputs, where each output is itself a list comprising value, receiving address and\n",
    "            # output number.\n",
    "            addr = tx.outputs[o].addresses[0].address\n",
    "            val = tx.outputs[o].value\n",
    "            outSum += val\n",
    "            outputs.append([val, addr, o])\n",
    "            receives.append([tx_id, val, o, addr, 'RECEIVES'])\n",
    "            addresses.append([addr])\n",
    "        except Exception as e:\n",
    "            val = tx.outputs[o].value\n",
    "            outSum += val\n",
    "            outputs.append([val, 'unknown', o])\n",
    "            pass"
   ]
  },
  {
   "cell_type": "code",
   "execution_count": 6,
   "metadata": {},
   "outputs": [
    {
     "data": {
      "text/plain": [
       "[['3511d57b5d64df0c1ba7c8b9d16ecdad7ea032e31003ac76abb9118e50ccea67',\n",
       "  2802000000,\n",
       "  0,\n",
       "  '1FabnFuatDMP15qmG8B66sw4uDjjUumW2b',\n",
       "  'RECEIVES'],\n",
       " ['3511d57b5d64df0c1ba7c8b9d16ecdad7ea032e31003ac76abb9118e50ccea67',\n",
       "  5000000,\n",
       "  1,\n",
       "  '12DsinE3HnKj3cqaZZ523QfTmaoNy6jo4S',\n",
       "  'RECEIVES']]"
      ]
     },
     "execution_count": 6,
     "metadata": {},
     "output_type": "execute_result"
    }
   ],
   "source": [
    "receives"
   ]
  },
  {
   "cell_type": "markdown",
   "metadata": {},
   "source": [
    "## Blcockchain parser properties"
   ]
  },
  {
   "cell_type": "code",
   "execution_count": 7,
   "metadata": {},
   "outputs": [
    {
     "data": {
      "text/plain": [
       "'12DsinE3HnKj3cqaZZ523QfTmaoNy6jo4S'"
      ]
     },
     "execution_count": 7,
     "metadata": {},
     "output_type": "execute_result"
    }
   ],
   "source": [
    "tx.outputs[1].addresses[0].address"
   ]
  },
  {
   "cell_type": "code",
   "execution_count": 8,
   "metadata": {},
   "outputs": [
    {
     "data": {
      "text/plain": [
       "Input(946b547d6103956ef9d93f3142c0a190d7ca58f505bcd21e9bda833ebecebb30,0)"
      ]
     },
     "execution_count": 8,
     "metadata": {},
     "output_type": "execute_result"
    }
   ],
   "source": [
    "len(tx.outputs)\n",
    "tx.txid\n",
    "tx.inputs[0]"
   ]
  },
  {
   "cell_type": "code",
   "execution_count": 9,
   "metadata": {},
   "outputs": [
    {
     "name": "stdout",
     "output_type": "stream",
     "text": [
      "2011-04-25 03:22:45\n"
     ]
    }
   ],
   "source": [
    "print(block.header.timestamp)"
   ]
  },
  {
   "cell_type": "code",
   "execution_count": 10,
   "metadata": {},
   "outputs": [
    {
     "data": {
      "text/plain": [
       "0"
      ]
     },
     "execution_count": 10,
     "metadata": {},
     "output_type": "execute_result"
    }
   ],
   "source": [
    "tx.inputs[0].transaction_index"
   ]
  },
  {
   "cell_type": "code",
   "execution_count": 11,
   "metadata": {},
   "outputs": [
    {
     "data": {
      "text/plain": [
       "False"
      ]
     },
     "execution_count": 11,
     "metadata": {},
     "output_type": "execute_result"
    }
   ],
   "source": [
    "tx.is_coinbase()"
   ]
  },
  {
   "cell_type": "code",
   "execution_count": 12,
   "metadata": {},
   "outputs": [
    {
     "data": {
      "text/plain": [
       "'3511d57b5d64df0c1ba7c8b9d16ecdad7ea032e31003ac76abb9118e50ccea67'"
      ]
     },
     "execution_count": 12,
     "metadata": {},
     "output_type": "execute_result"
    }
   ],
   "source": [
    "tx.txid"
   ]
  },
  {
   "cell_type": "code",
   "execution_count": null,
   "metadata": {},
   "outputs": [],
   "source": []
  }
 ],
 "metadata": {
  "kernelspec": {
   "display_name": "Python 3",
   "language": "python",
   "name": "python3"
  },
  "language_info": {
   "codemirror_mode": {
    "name": "ipython",
    "version": 3
   },
   "file_extension": ".py",
   "mimetype": "text/x-python",
   "name": "python",
   "nbconvert_exporter": "python",
   "pygments_lexer": "ipython3",
   "version": "3.6.13"
  }
 },
 "nbformat": 4,
 "nbformat_minor": 4
}
