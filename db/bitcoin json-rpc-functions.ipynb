{
 "cells": [
  {
   "cell_type": "code",
   "execution_count": 1,
   "metadata": {},
   "outputs": [],
   "source": [
    "# read credentials from file \n",
    "import pandas as pd\n",
    "import json\n",
    "\n",
    "credentials = pd.read_json('credentials.json')"
   ]
  },
  {
   "cell_type": "code",
   "execution_count": 2,
   "metadata": {},
   "outputs": [],
   "source": [
    "# establish ssh connection to the host \n",
    "import paramiko \n",
    "host = \"artemis.uni.ma\"\n",
    "port = 22\n",
    "username = credentials['user'][0]\n",
    "password = credentials['pwd'][0]\n",
    "\n",
    "ssh = paramiko.SSHClient()\n",
    "ssh.set_missing_host_key_policy(paramiko.AutoAddPolicy())\n",
    "ssh.connect(host, port, username, password)"
   ]
  },
  {
   "cell_type": "markdown",
   "metadata": {},
   "source": [
    "# Complete Process\n",
    "continuously monitor the bestblockhash - returns the tip of the blockchain"
   ]
  },
  {
   "cell_type": "code",
   "execution_count": 3,
   "metadata": {},
   "outputs": [],
   "source": [
    "def getBestBlockHash():\n",
    "    # get best blockhash - returns the header hash of the most recent block on the best block chain\n",
    "    stdin, stdout, stderr = ssh.exec_command(\"bitcoin-cli getblockchaininfo\")\n",
    "    blockchaininfo = json.loads(stdout.read().decode(\"utf-8\"))\n",
    "    bestblockhash = blockchaininfo['bestblockhash']\n",
    "    return bestblockhash"
   ]
  },
  {
   "cell_type": "code",
   "execution_count": 4,
   "metadata": {},
   "outputs": [],
   "source": [
    "def getBlockHash(height):\n",
    "    # retrieve block hash by height of block\n",
    "    stdin, stdout, stderr = ssh.exec_command(f\"bitcoin-cli getblockhash {height}\")\n",
    "    block_hash = stdout.read().decode(\"utf-8\")[:-1]\n",
    "    return block_hash\n"
   ]
  },
  {
   "cell_type": "code",
   "execution_count": 5,
   "metadata": {},
   "outputs": [],
   "source": [
    "def getblock(blockhash): \n",
    "    command = \"bitcoin-cli getblock \" + blockhash + \" 2\"\n",
    "    stdin, stdout, stderr = ssh.exec_command(command)\n",
    "    block = json.loads(stdout.read().decode(\"utf-8\"))\n",
    "\n",
    "    # filter relevant blockinfo\n",
    "    from datetime import datetime, timezone\n",
    "    ts_epoch = block['time']\n",
    "    block_timestamp = datetime.fromtimestamp(ts_epoch)\n",
    "    block_median_time = block_timestamp.strftime('%Y-%m-%dT%H:%M')\n",
    "    block_date = block_timestamp.strftime('%Y-%m-%d')\n",
    "    block_hash = block['hash']\n",
    "    block_height = block['height']\n",
    "    # handling genesis block\n",
    "    if block_height != 0:\n",
    "        previousblockhash = block['previousblockhash']\n",
    "\n",
    "    # build json object\n",
    "    data = {}\n",
    "    data['block_hash'] = block_hash\n",
    "    data['block_height'] = block_height\n",
    "    data['block_median_time'] = str(block_median_time) # change timestamp to median_time\n",
    "    data['block_date'] = str(block_date)\n",
    "    if block_height != 0:\n",
    "        data['previousblockhash'] = previousblockhash\n",
    "        \n",
    "\n",
    "    return data, block"
   ]
  },
  {
   "cell_type": "code",
   "execution_count": 6,
   "metadata": {},
   "outputs": [
    {
     "ename": "JSONDecodeError",
     "evalue": "Expecting value: line 1 column 1 (char 0)",
     "output_type": "error",
     "traceback": [
      "\u001b[0;31m---------------------------------------------------------------------------\u001b[0m",
      "\u001b[0;31mJSONDecodeError\u001b[0m                           Traceback (most recent call last)",
      "\u001b[0;32m<ipython-input-6-eef99b121fcf>\u001b[0m in \u001b[0;36m<module>\u001b[0;34m\u001b[0m\n\u001b[1;32m      1\u001b[0m \u001b[0;31m#example block information retrieval\u001b[0m\u001b[0;34m\u001b[0m\u001b[0;34m\u001b[0m\u001b[0;34m\u001b[0m\u001b[0m\n\u001b[0;32m----> 2\u001b[0;31m \u001b[0mdata\u001b[0m\u001b[0;34m,\u001b[0m \u001b[0mblock\u001b[0m \u001b[0;34m=\u001b[0m \u001b[0mgetblock\u001b[0m\u001b[0;34m(\u001b[0m\u001b[0mgetBlockHash\u001b[0m\u001b[0;34m(\u001b[0m\u001b[0;36m600000\u001b[0m\u001b[0;34m)\u001b[0m\u001b[0;34m)\u001b[0m\u001b[0;34m\u001b[0m\u001b[0;34m\u001b[0m\u001b[0m\n\u001b[0m\u001b[1;32m      3\u001b[0m \u001b[0mjson_data\u001b[0m \u001b[0;34m=\u001b[0m \u001b[0mjson\u001b[0m\u001b[0;34m.\u001b[0m\u001b[0mdumps\u001b[0m\u001b[0;34m(\u001b[0m\u001b[0mdata\u001b[0m\u001b[0;34m,\u001b[0m \u001b[0mindent\u001b[0m\u001b[0;34m=\u001b[0m\u001b[0;36m4\u001b[0m\u001b[0;34m,\u001b[0m \u001b[0msort_keys\u001b[0m\u001b[0;34m=\u001b[0m\u001b[0;32mFalse\u001b[0m\u001b[0;34m)\u001b[0m\u001b[0;34m\u001b[0m\u001b[0;34m\u001b[0m\u001b[0m\n\u001b[1;32m      4\u001b[0m \u001b[0;31m#print(json_data)\u001b[0m\u001b[0;34m\u001b[0m\u001b[0;34m\u001b[0m\u001b[0;34m\u001b[0m\u001b[0m\n",
      "\u001b[0;32m<ipython-input-5-18fc5b964926>\u001b[0m in \u001b[0;36mgetblock\u001b[0;34m(blockhash)\u001b[0m\n\u001b[1;32m      2\u001b[0m     \u001b[0mcommand\u001b[0m \u001b[0;34m=\u001b[0m \u001b[0;34m\"bitcoin-cli getblock \"\u001b[0m \u001b[0;34m+\u001b[0m \u001b[0mblockhash\u001b[0m \u001b[0;34m+\u001b[0m \u001b[0;34m\" 2\"\u001b[0m\u001b[0;34m\u001b[0m\u001b[0;34m\u001b[0m\u001b[0m\n\u001b[1;32m      3\u001b[0m     \u001b[0mstdin\u001b[0m\u001b[0;34m,\u001b[0m \u001b[0mstdout\u001b[0m\u001b[0;34m,\u001b[0m \u001b[0mstderr\u001b[0m \u001b[0;34m=\u001b[0m \u001b[0mssh\u001b[0m\u001b[0;34m.\u001b[0m\u001b[0mexec_command\u001b[0m\u001b[0;34m(\u001b[0m\u001b[0mcommand\u001b[0m\u001b[0;34m)\u001b[0m\u001b[0;34m\u001b[0m\u001b[0;34m\u001b[0m\u001b[0m\n\u001b[0;32m----> 4\u001b[0;31m     \u001b[0mblock\u001b[0m \u001b[0;34m=\u001b[0m \u001b[0mjson\u001b[0m\u001b[0;34m.\u001b[0m\u001b[0mloads\u001b[0m\u001b[0;34m(\u001b[0m\u001b[0mstdout\u001b[0m\u001b[0;34m.\u001b[0m\u001b[0mread\u001b[0m\u001b[0;34m(\u001b[0m\u001b[0;34m)\u001b[0m\u001b[0;34m.\u001b[0m\u001b[0mdecode\u001b[0m\u001b[0;34m(\u001b[0m\u001b[0;34m\"utf-8\"\u001b[0m\u001b[0;34m)\u001b[0m\u001b[0;34m)\u001b[0m\u001b[0;34m\u001b[0m\u001b[0;34m\u001b[0m\u001b[0m\n\u001b[0m\u001b[1;32m      5\u001b[0m \u001b[0;34m\u001b[0m\u001b[0m\n\u001b[1;32m      6\u001b[0m     \u001b[0;31m# filter relevant blockinfo\u001b[0m\u001b[0;34m\u001b[0m\u001b[0;34m\u001b[0m\u001b[0;34m\u001b[0m\u001b[0m\n",
      "\u001b[0;32m~/anaconda3/lib/python3.6/json/__init__.py\u001b[0m in \u001b[0;36mloads\u001b[0;34m(s, encoding, cls, object_hook, parse_float, parse_int, parse_constant, object_pairs_hook, **kw)\u001b[0m\n\u001b[1;32m    352\u001b[0m             \u001b[0mparse_int\u001b[0m \u001b[0;32mis\u001b[0m \u001b[0;32mNone\u001b[0m \u001b[0;32mand\u001b[0m \u001b[0mparse_float\u001b[0m \u001b[0;32mis\u001b[0m \u001b[0;32mNone\u001b[0m \u001b[0;32mand\u001b[0m\u001b[0;34m\u001b[0m\u001b[0;34m\u001b[0m\u001b[0m\n\u001b[1;32m    353\u001b[0m             parse_constant is None and object_pairs_hook is None and not kw):\n\u001b[0;32m--> 354\u001b[0;31m         \u001b[0;32mreturn\u001b[0m \u001b[0m_default_decoder\u001b[0m\u001b[0;34m.\u001b[0m\u001b[0mdecode\u001b[0m\u001b[0;34m(\u001b[0m\u001b[0ms\u001b[0m\u001b[0;34m)\u001b[0m\u001b[0;34m\u001b[0m\u001b[0;34m\u001b[0m\u001b[0m\n\u001b[0m\u001b[1;32m    355\u001b[0m     \u001b[0;32mif\u001b[0m \u001b[0mcls\u001b[0m \u001b[0;32mis\u001b[0m \u001b[0;32mNone\u001b[0m\u001b[0;34m:\u001b[0m\u001b[0;34m\u001b[0m\u001b[0;34m\u001b[0m\u001b[0m\n\u001b[1;32m    356\u001b[0m         \u001b[0mcls\u001b[0m \u001b[0;34m=\u001b[0m \u001b[0mJSONDecoder\u001b[0m\u001b[0;34m\u001b[0m\u001b[0;34m\u001b[0m\u001b[0m\n",
      "\u001b[0;32m~/anaconda3/lib/python3.6/json/decoder.py\u001b[0m in \u001b[0;36mdecode\u001b[0;34m(self, s, _w)\u001b[0m\n\u001b[1;32m    337\u001b[0m \u001b[0;34m\u001b[0m\u001b[0m\n\u001b[1;32m    338\u001b[0m         \"\"\"\n\u001b[0;32m--> 339\u001b[0;31m         \u001b[0mobj\u001b[0m\u001b[0;34m,\u001b[0m \u001b[0mend\u001b[0m \u001b[0;34m=\u001b[0m \u001b[0mself\u001b[0m\u001b[0;34m.\u001b[0m\u001b[0mraw_decode\u001b[0m\u001b[0;34m(\u001b[0m\u001b[0ms\u001b[0m\u001b[0;34m,\u001b[0m \u001b[0midx\u001b[0m\u001b[0;34m=\u001b[0m\u001b[0m_w\u001b[0m\u001b[0;34m(\u001b[0m\u001b[0ms\u001b[0m\u001b[0;34m,\u001b[0m \u001b[0;36m0\u001b[0m\u001b[0;34m)\u001b[0m\u001b[0;34m.\u001b[0m\u001b[0mend\u001b[0m\u001b[0;34m(\u001b[0m\u001b[0;34m)\u001b[0m\u001b[0;34m)\u001b[0m\u001b[0;34m\u001b[0m\u001b[0;34m\u001b[0m\u001b[0m\n\u001b[0m\u001b[1;32m    340\u001b[0m         \u001b[0mend\u001b[0m \u001b[0;34m=\u001b[0m \u001b[0m_w\u001b[0m\u001b[0;34m(\u001b[0m\u001b[0ms\u001b[0m\u001b[0;34m,\u001b[0m \u001b[0mend\u001b[0m\u001b[0;34m)\u001b[0m\u001b[0;34m.\u001b[0m\u001b[0mend\u001b[0m\u001b[0;34m(\u001b[0m\u001b[0;34m)\u001b[0m\u001b[0;34m\u001b[0m\u001b[0;34m\u001b[0m\u001b[0m\n\u001b[1;32m    341\u001b[0m         \u001b[0;32mif\u001b[0m \u001b[0mend\u001b[0m \u001b[0;34m!=\u001b[0m \u001b[0mlen\u001b[0m\u001b[0;34m(\u001b[0m\u001b[0ms\u001b[0m\u001b[0;34m)\u001b[0m\u001b[0;34m:\u001b[0m\u001b[0;34m\u001b[0m\u001b[0;34m\u001b[0m\u001b[0m\n",
      "\u001b[0;32m~/anaconda3/lib/python3.6/json/decoder.py\u001b[0m in \u001b[0;36mraw_decode\u001b[0;34m(self, s, idx)\u001b[0m\n\u001b[1;32m    355\u001b[0m             \u001b[0mobj\u001b[0m\u001b[0;34m,\u001b[0m \u001b[0mend\u001b[0m \u001b[0;34m=\u001b[0m \u001b[0mself\u001b[0m\u001b[0;34m.\u001b[0m\u001b[0mscan_once\u001b[0m\u001b[0;34m(\u001b[0m\u001b[0ms\u001b[0m\u001b[0;34m,\u001b[0m \u001b[0midx\u001b[0m\u001b[0;34m)\u001b[0m\u001b[0;34m\u001b[0m\u001b[0;34m\u001b[0m\u001b[0m\n\u001b[1;32m    356\u001b[0m         \u001b[0;32mexcept\u001b[0m \u001b[0mStopIteration\u001b[0m \u001b[0;32mas\u001b[0m \u001b[0merr\u001b[0m\u001b[0;34m:\u001b[0m\u001b[0;34m\u001b[0m\u001b[0;34m\u001b[0m\u001b[0m\n\u001b[0;32m--> 357\u001b[0;31m             \u001b[0;32mraise\u001b[0m \u001b[0mJSONDecodeError\u001b[0m\u001b[0;34m(\u001b[0m\u001b[0;34m\"Expecting value\"\u001b[0m\u001b[0;34m,\u001b[0m \u001b[0ms\u001b[0m\u001b[0;34m,\u001b[0m \u001b[0merr\u001b[0m\u001b[0;34m.\u001b[0m\u001b[0mvalue\u001b[0m\u001b[0;34m)\u001b[0m \u001b[0;32mfrom\u001b[0m \u001b[0;32mNone\u001b[0m\u001b[0;34m\u001b[0m\u001b[0;34m\u001b[0m\u001b[0m\n\u001b[0m\u001b[1;32m    358\u001b[0m         \u001b[0;32mreturn\u001b[0m \u001b[0mobj\u001b[0m\u001b[0;34m,\u001b[0m \u001b[0mend\u001b[0m\u001b[0;34m\u001b[0m\u001b[0;34m\u001b[0m\u001b[0m\n",
      "\u001b[0;31mJSONDecodeError\u001b[0m: Expecting value: line 1 column 1 (char 0)"
     ]
    }
   ],
   "source": [
    "#example block information retrieval\n",
    "data, block = getblock(getBlockHash(600000))\n",
    "json_data = json.dumps(data, indent=4, sort_keys=False)\n",
    "#print(json_data)"
   ]
  },
  {
   "cell_type": "markdown",
   "metadata": {},
   "source": [
    "# Transactions"
   ]
  },
  {
   "cell_type": "code",
   "execution_count": 52,
   "metadata": {},
   "outputs": [],
   "source": [
    "from datetime import datetime, timezone\n",
    "\n",
    "def gettx(tx):\n",
    "        \n",
    "    command = \"bitcoin-cli getrawtransaction \" + tx['txid'] + \" true\"\n",
    "    stdin, stdout, stderr = ssh.exec_command(command)\n",
    "\n",
    "    # load data into json object rawtx\n",
    "    rawtx = json.loads(stdout.read().decode(\"utf-8\"))\n",
    "\n",
    "    txdata = {}\n",
    "    txdata['txid'] = tx['txid']\n",
    "    txdata['block_hash'] = block['hash']\n",
    "    ts_epoch = block['time']\n",
    "    block_timestamp = datetime.fromtimestamp(ts_epoch)\n",
    "    block_date = block_timestamp.strftime('%Y-%m-%d')\n",
    "    txdata['block_date'] = str(block_date)\n",
    "\n",
    "\n",
    "    addr = \"\"\n",
    "    val = 0\n",
    "    outSum = 0\n",
    "    inSum = 0\n",
    "    inputAddrObject = {}\n",
    "    outputAddrObject = {}\n",
    "    input_address_list = [] \n",
    "    output_address_list = []\n",
    "\n",
    "    ## check coinbase \n",
    "    if 'coinbase' not in rawtx['vin'][0]: \n",
    "        for i in rawtx['vin']:  \n",
    "            command = \"bitcoin-cli getrawtransaction \" + i['txid'] + \" true\"\n",
    "            stdin, stdout, stderr = ssh.exec_command(command)\n",
    "            inputtx = json.loads(stdout.read().decode(\"utf-8\"))\n",
    "            inputtx_json_data = json.dumps(inputtx, indent=4, sort_keys=False)\n",
    "            val = int (inputtx['vout'][i['vout']]['value']*100000000)\n",
    "            inSum += val \n",
    "\n",
    "            # input addresses\n",
    "            for ia in inputtx['vout'][i['vout']]['scriptPubKey']['addresses']: \n",
    "                inputAddrObject['addr'] = ia\n",
    "                inputAddrObject['val'] = val\n",
    "\n",
    "                jInAddr = json.dumps(inputAddrObject)\n",
    "                jsonInDict = json.loads(jInAddr)\n",
    "                input_address_list.append(jsonInDict)\n",
    "\n",
    "        # output addresses\n",
    "        for o in rawtx['vout']:\n",
    "            if o['scriptPubKey']['type'] != \"nulldata\": # handling OP_RETURN data - can be skipped\n",
    "                outSum += o['value']\n",
    "                for a in o['scriptPubKey']['addresses']:\n",
    "                    outputAddrObject['addr'] = a\n",
    "                    outputAddrObject['outNr'] = o['n']\n",
    "                    outputAddrObject['val'] = o['value']\n",
    "\n",
    "                    jOutAddr = json.dumps(outputAddrObject)\n",
    "                    jsonOutDict = json.loads(jOutAddr)\n",
    "                    output_address_list.append(jsonOutDict)\n",
    "    else: \n",
    "        for o in rawtx['vout']:   \n",
    "            if o['scriptPubKey']['type'] != \"nulldata\": # handling OP_RETURN data - can be skipped\n",
    "                outSum += o['value']\n",
    "                for a in o['scriptPubKey']['addresses']:\n",
    "                    outputAddrObject['addr'] = a\n",
    "                    outputAddrObject['outNr'] = o['n']\n",
    "\n",
    "        jOutAddr = json.dumps(outputAddrObject)\n",
    "        jsonOutDict = json.loads(jOutAddr)\n",
    "        output_address_list.append(jsonOutDict)\n",
    "        inSum = int(outSum*100000000)\n",
    "        inputAddrObject['addr'] = \"coinbase\"\n",
    "        inputAddrObject['val'] = inSum\n",
    "\n",
    "        jInAddr = json.dumps(inputAddrObject)\n",
    "        jsonInDict = json.loads(jInAddr)\n",
    "        input_address_list.append(jsonInDict)\n",
    "\n",
    "\n",
    "    # get degrees\n",
    "    txdata['outDegree'] = len(rawtx['vout'])\n",
    "    txdata['inDegree'] = len(rawtx['vin'])\n",
    "\n",
    "\n",
    "\n",
    "    x = round(outSum*100000000, 0)\n",
    "    txdata['outSum'] = int( x)\n",
    "    txdata['inSum'] = inSum\n",
    "    txdata['input_list'] = input_address_list  \n",
    "    txdata['output_list'] = output_address_list \n",
    "        \n",
    "        \n",
    "    return txdata"
   ]
  },
  {
   "cell_type": "code",
   "execution_count": 53,
   "metadata": {},
   "outputs": [
    {
     "data": {
      "text/plain": [
       "{'txid': 'a8178a7223372414ac060b4bba4b33b8b4847a756fa76a715af7fd11bfd143d5',\n",
       " 'block_hash': '00000000000000000007316856900e76b4f7a9139cfbfba89842c8d196cd5f91',\n",
       " 'block_date': '2019-10-19',\n",
       " 'outDegree': 3,\n",
       " 'inDegree': 1,\n",
       " 'outSum': 138819784059,\n",
       " 'inSum': 138819884059,\n",
       " 'input_list': [{'addr': '17A16QmavnUfCW11DAApiJxp7ARnxN5pGX',\n",
       "   'val': 138819884059}],\n",
       " 'output_list': [{'addr': '3QKAn2B1uDquujLZnoynVoq1M9uac66Ysr',\n",
       "   'outNr': 0,\n",
       "   'val': 0.00795759},\n",
       "  {'addr': '1F8fDpYbMLMaz1tBEehqPJSN8XTL6t5TDz',\n",
       "   'outNr': 1,\n",
       "   'val': 0.01241006},\n",
       "  {'addr': '17A16QmavnUfCW11DAApiJxp7ARnxN5pGX',\n",
       "   'outNr': 2,\n",
       "   'val': 1388.17747294}]}"
      ]
     },
     "execution_count": 53,
     "metadata": {},
     "output_type": "execute_result"
    }
   ],
   "source": [
    "tx = block['tx'][1]\n",
    "txlist = gettx(tx)\n",
    "txlist"
   ]
  },
  {
   "cell_type": "code",
   "execution_count": 46,
   "metadata": {},
   "outputs": [
    {
     "data": {
      "text/plain": [
       "False"
      ]
     },
     "execution_count": 46,
     "metadata": {},
     "output_type": "execute_result"
    }
   ],
   "source": [
    "command = \"bitcoin-cli getrawtransaction \" + tx['txid'] + \" true\"\n",
    "stdin, stdout, stderr = ssh.exec_command(command)\n",
    "\n",
    "# load data into json object rawtx\n",
    "rawtx = json.loads(stdout.read().decode(\"utf-8\"))\n",
    "'coinbase' in rawtx['vin'][0]#['coinbase'] "
   ]
  },
  {
   "cell_type": "code",
   "execution_count": 47,
   "metadata": {},
   "outputs": [
    {
     "data": {
      "text/plain": [
       "{'txid': 'a8178a7223372414ac060b4bba4b33b8b4847a756fa76a715af7fd11bfd143d5',\n",
       " 'hash': 'a8178a7223372414ac060b4bba4b33b8b4847a756fa76a715af7fd11bfd143d5',\n",
       " 'version': 2,\n",
       " 'size': 290,\n",
       " 'vsize': 290,\n",
       " 'weight': 1160,\n",
       " 'locktime': 0,\n",
       " 'vin': [{'txid': '886781640b20eb9f93e9d068eda3d676ea48c7a0c5aebc97d06c058fcebfe92e',\n",
       "   'vout': 4,\n",
       "   'scriptSig': {'asm': '3045022100a30ad9317573aa3d6e9c668bc510e6a828261bc2db08f2fb03de901a3fb9370e02204396fd8c14ab2e0355981c7a88da103f874e47d49bf3148180b061568a566907[ALL] 047146f0e0fcb3139947cf0beb870fe251930ca10d4545793d31033e801b5219abf56c11a3cf3406ca590e4c14b0dab749d20862b3adc4709153c280c2a78be10c',\n",
       "    'hex': '483045022100a30ad9317573aa3d6e9c668bc510e6a828261bc2db08f2fb03de901a3fb9370e02204396fd8c14ab2e0355981c7a88da103f874e47d49bf3148180b061568a5669070141047146f0e0fcb3139947cf0beb870fe251930ca10d4545793d31033e801b5219abf56c11a3cf3406ca590e4c14b0dab749d20862b3adc4709153c280c2a78be10c'},\n",
       "   'sequence': 4294967295}],\n",
       " 'vout': [{'value': 0.00795759,\n",
       "   'n': 0,\n",
       "   'scriptPubKey': {'asm': 'OP_HASH160 f82921cc8545c477bb9c4d60c9d6b097299d2787 OP_EQUAL',\n",
       "    'hex': 'a914f82921cc8545c477bb9c4d60c9d6b097299d278787',\n",
       "    'reqSigs': 1,\n",
       "    'type': 'scripthash',\n",
       "    'addresses': ['3QKAn2B1uDquujLZnoynVoq1M9uac66Ysr']}},\n",
       "  {'value': 0.01241006,\n",
       "   'n': 1,\n",
       "   'scriptPubKey': {'asm': 'OP_DUP OP_HASH160 9b0493f8c16f9e9b4f288cfd27b753b296e395f4 OP_EQUALVERIFY OP_CHECKSIG',\n",
       "    'hex': '76a9149b0493f8c16f9e9b4f288cfd27b753b296e395f488ac',\n",
       "    'reqSigs': 1,\n",
       "    'type': 'pubkeyhash',\n",
       "    'addresses': ['1F8fDpYbMLMaz1tBEehqPJSN8XTL6t5TDz']}},\n",
       "  {'value': 1388.17747294,\n",
       "   'n': 2,\n",
       "   'scriptPubKey': {'asm': 'OP_DUP OP_HASH160 43849383122ebb8a28268a89700c9f723663b5b8 OP_EQUALVERIFY OP_CHECKSIG',\n",
       "    'hex': '76a91443849383122ebb8a28268a89700c9f723663b5b888ac',\n",
       "    'reqSigs': 1,\n",
       "    'type': 'pubkeyhash',\n",
       "    'addresses': ['17A16QmavnUfCW11DAApiJxp7ARnxN5pGX']}}],\n",
       " 'hex': '02000000012ee9bfce8f056cd097bcaec5a0c748ea76d6a3ed68d0e9939feb200b64816788040000008b483045022100a30ad9317573aa3d6e9c668bc510e6a828261bc2db08f2fb03de901a3fb9370e02204396fd8c14ab2e0355981c7a88da103f874e47d49bf3148180b061568a5669070141047146f0e0fcb3139947cf0beb870fe251930ca10d4545793d31033e801b5219abf56c11a3cf3406ca590e4c14b0dab749d20862b3adc4709153c280c2a78be10cffffffff036f240c000000000017a914f82921cc8545c477bb9c4d60c9d6b097299d278787aeef1200000000001976a9149b0493f8c16f9e9b4f288cfd27b753b296e395f488ac5eb92e52200000001976a91443849383122ebb8a28268a89700c9f723663b5b888ac00000000'}"
      ]
     },
     "execution_count": 47,
     "metadata": {},
     "output_type": "execute_result"
    }
   ],
   "source": [
    "tx"
   ]
  },
  {
   "cell_type": "code",
   "execution_count": null,
   "metadata": {},
   "outputs": [],
   "source": []
  }
 ],
 "metadata": {
  "kernelspec": {
   "display_name": "Python 3",
   "language": "python",
   "name": "python3"
  },
  "language_info": {
   "codemirror_mode": {
    "name": "ipython",
    "version": 3
   },
   "file_extension": ".py",
   "mimetype": "text/x-python",
   "name": "python",
   "nbconvert_exporter": "python",
   "pygments_lexer": "ipython3",
   "version": "3.6.10"
  }
 },
 "nbformat": 4,
 "nbformat_minor": 4
}
