{
 "cells": [
  {
   "cell_type": "markdown",
   "metadata": {},
   "source": [
    "# Cypher queries\n",
    "\n",
    "## Testing import from blocks and transaction topics by sample queries"
   ]
  },
  {
   "cell_type": "code",
   "execution_count": 15,
   "metadata": {},
   "outputs": [],
   "source": [
    "import numpy as np\n",
    "import time\n",
    "import sys\n",
    "sys.path.append(\"./evaluation\")\n",
    "from neo4jConnector import startNeo4jSession"
   ]
  },
  {
   "cell_type": "markdown",
   "metadata": {},
   "source": [
    "## Conversion functions "
   ]
  },
  {
   "cell_type": "code",
   "execution_count": 3,
   "metadata": {},
   "outputs": [],
   "source": [
    "#### Convert final query by cutting all linebreaks...\n",
    "def createCypherForEvents(query):\n",
    "    new_query = query.replace('$', 'event.')\n",
    "    return new_query\n",
    "\n",
    "#### Convert final query by cutting all linebreaks...\n",
    "def omitSpacings(query):\n",
    "    omit_characters = [\"\\n\", \"     \", \"     \", \"  \"]\n",
    "    for i in omit_characters:\n",
    "        query = query.replace(i, \" \")\n",
    "    return query"
   ]
  },
  {
   "cell_type": "markdown",
   "metadata": {},
   "source": [
    "## Transactions\n"
   ]
  },
  {
   "cell_type": "code",
   "execution_count": 19,
   "metadata": {},
   "outputs": [],
   "source": [
    "transactionQuery = '''\n",
    "    MERGE (t:Transaction{txid: $txid}) \n",
    "        SET t += {inDegree: $inDegree, outDegree: $outDegree, outSum: $outSum, inSum: $inSum, date: date($block_date)}\n",
    "\n",
    "    MERGE (b:Block{hash: $block_hash})\n",
    "    MERGE (t)-[:BELONGS_TO]->(b)\n",
    "    \n",
    "    FOREACH (output in $output_list | \n",
    "        MERGE (o_a:Address{address: output.addr}) \n",
    "            ON CREATE SET o_a += {inDegree: 1, outDegree: 0}\n",
    "            ON MATCH  SET o_a += {inDegree: o_a.inDegree + 1}\n",
    "        MERGE (t)-[r:RECEIVES{output_nr: output.outNr, value: output.val}]->(o_a))\n",
    "        \n",
    "    FOREACH (input in $input_list | \n",
    "        MERGE (i_a:Address{address: input.addr})\n",
    "            ON CREATE SET i_a += {inDegree: 0, outDegree: 1}\n",
    "            ON MATCH SET  i_a += {outDegree: i_a.outDegree + 1}\n",
    "        MERGE (i_a)-[:SENDS{value: input.val}]->(t))\n",
    "    '''\n",
    "\n",
    "\n",
    "## amanded for test and creationTime\n",
    "\n",
    "transactionQuery = '''\n",
    "    MERGE (t:Transaction_test{txid: $txid}) \n",
    "        SET t += {creationTime:apoc.date.currentTimestamp(), inDegree: $inDegree, outDegree: $outDegree, outSum: $outSum, inSum: $inSum, date: date($block_date)}\n",
    "\n",
    "    MERGE (b:Block_test{hash: $block_hash})\n",
    "    MERGE (t)-[:BELONGS_TO]->(b)\n",
    "    \n",
    "    FOREACH (output in $output_list | \n",
    "        MERGE (o_a:Address_test{address: output.addr}) \n",
    "            ON CREATE SET o_a += {creationTime:apoc.date.currentTimestamp(), inDegree: 1, outDegree: 0}\n",
    "            ON MATCH  SET o_a += {inDegree: o_a.inDegree + 1}\n",
    "        MERGE (t)-[r:RECEIVES{output_nr: output.outNr, value: output.val}]->(o_a))\n",
    "        \n",
    "    FOREACH (input in $input_list | \n",
    "        MERGE (i_a:Address_test{address: input.addr})\n",
    "            ON CREATE SET i_a += {creationTime:apoc.date.currentTimestamp(), inDegree: 0, outDegree: 1}\n",
    "            ON MATCH SET  i_a += {outDegree: i_a.outDegree + 1}\n",
    "        MERGE (i_a)-[:SENDS{value: input.val}]->(t))\n",
    "    '''\n",
    "\n"
   ]
  },
  {
   "cell_type": "code",
   "execution_count": 1,
   "metadata": {},
   "outputs": [],
   "source": [
    "## batched transactions\n",
    "\n",
    "transactionQuery = '''\n",
    "FOREACH (event in $event |\n",
    "    MERGE (t:Transaction_test{txid: $txid}) \n",
    "        SET t += {creationTime:apoc.date.currentTimestamp(), inDegree: $inDegree, outDegree: $outDegree, outSum: $outSum, inSum: $inSum, date: date($block_date)}\n",
    "\n",
    "    MERGE (b:Block_test{hash: $block_hash})\n",
    "    MERGE (t)-[:BELONGS_TO]->(b)\n",
    "    \n",
    "    FOREACH (output in $output_list | \n",
    "        MERGE (o_a:Address_test{address: output.addr}) \n",
    "            ON CREATE SET o_a += {creationTime:apoc.date.currentTimestamp(), inDegree: 1, outDegree: 0}\n",
    "            ON MATCH  SET o_a += {inDegree: o_a.inDegree + 1}\n",
    "        MERGE (t)-[r:RECEIVES{output_nr: output.outNr, value: output.val}]->(o_a))\n",
    "        \n",
    "    FOREACH (input in $input_list | \n",
    "        MERGE (i_a:Address_test{address: input.addr})\n",
    "            ON CREATE SET i_a += {creationTime:apoc.date.currentTimestamp(), inDegree: 0, outDegree: 1}\n",
    "            ON MATCH SET  i_a += {outDegree: i_a.outDegree + 1}\n",
    "        MERGE (i_a)-[:SENDS{value: input.val}]->(t))\n",
    "    )\n",
    "'''"
   ]
  },
  {
   "cell_type": "markdown",
   "metadata": {},
   "source": [
    "## Final TX query"
   ]
  },
  {
   "cell_type": "code",
   "execution_count": 4,
   "metadata": {},
   "outputs": [
    {
     "name": "stdout",
     "output_type": "stream",
     "text": [
      "\n",
      "FOREACH (event in event.event |\n",
      "    MERGE (t:Transaction_test{txid: event.txid}) \n",
      "        SET t += {creationTime:apoc.date.currentTimestamp(), inDegree: event.inDegree, outDegree: event.outDegree, outSum: event.outSum, inSum: event.inSum, date: date(event.block_date)}\n",
      "\n",
      "    MERGE (b:Block_test{hash: event.block_hash})\n",
      "    MERGE (t)-[:BELONGS_TO]->(b)\n",
      "    \n",
      "    FOREACH (output in event.output_list | \n",
      "        MERGE (o_a:Address_test{address: output.addr}) \n",
      "            ON CREATE SET o_a += {creationTime:apoc.date.currentTimestamp(), inDegree: 1, outDegree: 0}\n",
      "            ON MATCH  SET o_a += {inDegree: o_a.inDegree + 1}\n",
      "        MERGE (t)-[r:RECEIVES{output_nr: output.outNr, value: output.val}]->(o_a))\n",
      "        \n",
      "    FOREACH (input in event.input_list | \n",
      "        MERGE (i_a:Address_test{address: input.addr})\n",
      "            ON CREATE SET i_a += {creationTime:apoc.date.currentTimestamp(), inDegree: 0, outDegree: 1}\n",
      "            ON MATCH SET  i_a += {outDegree: i_a.outDegree + 1}\n",
      "        MERGE (i_a)-[:SENDS{value: input.val}]->(t))\n",
      "    )\n",
      "\n"
     ]
    }
   ],
   "source": [
    "#### Convert final query by cutting all linebreaks...\n",
    "transactionQuery_forEvents = createCypherForEvents(transactionQuery)\n",
    "print(transactionQuery_forEvents)"
   ]
  },
  {
   "cell_type": "code",
   "execution_count": 5,
   "metadata": {},
   "outputs": [
    {
     "name": "stdout",
     "output_type": "stream",
     "text": [
      " FOREACH (event in event.event | MERGE (t:Transaction_test{txid: event.txid}) SET t += {creationTime:apoc.date.currentTimestamp(), inDegree: event.inDegree, outDegree: event.outDegree, outSum: event.outSum, inSum: event.inSum, date: date(event.block_date)} MERGE (b:Block_test{hash: event.block_hash}) MERGE (t)-[:BELONGS_TO]->(b) FOREACH (output in event.output_list | MERGE (o_a:Address_test{address: output.addr}) ON CREATE SET o_a += {creationTime:apoc.date.currentTimestamp(), inDegree: 1, outDegree: 0} ON MATCH SET o_a += {inDegree: o_a.inDegree + 1} MERGE (t)-[r:RECEIVES{output_nr: output.outNr, value: output.val}]->(o_a)) FOREACH (input in event.input_list | MERGE (i_a:Address_test{address: input.addr}) ON CREATE SET i_a += {creationTime:apoc.date.currentTimestamp(), inDegree: 0, outDegree: 1} ON MATCH SET i_a += {outDegree: i_a.outDegree + 1} MERGE (i_a)-[:SENDS{value: input.val}]->(t)) ) \n"
     ]
    }
   ],
   "source": [
    "#### Convert final query by cutting all linebreaks...\n",
    "transactionQuery_final = omitSpacings(transactionQuery_forEvents)\n",
    "print(transactionQuery_final)"
   ]
  },
  {
   "cell_type": "markdown",
   "metadata": {},
   "source": [
    "## Blocks"
   ]
  },
  {
   "cell_type": "code",
   "execution_count": 22,
   "metadata": {},
   "outputs": [],
   "source": [
    "## !need to amend!\n",
    "blockQuery = '''\n",
    "MERGE (p:Block_test {hash: $previousblockhash})\n",
    "MERGE (b:Block_test {hash: $block_hash}) \n",
    "    SET b += {creationTime:apoc.date.currentTimestamp(), hash: $block_hash, height: $block_height, blockDate: date($block_date), mediantime: datetime($block_median_time) }\n",
    "MERGE (p)-[r:PRECEDES]->(b)\n",
    "'''"
   ]
  },
  {
   "cell_type": "markdown",
   "metadata": {},
   "source": [
    "## Final Block query"
   ]
  },
  {
   "cell_type": "code",
   "execution_count": 23,
   "metadata": {},
   "outputs": [
    {
     "name": "stdout",
     "output_type": "stream",
     "text": [
      "\n",
      "MERGE (p:Block_test {hash: event.previousblockhash})\n",
      "MERGE (b:Block_test {hash: event.block_hash}) \n",
      "    SET b += {creationTime:apoc.date.currentTimestamp(), hash: event.block_hash, height: event.block_height, blockDate: date(event.block_date), mediantime: datetime(event.block_median_time) }\n",
      "MERGE (p)-[r:PRECEDES]->(b)\n",
      "\n"
     ]
    }
   ],
   "source": [
    "#### Convert final query by cutting all linebreaks...\n",
    "blockQuery_forEvents = createCypherForEvents(blockQuery)\n",
    "print(blockQuery_forEvents)"
   ]
  },
  {
   "cell_type": "code",
   "execution_count": 24,
   "metadata": {},
   "outputs": [
    {
     "name": "stdout",
     "output_type": "stream",
     "text": [
      " MERGE (p:Block_test {hash: event.previousblockhash}) MERGE (b:Block_test {hash: event.block_hash}) SET b += {creationTime:apoc.date.currentTimestamp(), hash: event.block_hash, height: event.block_height, blockDate: date(event.block_date), mediantime: datetime(event.block_median_time) } MERGE (p)-[r:PRECEDES]->(b) \n"
     ]
    }
   ],
   "source": [
    "#### Convert final query by cutting all linebreaks...\n",
    "blockQuery_final = omitSpacings(blockQuery_forEvents)\n",
    "print(blockQuery_final)"
   ]
  },
  {
   "cell_type": "markdown",
   "metadata": {},
   "source": [
    "## Querying Neo4j directly"
   ]
  },
  {
   "cell_type": "code",
   "execution_count": 25,
   "metadata": {},
   "outputs": [],
   "source": [
    "#driver, session = startNeo4jSession(port=7688)\n",
    "\n",
    "driver, session = startNeo4jSession(location = 'local', port=7687)"
   ]
  },
  {
   "cell_type": "markdown",
   "metadata": {},
   "source": [
    "### Example Data"
   ]
  },
  {
   "cell_type": "code",
   "execution_count": 28,
   "metadata": {},
   "outputs": [],
   "source": [
    "#test data \n",
    "test = {'txid': '88d35b8d35ccaf8a315a2274d83081ab62aeda06fb2029af5c65b2a858f22fcb',\n",
    " 'block_hash': '00000000000000000005278b3b0d99196ded30c92edb64181abab711fb47527b',\n",
    " 'block_date': '2021-05-23',\n",
    " 'outDegree': 3,\n",
    " 'inDegree': 1,\n",
    " 'outSum': 656215465,\n",
    " 'inSum': 656215465,\n",
    " 'input_list': [{'addr': 'coinbase', 'val': 656215465}],\n",
    " 'output_list': [{'addr': '1Bf9sZvBHPFGVPX71WX2njhd1NXKv5y7v5', 'outNr': 0, 'val': 5}]}\n",
    "\n",
    "test = {'txid': 'd88fbb53146b8662b9e3d58f245d5d7ae0a841e8eb1ad13e8e3e8504a0d8fcea', 'block_hash': '000000000000098a0adb1934bee96bf43430257c9ed8759a219e45bf5758785c', 'block_date': '2012-01-30', 'outDegree': 2, 'inDegree': 1, 'outSum': 1089650000, 'inSum': 1089700000, 'input_list': [{'addr': '1KTWQ7aKeNyGKRtqCrkDTtrbWJphcsZMe3', 'val': 1089700000}], 'output_list': [{'addr': '1GFJf5o9DSjrN8V5VQnMqEfCR8Wa6QXVZn', 'val': 1089150000, 'outNr': 0}, {'addr': '1KNYrxYNpfCzoYZLYRSj9mFkX9M7xDUWpF', 'val': 500000, 'outNr': 1}]}\n",
    "test = {'txid': '0e3e2357e806b6cdb1f70b54c3a3a17b6714ee1f0e68bebb44a74b1efd512098', 'block_hash': '00000000839a8e6886ab5951d76f411475428afc90947ee320161bbf18eb6048', 'block_date': '2009-01-09', 'outDegree': 1, 'inDegree': 1, 'outSum': 5000000000, 'inSum': 5000000000, 'input_list': [{'addr': 'coinbase', 'val': 5000000000}], 'output_list': [{'addr': '12c6DSiU4Rq3P4ZxziKxzrL5LmMBrzjrJX', 'val': 5000000000, 'outNr': 0}]}\n",
    "\n",
    "block_data = {'block_hash': '00000000839a8e6886ab5951d76f411475428afc90947ee320161bbf18eb6048', \n",
    "              'block_height': 1, \n",
    "              'block_median_time': '2009-01-09T03:54', \n",
    "              'block_date': '2009-01-09', \n",
    "              'previousblockhash': '000000000019d6689c085ae165831e934ff763ae46a2a6c172b3f1b60a8ce26f'}"
   ]
  },
  {
   "cell_type": "markdown",
   "metadata": {},
   "source": [
    "### Transactions"
   ]
  },
  {
   "cell_type": "code",
   "execution_count": 29,
   "metadata": {},
   "outputs": [
    {
     "ename": "CypherSyntaxError",
     "evalue": "{code: Neo.ClientError.Statement.SyntaxError} {message: Unknown function 'apoc.date.currentTimestamp' (line 3, column 36 (offset: 77))\n\"SET t += {creationTime: apoc.date.currentTimestamp(), inDegree: $inDegree, outDegree: $outDegree, outSum: $outSum, inSum: $inSum, date: date($block_date)}\"\n                                     ^}",
     "output_type": "error",
     "traceback": [
      "\u001b[0;31m---------------------------------------------------------------------------\u001b[0m",
      "\u001b[0;31mCypherSyntaxError\u001b[0m                         Traceback (most recent call last)",
      "\u001b[0;32m<ipython-input-29-44fdd4506475>\u001b[0m in \u001b[0;36m<module>\u001b[0;34m\u001b[0m\n\u001b[1;32m     13\u001b[0m \u001b[0;34m\u001b[0m\u001b[0m\n\u001b[1;32m     14\u001b[0m \u001b[0;32mwith\u001b[0m \u001b[0mdriver\u001b[0m\u001b[0;34m.\u001b[0m\u001b[0msession\u001b[0m\u001b[0;34m(\u001b[0m\u001b[0;34m)\u001b[0m \u001b[0;32mas\u001b[0m \u001b[0msession\u001b[0m\u001b[0;34m:\u001b[0m\u001b[0;34m\u001b[0m\u001b[0;34m\u001b[0m\u001b[0m\n\u001b[0;32m---> 15\u001b[0;31m     \u001b[0msession\u001b[0m\u001b[0;34m.\u001b[0m\u001b[0mwrite_transaction\u001b[0m\u001b[0;34m(\u001b[0m\u001b[0mrun_tx\u001b[0m\u001b[0;34m,\u001b[0m \u001b[0mtest\u001b[0m\u001b[0;34m)\u001b[0m\u001b[0;34m\u001b[0m\u001b[0;34m\u001b[0m\u001b[0m\n\u001b[0m",
      "\u001b[0;32m~/anaconda3/lib/python3.6/site-packages/neo4j/work/simple.py\u001b[0m in \u001b[0;36mwrite_transaction\u001b[0;34m(self, transaction_function, *args, **kwargs)\u001b[0m\n\u001b[1;32m    401\u001b[0m         \u001b[0;34m:\u001b[0m\u001b[0;32mreturn\u001b[0m\u001b[0;34m:\u001b[0m \u001b[0ma\u001b[0m \u001b[0mresult\u001b[0m \u001b[0;32mas\u001b[0m \u001b[0mreturned\u001b[0m \u001b[0mby\u001b[0m \u001b[0mthe\u001b[0m \u001b[0mgiven\u001b[0m \u001b[0munit\u001b[0m \u001b[0mof\u001b[0m \u001b[0mwork\u001b[0m\u001b[0;34m\u001b[0m\u001b[0;34m\u001b[0m\u001b[0m\n\u001b[1;32m    402\u001b[0m         \"\"\"\n\u001b[0;32m--> 403\u001b[0;31m         \u001b[0;32mreturn\u001b[0m \u001b[0mself\u001b[0m\u001b[0;34m.\u001b[0m\u001b[0m_run_transaction\u001b[0m\u001b[0;34m(\u001b[0m\u001b[0mWRITE_ACCESS\u001b[0m\u001b[0;34m,\u001b[0m \u001b[0mtransaction_function\u001b[0m\u001b[0;34m,\u001b[0m \u001b[0;34m*\u001b[0m\u001b[0margs\u001b[0m\u001b[0;34m,\u001b[0m \u001b[0;34m**\u001b[0m\u001b[0mkwargs\u001b[0m\u001b[0;34m)\u001b[0m\u001b[0;34m\u001b[0m\u001b[0;34m\u001b[0m\u001b[0m\n\u001b[0m\u001b[1;32m    404\u001b[0m \u001b[0;34m\u001b[0m\u001b[0m\n\u001b[1;32m    405\u001b[0m \u001b[0;34m\u001b[0m\u001b[0m\n",
      "\u001b[0;32m~/anaconda3/lib/python3.6/site-packages/neo4j/work/simple.py\u001b[0m in \u001b[0;36m_run_transaction\u001b[0;34m(self, access_mode, transaction_function, *args, **kwargs)\u001b[0m\n\u001b[1;32m    307\u001b[0m                 \u001b[0mtx\u001b[0m \u001b[0;34m=\u001b[0m \u001b[0mself\u001b[0m\u001b[0;34m.\u001b[0m\u001b[0m_transaction\u001b[0m\u001b[0;34m\u001b[0m\u001b[0;34m\u001b[0m\u001b[0m\n\u001b[1;32m    308\u001b[0m                 \u001b[0;32mtry\u001b[0m\u001b[0;34m:\u001b[0m\u001b[0;34m\u001b[0m\u001b[0;34m\u001b[0m\u001b[0m\n\u001b[0;32m--> 309\u001b[0;31m                     \u001b[0mresult\u001b[0m \u001b[0;34m=\u001b[0m \u001b[0mtransaction_function\u001b[0m\u001b[0;34m(\u001b[0m\u001b[0mtx\u001b[0m\u001b[0;34m,\u001b[0m \u001b[0;34m*\u001b[0m\u001b[0margs\u001b[0m\u001b[0;34m,\u001b[0m \u001b[0;34m**\u001b[0m\u001b[0mkwargs\u001b[0m\u001b[0;34m)\u001b[0m\u001b[0;34m\u001b[0m\u001b[0;34m\u001b[0m\u001b[0m\n\u001b[0m\u001b[1;32m    310\u001b[0m                 \u001b[0;32mexcept\u001b[0m \u001b[0mException\u001b[0m\u001b[0;34m:\u001b[0m\u001b[0;34m\u001b[0m\u001b[0;34m\u001b[0m\u001b[0m\n\u001b[1;32m    311\u001b[0m                     \u001b[0mtx\u001b[0m\u001b[0;34m.\u001b[0m\u001b[0mrollback\u001b[0m\u001b[0;34m(\u001b[0m\u001b[0;34m)\u001b[0m\u001b[0;34m\u001b[0m\u001b[0;34m\u001b[0m\u001b[0m\n",
      "\u001b[0;32m<ipython-input-29-44fdd4506475>\u001b[0m in \u001b[0;36mrun_tx\u001b[0;34m(tx, event)\u001b[0m\n\u001b[1;32m      9\u001b[0m            \u001b[0minSum\u001b[0m        \u001b[0;34m=\u001b[0m \u001b[0mevent\u001b[0m\u001b[0;34m[\u001b[0m\u001b[0;34m\"inSum\"\u001b[0m\u001b[0;34m]\u001b[0m\u001b[0;34m,\u001b[0m\u001b[0;34m\u001b[0m\u001b[0;34m\u001b[0m\u001b[0m\n\u001b[1;32m     10\u001b[0m            \u001b[0minput_list\u001b[0m   \u001b[0;34m=\u001b[0m \u001b[0mevent\u001b[0m\u001b[0;34m[\u001b[0m\u001b[0;34m\"input_list\"\u001b[0m\u001b[0;34m]\u001b[0m\u001b[0;34m,\u001b[0m\u001b[0;34m\u001b[0m\u001b[0;34m\u001b[0m\u001b[0m\n\u001b[0;32m---> 11\u001b[0;31m            block_date   = event[\"block_date\"])\n\u001b[0m\u001b[1;32m     12\u001b[0m \u001b[0;34m\u001b[0m\u001b[0m\n\u001b[1;32m     13\u001b[0m \u001b[0;34m\u001b[0m\u001b[0m\n",
      "\u001b[0;32m~/anaconda3/lib/python3.6/site-packages/neo4j/work/transaction.py\u001b[0m in \u001b[0;36mrun\u001b[0;34m(self, query, parameters, **kwparameters)\u001b[0m\n\u001b[1;32m    116\u001b[0m         \u001b[0mself\u001b[0m\u001b[0;34m.\u001b[0m\u001b[0m_results\u001b[0m\u001b[0;34m.\u001b[0m\u001b[0mappend\u001b[0m\u001b[0;34m(\u001b[0m\u001b[0mresult\u001b[0m\u001b[0;34m)\u001b[0m\u001b[0;34m\u001b[0m\u001b[0;34m\u001b[0m\u001b[0m\n\u001b[1;32m    117\u001b[0m \u001b[0;34m\u001b[0m\u001b[0m\n\u001b[0;32m--> 118\u001b[0;31m         \u001b[0mresult\u001b[0m\u001b[0;34m.\u001b[0m\u001b[0m_tx_ready_run\u001b[0m\u001b[0;34m(\u001b[0m\u001b[0mquery\u001b[0m\u001b[0;34m,\u001b[0m \u001b[0mparameters\u001b[0m\u001b[0;34m,\u001b[0m \u001b[0;34m**\u001b[0m\u001b[0mkwparameters\u001b[0m\u001b[0;34m)\u001b[0m\u001b[0;34m\u001b[0m\u001b[0;34m\u001b[0m\u001b[0m\n\u001b[0m\u001b[1;32m    119\u001b[0m \u001b[0;34m\u001b[0m\u001b[0m\n\u001b[1;32m    120\u001b[0m         \u001b[0;32mreturn\u001b[0m \u001b[0mresult\u001b[0m\u001b[0;34m\u001b[0m\u001b[0;34m\u001b[0m\u001b[0m\n",
      "\u001b[0;32m~/anaconda3/lib/python3.6/site-packages/neo4j/work/result.py\u001b[0m in \u001b[0;36m_tx_ready_run\u001b[0;34m(self, query, parameters, **kwparameters)\u001b[0m\n\u001b[1;32m     55\u001b[0m         \u001b[0;31m# BEGIN {extra}\u001b[0m\u001b[0;34m\u001b[0m\u001b[0;34m\u001b[0m\u001b[0;34m\u001b[0m\u001b[0m\n\u001b[1;32m     56\u001b[0m         \u001b[0;31m# RUN \"query\" {parameters} {extra}\u001b[0m\u001b[0;34m\u001b[0m\u001b[0;34m\u001b[0m\u001b[0;34m\u001b[0m\u001b[0m\n\u001b[0;32m---> 57\u001b[0;31m         \u001b[0mself\u001b[0m\u001b[0;34m.\u001b[0m\u001b[0m_run\u001b[0m\u001b[0;34m(\u001b[0m\u001b[0mquery\u001b[0m\u001b[0;34m,\u001b[0m \u001b[0mparameters\u001b[0m\u001b[0;34m,\u001b[0m \u001b[0;32mNone\u001b[0m\u001b[0;34m,\u001b[0m \u001b[0;32mNone\u001b[0m\u001b[0;34m,\u001b[0m \u001b[0;32mNone\u001b[0m\u001b[0;34m,\u001b[0m \u001b[0;34m**\u001b[0m\u001b[0mkwparameters\u001b[0m\u001b[0;34m)\u001b[0m\u001b[0;34m\u001b[0m\u001b[0;34m\u001b[0m\u001b[0m\n\u001b[0m\u001b[1;32m     58\u001b[0m \u001b[0;34m\u001b[0m\u001b[0m\n\u001b[1;32m     59\u001b[0m     \u001b[0;32mdef\u001b[0m \u001b[0m_run\u001b[0m\u001b[0;34m(\u001b[0m\u001b[0mself\u001b[0m\u001b[0;34m,\u001b[0m \u001b[0mquery\u001b[0m\u001b[0;34m,\u001b[0m \u001b[0mparameters\u001b[0m\u001b[0;34m,\u001b[0m \u001b[0mdb\u001b[0m\u001b[0;34m,\u001b[0m \u001b[0maccess_mode\u001b[0m\u001b[0;34m,\u001b[0m \u001b[0mbookmarks\u001b[0m\u001b[0;34m,\u001b[0m \u001b[0;34m**\u001b[0m\u001b[0mkwparameters\u001b[0m\u001b[0;34m)\u001b[0m\u001b[0;34m:\u001b[0m\u001b[0;34m\u001b[0m\u001b[0;34m\u001b[0m\u001b[0m\n",
      "\u001b[0;32m~/anaconda3/lib/python3.6/site-packages/neo4j/work/result.py\u001b[0m in \u001b[0;36m_run\u001b[0;34m(self, query, parameters, db, access_mode, bookmarks, **kwparameters)\u001b[0m\n\u001b[1;32m     99\u001b[0m         \u001b[0mself\u001b[0m\u001b[0;34m.\u001b[0m\u001b[0m_pull\u001b[0m\u001b[0;34m(\u001b[0m\u001b[0;34m)\u001b[0m\u001b[0;34m\u001b[0m\u001b[0;34m\u001b[0m\u001b[0m\n\u001b[1;32m    100\u001b[0m         \u001b[0mself\u001b[0m\u001b[0;34m.\u001b[0m\u001b[0m_connection\u001b[0m\u001b[0;34m.\u001b[0m\u001b[0msend_all\u001b[0m\u001b[0;34m(\u001b[0m\u001b[0;34m)\u001b[0m\u001b[0;34m\u001b[0m\u001b[0;34m\u001b[0m\u001b[0m\n\u001b[0;32m--> 101\u001b[0;31m         \u001b[0mself\u001b[0m\u001b[0;34m.\u001b[0m\u001b[0m_attach\u001b[0m\u001b[0;34m(\u001b[0m\u001b[0;34m)\u001b[0m\u001b[0;34m\u001b[0m\u001b[0;34m\u001b[0m\u001b[0m\n\u001b[0m\u001b[1;32m    102\u001b[0m \u001b[0;34m\u001b[0m\u001b[0m\n\u001b[1;32m    103\u001b[0m     \u001b[0;32mdef\u001b[0m \u001b[0m_pull\u001b[0m\u001b[0;34m(\u001b[0m\u001b[0mself\u001b[0m\u001b[0;34m)\u001b[0m\u001b[0;34m:\u001b[0m\u001b[0;34m\u001b[0m\u001b[0;34m\u001b[0m\u001b[0m\n",
      "\u001b[0;32m~/anaconda3/lib/python3.6/site-packages/neo4j/work/result.py\u001b[0m in \u001b[0;36m_attach\u001b[0;34m(self)\u001b[0m\n\u001b[1;32m    200\u001b[0m         \u001b[0;32mif\u001b[0m \u001b[0mself\u001b[0m\u001b[0;34m.\u001b[0m\u001b[0m_closed\u001b[0m \u001b[0;32mis\u001b[0m \u001b[0;32mFalse\u001b[0m\u001b[0;34m:\u001b[0m\u001b[0;34m\u001b[0m\u001b[0;34m\u001b[0m\u001b[0m\n\u001b[1;32m    201\u001b[0m             \u001b[0;32mwhile\u001b[0m \u001b[0mself\u001b[0m\u001b[0;34m.\u001b[0m\u001b[0m_attached\u001b[0m \u001b[0;32mis\u001b[0m \u001b[0;32mFalse\u001b[0m\u001b[0;34m:\u001b[0m\u001b[0;34m\u001b[0m\u001b[0;34m\u001b[0m\u001b[0m\n\u001b[0;32m--> 202\u001b[0;31m                 \u001b[0mself\u001b[0m\u001b[0;34m.\u001b[0m\u001b[0m_connection\u001b[0m\u001b[0;34m.\u001b[0m\u001b[0mfetch_message\u001b[0m\u001b[0;34m(\u001b[0m\u001b[0;34m)\u001b[0m\u001b[0;34m\u001b[0m\u001b[0;34m\u001b[0m\u001b[0m\n\u001b[0m\u001b[1;32m    203\u001b[0m \u001b[0;34m\u001b[0m\u001b[0m\n\u001b[1;32m    204\u001b[0m     \u001b[0;32mdef\u001b[0m \u001b[0m_buffer_all\u001b[0m\u001b[0;34m(\u001b[0m\u001b[0mself\u001b[0m\u001b[0;34m)\u001b[0m\u001b[0;34m:\u001b[0m\u001b[0;34m\u001b[0m\u001b[0;34m\u001b[0m\u001b[0m\n",
      "\u001b[0;32m~/anaconda3/lib/python3.6/site-packages/neo4j/io/_bolt4.py\u001b[0m in \u001b[0;36mfetch_message\u001b[0;34m(self)\u001b[0m\n\u001b[1;32m    361\u001b[0m             \u001b[0mlog\u001b[0m\u001b[0;34m.\u001b[0m\u001b[0mdebug\u001b[0m\u001b[0;34m(\u001b[0m\u001b[0;34m\"[#%04X]  S: FAILURE %r\"\u001b[0m\u001b[0;34m,\u001b[0m \u001b[0mself\u001b[0m\u001b[0;34m.\u001b[0m\u001b[0mlocal_port\u001b[0m\u001b[0;34m,\u001b[0m \u001b[0msummary_metadata\u001b[0m\u001b[0;34m)\u001b[0m\u001b[0;34m\u001b[0m\u001b[0;34m\u001b[0m\u001b[0m\n\u001b[1;32m    362\u001b[0m             \u001b[0;32mtry\u001b[0m\u001b[0;34m:\u001b[0m\u001b[0;34m\u001b[0m\u001b[0;34m\u001b[0m\u001b[0m\n\u001b[0;32m--> 363\u001b[0;31m                 \u001b[0mresponse\u001b[0m\u001b[0;34m.\u001b[0m\u001b[0mon_failure\u001b[0m\u001b[0;34m(\u001b[0m\u001b[0msummary_metadata\u001b[0m \u001b[0;32mor\u001b[0m \u001b[0;34m{\u001b[0m\u001b[0;34m}\u001b[0m\u001b[0;34m)\u001b[0m\u001b[0;34m\u001b[0m\u001b[0;34m\u001b[0m\u001b[0m\n\u001b[0m\u001b[1;32m    364\u001b[0m             \u001b[0;32mexcept\u001b[0m \u001b[0;34m(\u001b[0m\u001b[0mServiceUnavailable\u001b[0m\u001b[0;34m,\u001b[0m \u001b[0mDatabaseUnavailable\u001b[0m\u001b[0;34m)\u001b[0m\u001b[0;34m:\u001b[0m\u001b[0;34m\u001b[0m\u001b[0;34m\u001b[0m\u001b[0m\n\u001b[1;32m    365\u001b[0m                 \u001b[0;32mif\u001b[0m \u001b[0mself\u001b[0m\u001b[0;34m.\u001b[0m\u001b[0mpool\u001b[0m\u001b[0;34m:\u001b[0m\u001b[0;34m\u001b[0m\u001b[0;34m\u001b[0m\u001b[0m\n",
      "\u001b[0;32m~/anaconda3/lib/python3.6/site-packages/neo4j/io/_common.py\u001b[0m in \u001b[0;36mon_failure\u001b[0;34m(self, metadata)\u001b[0m\n\u001b[1;32m    177\u001b[0m         \u001b[0;32mif\u001b[0m \u001b[0mcallable\u001b[0m\u001b[0;34m(\u001b[0m\u001b[0mhandler\u001b[0m\u001b[0;34m)\u001b[0m\u001b[0;34m:\u001b[0m\u001b[0;34m\u001b[0m\u001b[0;34m\u001b[0m\u001b[0m\n\u001b[1;32m    178\u001b[0m             \u001b[0mhandler\u001b[0m\u001b[0;34m(\u001b[0m\u001b[0;34m)\u001b[0m\u001b[0;34m\u001b[0m\u001b[0;34m\u001b[0m\u001b[0m\n\u001b[0;32m--> 179\u001b[0;31m         \u001b[0;32mraise\u001b[0m \u001b[0mNeo4jError\u001b[0m\u001b[0;34m.\u001b[0m\u001b[0mhydrate\u001b[0m\u001b[0;34m(\u001b[0m\u001b[0;34m**\u001b[0m\u001b[0mmetadata\u001b[0m\u001b[0;34m)\u001b[0m\u001b[0;34m\u001b[0m\u001b[0;34m\u001b[0m\u001b[0m\n\u001b[0m\u001b[1;32m    180\u001b[0m \u001b[0;34m\u001b[0m\u001b[0m\n\u001b[1;32m    181\u001b[0m     \u001b[0;32mdef\u001b[0m \u001b[0mon_ignored\u001b[0m\u001b[0;34m(\u001b[0m\u001b[0mself\u001b[0m\u001b[0;34m,\u001b[0m \u001b[0mmetadata\u001b[0m\u001b[0;34m=\u001b[0m\u001b[0;32mNone\u001b[0m\u001b[0;34m)\u001b[0m\u001b[0;34m:\u001b[0m\u001b[0;34m\u001b[0m\u001b[0;34m\u001b[0m\u001b[0m\n",
      "\u001b[0;31mCypherSyntaxError\u001b[0m: {code: Neo.ClientError.Statement.SyntaxError} {message: Unknown function 'apoc.date.currentTimestamp' (line 3, column 36 (offset: 77))\n\"SET t += {creationTime: apoc.date.currentTimestamp(), inDegree: $inDegree, outDegree: $outDegree, outSum: $outSum, inSum: $inSum, date: date($block_date)}\"\n                                     ^}"
     ]
    }
   ],
   "source": [
    "def run_tx(tx, event):\n",
    "    tx.run(transactionQuery, \n",
    "           txid         = event[\"txid\"], \n",
    "           output_list  = event[\"output_list\"], \n",
    "           block_hash   = event[\"block_hash\"], \n",
    "           inDegree     = event[\"inDegree\"], \n",
    "           outDegree    = event[\"outDegree\"], \n",
    "           outSum       = event[\"outSum\"],\n",
    "           inSum        = event[\"inSum\"],\n",
    "           input_list   = event[\"input_list\"], \n",
    "           block_date   = event[\"block_date\"])\n",
    "\n",
    "\n",
    "with driver.session() as session:\n",
    "    session.write_transaction(run_tx, test)"
   ]
  },
  {
   "cell_type": "markdown",
   "metadata": {},
   "source": [
    "### Blocks"
   ]
  },
  {
   "cell_type": "code",
   "execution_count": null,
   "metadata": {},
   "outputs": [],
   "source": [
    "def create_block(tx, block_hash, block_height, block_median_time, block_date, previousblockhash):\n",
    "    tx.run(blockQuery, \n",
    "           block_hash=block_hash, \n",
    "           block_height=block_height, \n",
    "           block_median_time=block_median_time, \n",
    "           block_date=block_date,\n",
    "           previousblockhash=previousblockhash)\n",
    "\n",
    "block = block_data\n",
    "with driver.session() as session:\n",
    "    session.write_transaction(create_block, \n",
    "                              block['block_hash'], \n",
    "                              block['block_height'], \n",
    "                              block['block_median_time'],\n",
    "                              block['block_date'],\n",
    "                              block['previousblockhash'])\n",
    "        "
   ]
  }
 ],
 "metadata": {
  "kernelspec": {
   "display_name": "Python 3",
   "language": "python",
   "name": "python3"
  },
  "language_info": {
   "codemirror_mode": {
    "name": "ipython",
    "version": 3
   },
   "file_extension": ".py",
   "mimetype": "text/x-python",
   "name": "python",
   "nbconvert_exporter": "python",
   "pygments_lexer": "ipython3",
   "version": "3.6.10"
  }
 },
 "nbformat": 4,
 "nbformat_minor": 4
}
