{
 "cells": [
  {
   "cell_type": "markdown",
   "metadata": {},
   "source": [
    "# Cypher queries\n",
    "\n",
    "## Testing import from blocks and transaction topics by sample queries"
   ]
  },
  {
   "cell_type": "code",
   "execution_count": 2,
   "metadata": {},
   "outputs": [],
   "source": [
    "from neo4j import GraphDatabase\n",
    "\n",
    "uri = \"neo4j://localhost:7687\"\n",
    "driver = GraphDatabase.driver(uri, auth=(\"neo4j\", \"neo4j\"))"
   ]
  },
  {
   "cell_type": "markdown",
   "metadata": {},
   "source": [
    "## Example Data"
   ]
  },
  {
   "cell_type": "code",
   "execution_count": 3,
   "metadata": {},
   "outputs": [],
   "source": [
    "# block node\n",
    "b1 = {\n",
    "        \"block_hash\": \"00000000000000000008bb27dd339ad1b2534f9060907a2be6925bb375395ba2\",\n",
    "        \"block_height\": \"681545\",\n",
    "        \"block_timestamp\" : \"2021-05-02 16:50:00\",\n",
    "        \"p_block_hash\": \"00\"\n",
    "    }\n",
    "\n",
    "b2 = {\n",
    "        \"block_hash\": \"00000000000000000008bb27dd339ad1b2534f9060907a2be6925bb375395986\",\n",
    "        \"block_height\": \"6815765\",\n",
    "        \"block_timestamp\" : \"2021-05-02 17:00:00\",\n",
    "        \"p_block_hash\": \"00000000000000000008bb27dd339ad1b2534f9060907a2be6925bb375395ba2\"\n",
    "    }\n",
    "\n",
    "b3 = {\n",
    "        \"block_hash\": \"00000000000000000008bb27dd339ad1238912s73981273981d7298127491824\",\n",
    "        \"block_height\": \"6815766\",\n",
    "        \"block_timestamp\" : \"2021-05-02 17:00:00\",\n",
    "        \"p_block_hash\": \"00000000000000000008bb27dd339ad1b2534f9060907a2be6925bb375395986\"\n",
    "    }\n",
    "\n",
    "# transaction node \n",
    "t0 = {\n",
    "    \"txid\": \"0\",\n",
    "    \"block_date\": \"2021-05-02\",\n",
    "    \"inDegree\": 1,\n",
    "    \"outDegree\": 2, \n",
    "    \"inSum\": 10,\n",
    "    \"outSum\": 10\n",
    "}\n",
    "\n",
    "t1 = {\n",
    "    \"txid\": \"cebc8ac65d27d9ae05aad5249e5b991e01d50b256118ea1722373a212814b81e\",\n",
    "    \"block_date\": \"2021-05-02\",\n",
    "    \"inDegree\": 1,\n",
    "    \"outDegree\": 4, \n",
    "    \"inSum\": 20.0,\n",
    "    \"outSum\": 13.07\n",
    "}\n",
    "\n",
    "# address node \n",
    "a1 = {\n",
    "    \"address\": \"1EepjXgvWUoRyNvuLSAxjiqZ1QqKGDANLW\",\n",
    "    \"inDegree\": 1, \n",
    "    \"outDegree\": 1\n",
    "}\n",
    "\n",
    "# FOREACH Test\n",
    "f0 = {\n",
    "    \"txid\" : \"0\",\n",
    "    \"addresses\": [\n",
    "        {\n",
    "            \"addr\": \"id_addr0\",\n",
    "            \"output_nr\": 0\n",
    "        },\n",
    "        {\n",
    "            \"addr\": \"id_addr1\",\n",
    "            \"output_nr\": 1\n",
    "        },\n",
    "        \n",
    "    ], \n",
    "    \"block_hash\":'00000000000000000008bb27dd339ad1b2534f9060907a2be6925bb375395ba2'\n",
    "    \n",
    "}\n",
    "\n",
    "f1 = {\n",
    "    \"txid\" : \"1\",\n",
    "    \"addresses\": [\n",
    "        {\n",
    "            \"addr\": \"id_addr1_0\",\n",
    "            \"output_nr\": 0\n",
    "        },\n",
    "        {\n",
    "            \"addr\": \"id_addr1_1\",\n",
    "            \"output_nr\": 1\n",
    "        },\n",
    "        \n",
    "    ],\n",
    "    \"input_txid\":\"0\",\n",
    "    \"input_vout\":1,\n",
    "    \"block_hash\":'00000000000000000008bb27dd339ad1238912s73981273981d7298127491824'\n",
    "    \n",
    "}\n"
   ]
  },
  {
   "cell_type": "code",
   "execution_count": 65,
   "metadata": {},
   "outputs": [],
   "source": [
    "%run bitcoin\\ json-rpc-functions.ipynb"
   ]
  },
  {
   "cell_type": "code",
   "execution_count": 66,
   "metadata": {},
   "outputs": [
    {
     "name": "stdout",
     "output_type": "stream",
     "text": [
      "Block Nr: 600000 - Hash:  00000000000000000007316856900e76b4f7a9139cfbfba89842c8d196cd5f91\n"
     ]
    },
    {
     "data": {
      "text/plain": [
       "{'block_hash': '00000000000000000007316856900e76b4f7a9139cfbfba89842c8d196cd5f91',\n",
       " 'block_height': 600000,\n",
       " 'block_median_time': '2019-10-19T02:04',\n",
       " 'block_date': '2019-10-19',\n",
       " 'previousblockhash': '00000000000000000003ecd827f336c6971f6f77a0b9fba362398dd867975645'}"
      ]
     },
     "metadata": {},
     "output_type": "display_data"
    }
   ],
   "source": [
    "height = 600000\n",
    "block_hash = getBlockHash(height)\n",
    "print('Block Nr:', height, '- Hash: ', block_hash)\n",
    "data, block = getblock(block_hash)#\n",
    "display(data)\n",
    "#block"
   ]
  },
  {
   "cell_type": "code",
   "execution_count": 67,
   "metadata": {},
   "outputs": [
    {
     "data": {
      "text/plain": [
       "{'txid': 'a8178a7223372414ac060b4bba4b33b8b4847a756fa76a715af7fd11bfd143d5',\n",
       " 'block_hash': '00000000000000000007316856900e76b4f7a9139cfbfba89842c8d196cd5f91',\n",
       " 'block_date': '2019-10-19',\n",
       " 'outDegree': 3,\n",
       " 'inDegree': 1,\n",
       " 'outSum': 138819784059,\n",
       " 'inSum': 138819884059,\n",
       " 'input_list': [{'addr': '17A16QmavnUfCW11DAApiJxp7ARnxN5pGX',\n",
       "   'val': 138819884059}],\n",
       " 'output_list': [{'addr': '3QKAn2B1uDquujLZnoynVoq1M9uac66Ysr',\n",
       "   'outNr': 0,\n",
       "   'val': 0.00795759},\n",
       "  {'addr': '1F8fDpYbMLMaz1tBEehqPJSN8XTL6t5TDz',\n",
       "   'outNr': 1,\n",
       "   'val': 0.01241006},\n",
       "  {'addr': '17A16QmavnUfCW11DAApiJxp7ARnxN5pGX',\n",
       "   'outNr': 2,\n",
       "   'val': 1388.17747294}]}"
      ]
     },
     "execution_count": 67,
     "metadata": {},
     "output_type": "execute_result"
    }
   ],
   "source": [
    "transactions = block['tx']\n",
    "tx = gettx(transactions[1])\n",
    "tx"
   ]
  },
  {
   "cell_type": "markdown",
   "metadata": {},
   "source": [
    "## Transactions\n"
   ]
  },
  {
   "cell_type": "code",
   "execution_count": null,
   "metadata": {},
   "outputs": [],
   "source": [
    "def create_transaction(tx, txid, block_date, inDegree, outDegree, inSum, outSum):\n",
    "    tx.run('MERGE (t:Transaction{txid: $txid, block_date: $block_date, inDegree: $inDegree, outDegree: $outDegree, inSum: $inSum, outSum: $outSum})',\n",
    "           txid=txid, block_date=block_date, inDegree=inDegree, outDegree=outDegree, inSum=inSum, outSum=outSum)"
   ]
  },
  {
   "cell_type": "code",
   "execution_count": null,
   "metadata": {},
   "outputs": [],
   "source": [
    "t = t1\n",
    "with driver.session() as session:\n",
    "    session.write_transaction(create_transaction, \n",
    "                              t['txid'],\n",
    "                              t['block_date'],\n",
    "                              t['inDegree'],\n",
    "                              t['outDegree'],\n",
    "                              t['inSum'],\n",
    "                              t['outSum'])"
   ]
  },
  {
   "cell_type": "markdown",
   "metadata": {},
   "source": [
    "#### FOREACH Test"
   ]
  },
  {
   "cell_type": "code",
   "execution_count": null,
   "metadata": {},
   "outputs": [],
   "source": [
    "def test_foreach(tx, txid, addresses):\n",
    "    tx.run('MERGE (f:Transaction{txid: $txid}) '\n",
    "           'FOREACH (address in $addresses | '\n",
    "           ' MERGE (a:Address{txid: address.addr}) '\n",
    "           ' MERGE (f)-[r:RECEIVES{output_nr: address.output_nr}]->(a))',\n",
    "           txid=txid, addresses=addresses)"
   ]
  },
  {
   "cell_type": "code",
   "execution_count": null,
   "metadata": {},
   "outputs": [],
   "source": [
    "query = '''\n",
    "    MATCH (input_t:Transaction)-[input_r:RECEIVES]->(input_a:Address) \n",
    "        WHERE \n",
    "            input_t.txid =\"0\" AND \n",
    "            input_r.output_nr = 0 \n",
    "            \n",
    "    \n",
    "    MERGE (t:Transaction{txid: $txid}) \n",
    "    \n",
    "    MERGE (input_a)-[:Sends]->(t)\n",
    "    MERGE (b:Block{hash: $blockhash})\n",
    "    MERGE (t)-[:BELONGS_TO]->(b)\n",
    "    \n",
    "    FOREACH (address in $addresses | \n",
    "        MERGE (a:Address{txid: address.addr}) \n",
    "        MERGE (t)-[r:RECEIVES{output_nr: address.output_nr}]->(a))\n",
    "    '''\n",
    "\n",
    "def test_foreach(tx, txid, addresses, blockhash):\n",
    "    tx.run(query, txid=txid, addresses=addresses, blockhash=blockhash)"
   ]
  },
  {
   "cell_type": "code",
   "execution_count": null,
   "metadata": {},
   "outputs": [],
   "source": [
    "f = f1\n",
    "with driver.session() as session:\n",
    "    session.write_transaction(test_foreach, f[\"txid\"], f[\"addresses\"], f[\"block_hash\"])"
   ]
  },
  {
   "cell_type": "markdown",
   "metadata": {},
   "source": [
    "#### Next step testing 13.05."
   ]
  },
  {
   "cell_type": "code",
   "execution_count": 51,
   "metadata": {},
   "outputs": [],
   "source": [
    "### Current Structure\n",
    "t0 = {\n",
    "    \"txid\": \"0000000fdb4d9b9479d9b061921cb9d073f1c814a3bbef30ccae212ab651952d\",\n",
    "    \"block_hash\": \"000000000000000000069eef0a89044c11d96e2f9c33b4c5a8f7e402c717cb10\",\n",
    "    \"address_list\": [\n",
    "        {\n",
    "            \"addr\": \"1Nvv2vdKssYTJNPYkqmsHHf9Kn7ei4nbXu\",\n",
    "            \"output_nr\": 0\n",
    "        },\n",
    "        {\n",
    "            \"addr\": \"1gucZbN2LdKr2z3szVWx1ZiQNeYgXK6py\",\n",
    "            \"output_nr\": 1\n",
    "        }\n",
    "    ],\n",
    "    \"inDegree\": 2,\n",
    "    \"outDegree\": 2,\n",
    "    \"outSum\": 2431925,\n",
    "    \"input_list\": [\n",
    "        {\n",
    "            \"txid\": \"11f3cdf4ed881811d5cf710e7fb8e6115768c999990a35b8f092e5e94adfbd5d\",\n",
    "            \"output_nr\": 0\n",
    "        },\n",
    "        {\n",
    "            \"txid\": \"e365bf7ee8f4466096743d53b327cddc2054df284f46907abc9a84477f91470d\",\n",
    "            \"output_nr\": 1\n",
    "        }\n",
    "    ]\n",
    "}\n",
    "\n",
    "\n",
    "### Current Structure + date + out.value\n",
    "t1 = {\n",
    "    \"txid\": \"0000000fdb4d9b9479d9b061921cb9d073f1c814a3bbef30ccae212ab651952d\",\n",
    "    \"block_hash\": \"000000000000000000069eef0a89044c11d96e2f9c33b4c5a8f7e402c717cb10\",\n",
    "    \"address_list\": [\n",
    "        {\n",
    "            \"addr\": \"1Nvv2vdKssYTJNPYkqmsHHf9Kn7ei4nbXu\",\n",
    "            \"output_nr\": 0,\n",
    "            \"value\": 23000\n",
    "        },\n",
    "        {\n",
    "            \"addr\": \"1gucZbN2LdKr2z3szVWx1ZiQNeYgXK6py\",\n",
    "            \"output_nr\": 1,\n",
    "            \"value\": 1 \n",
    "        }\n",
    "    ],\n",
    "    \"inDegree\": 2,\n",
    "    \"outDegree\": 2,\n",
    "    \"outSum\": 2431925,\n",
    "    \"date\":\"2020-03_30\",\n",
    "    \"input_list\": [\n",
    "        {\n",
    "            \"txid\": \"11f3cdf4ed881811d5cf710e7fb8e6115768c999990a35b8f092e5e94adfbd5d\",\n",
    "            \"output_nr\": 0\n",
    "\n",
    "        },\n",
    "        {\n",
    "            \"txid\": \"e365bf7ee8f4466096743d53b327cddc2054df284f46907abc9a84477f91470d\",\n",
    "            \"output_nr\": 1\n",
    "        }\n",
    "    ]\n",
    "}\n",
    "\n",
    "### Current Structure + date + out.value\n",
    "t2 = {\n",
    "    \"txid\": \"0000000fdb4d9b9479d9b061921cb9d073f1c814a3bbef30ccae212ab651952d\",\n",
    "    \"block_hash\": \"000000000000000000069eef0a89044c11d96e2f9c33b4c5a8f7e402c717cb10\",\n",
    "    \"address_list\": [\n",
    "        {\n",
    "            \"addr\": \"1Nvv2vdKssYTJNPYkqmsHHf9Kn7ei4nbXu\",\n",
    "            \"output_nr\": 0,\n",
    "            \"value\": 23000\n",
    "        },\n",
    "        {\n",
    "            \"addr\": \"1gucZbN2LdKr2z3szVWx1ZiQNeYgXK6py\",\n",
    "            \"output_nr\": 1,\n",
    "            \"value\": 1 \n",
    "        }\n",
    "    ],\n",
    "    \"inDegree\": 2,\n",
    "    \"outDegree\": 2,\n",
    "    \"outSum\": 2431925,\n",
    "    \"input_list\": [\n",
    "        {\n",
    "            \"addr\": \"11f3cdf4ed881811d5cf710e7fb8e6115768c999990a35b8f092e5e94adfbd5d\",\n",
    "            \"output_nr\": 0\n",
    "        },\n",
    "        {\n",
    "            \"txid\": \"e365bf7ee8f4466096743d53b327cddc2054df284f46907abc9a84477f91470d\",\n",
    "            \"output_nr\": 1\n",
    "        }\n",
    "    ]\n",
    "}\n",
    "\n",
    "\n"
   ]
  },
  {
   "cell_type": "markdown",
   "metadata": {},
   "source": [
    "##### NOTES & fragments\n",
    "\n",
    "'''\n",
    "    MATCH (input_t:Transaction)-[input_r:RECEIVES]->(input_a:Address) \n",
    "        WHERE \n",
    "            input_t.txid =\"0\" AND \n",
    "            input_r.output_nr = 0 \n",
    "    MERGE (input_a)-[:Sends]->(t)\n",
    "'''\n",
    "\n",
    "'''\n",
    "    MERGE (t:Transaction{txid: $txid}) \n",
    "        SET t = {txid: $txid, inDegree: $inDegree, outDegree: $outDegree, outSum: $outSum}\n",
    "\n",
    "    MERGE (b:Block{hash: $block_hash})\n",
    "    MERGE (t)-[:BELONGS_TO]->(b)\n",
    "    \n",
    "    FOREACH (o_address in $address_list | \n",
    "        MERGE (o_a:Address{txid: o_address.addr}) \n",
    "        MERGE (t)-[r:RECEIVES{output_nr: o_address.output_nr}]->(o_a))\n",
    "        \n",
    "    FOREACH (input in $input_list | \n",
    "        MATCH (i_tx:Transaction)-[i_r:RECEIVES]->(i_a:Address)\n",
    "        WHERE\n",
    "            i_tx.txid = input.txid AND \n",
    "            i_r.output_nr = input.output_nr \n",
    "        MERGE (i_a)-[:Sends]->(t))\n",
    "    '''"
   ]
  },
  {
   "cell_type": "code",
   "execution_count": 57,
   "metadata": {},
   "outputs": [],
   "source": [
    "###Current Structure\n",
    "\n",
    "## Amend\n",
    "# - input receives value\n",
    "# - input sends value\n",
    "\n",
    "\n",
    "query = '''\n",
    "    MERGE (t:Transaction{txid: $txid}) \n",
    "        SET t = {txid: $txid, inDegree: $inDegree, outDegree: $outDegree, outSum: $outSum}\n",
    "\n",
    "    MERGE (b:Block{hash: $block_hash})\n",
    "    MERGE (t)-[:BELONGS_TO]->(b)\n",
    "    \n",
    "    FOREACH (o_address in $address_list | \n",
    "        MERGE (o_a:Address{address: o_address.addr}) \n",
    "            ON CREATE SET o_a = {address: o_address.addr, inDegree: 1}\n",
    "            ON MATCH  SET o_a = {inDegree: o_a.inDegree + 1}\n",
    "        MERGE (t)-[r:RECEIVES{output_nr: o_address.outNr}]->(o_a))\n",
    "        \n",
    "    FOREACH (input in $input_list | \n",
    "        MERGE (i_tx:Transaction{txid: input.txid})-[i_r:RECEIVES{output_nr: input.output_nr, value: 2}]->(i_a:Address)\n",
    "            ON MATCH SET i_a = {outDegree: i_a.outDegree + 1}\n",
    "        MERGE (i_a)-[:Sends{value: i_r.value}]->(t))\n",
    "    '''\n",
    "\n",
    "def run_tx(tx, event):\n",
    "    tx.run(query, \n",
    "           txid         = event[\"txid\"], \n",
    "           address_list = event[\"address_list\"], \n",
    "           block_hash   = event[\"block_hash\"], \n",
    "           inDegree     = event[\"inDegree\"], \n",
    "           outDegree    = event[\"outDegree\"], \n",
    "           outSum       = event[\"outSum\"],\n",
    "           input_list   = event[\"input_list\"])\n",
    "    \n",
    "t = t0"
   ]
  },
  {
   "cell_type": "code",
   "execution_count": 58,
   "metadata": {},
   "outputs": [],
   "source": [
    "###Current Structure + amendmends\n",
    "\n",
    "query = '''\n",
    "    MERGE (t:Transaction{txid: $txid}) \n",
    "        SET t = {txid: $txid, inDegree: $inDegree, outDegree: $outDegree, outSum: $outSum, date: $date}\n",
    "\n",
    "    MERGE (b:Block{hash: $block_hash})\n",
    "    MERGE (t)-[:BELONGS_TO]->(b)\n",
    "    \n",
    "    FOREACH (o_address in $address_list | \n",
    "        MERGE (o_a:Address{address: o_address.addr}) \n",
    "            ON CREATE SET o_a = {address: o_address.addr, inDegree: 1}\n",
    "            ON MATCH  SET o_a = {inDegree: o_a.inDegree + 1}\n",
    "        MERGE (t)-[r:RECEIVES{output_nr: o_address.output_nr, value: o_address.value}]->(o_a))\n",
    "        \n",
    "    FOREACH (input in $input_list | \n",
    "        MERGE (i_tx:Transaction{txid: input.txid})-[i_r:RECEIVES{output_nr: input.output_nr, value: 2}]->(i_a:Address)\n",
    "            ON MATCH SET i_a = {outDegree: i_a.outDegree + 1}\n",
    "        MERGE (i_a)-[:Sends{value: i_r.value}]->(t))\n",
    "        \n",
    "    '''\n",
    "# increment the outdegree\n",
    "\n",
    "def run_tx(tx, event):\n",
    "    tx.run(query, \n",
    "           txid         = event[\"txid\"], \n",
    "           address_list = event[\"address_list\"], \n",
    "           block_hash   = event[\"block_hash\"], \n",
    "           inDegree     = event[\"inDegree\"], \n",
    "           outDegree    = event[\"outDegree\"], \n",
    "           outSum       = event[\"outSum\"],\n",
    "           input_list   = event[\"input_list\"], \n",
    "           date         = event[\"date\"])\n",
    "t = t1"
   ]
  },
  {
   "cell_type": "code",
   "execution_count": 80,
   "metadata": {},
   "outputs": [],
   "source": [
    "###Address matching Structure + amendmends\n",
    "\n",
    "query = '''\n",
    "    MERGE (t:Transaction{txid: $txid}) \n",
    "        SET t += {inDegree: $inDegree, outDegree: $outDegree, outSum: $outSum, date: $date}\n",
    "\n",
    "    MERGE (b:Block{hash: $block_hash})\n",
    "    MERGE (t)-[:BELONGS_TO]->(b)\n",
    "    \n",
    "    FOREACH (output in $output_list | \n",
    "        MERGE (o_a:Address{address: output.addr}) \n",
    "            ON CREATE SET o_a += {inDegree: 1, outDegree: 0}\n",
    "            ON MATCH  SET o_a += {inDegree: o_a.inDegree + 1}\n",
    "        MERGE (t)-[r:RECEIVES{output_nr: output.outNr, value: output.val}]->(o_a))\n",
    "        \n",
    "    FOREACH (input in $input_list | \n",
    "        MERGE (i_a:Address{address: input.addr})\n",
    "            ON MATCH SET i_a += {outDegree: i_a.outDegree + 1}\n",
    "        MERGE (i_a)-[:Sends{value: input.val}]->(t))\n",
    "    '''\n",
    "\n",
    "\n",
    "def run_tx(tx, event):\n",
    "    tx.run(query, \n",
    "           txid         = event[\"txid\"], \n",
    "           output_list  = event[\"output_list\"], \n",
    "           block_hash   = event[\"block_hash\"], \n",
    "           inDegree     = event[\"inDegree\"], \n",
    "           outDegree    = event[\"outDegree\"], \n",
    "           outSum       = event[\"outSum\"],\n",
    "           input_list   = event[\"input_list\"], \n",
    "           date         = event[\"block_date\"])\n",
    "t = tx"
   ]
  },
  {
   "cell_type": "code",
   "execution_count": 81,
   "metadata": {},
   "outputs": [],
   "source": [
    "#t = t0\n",
    "with driver.session() as session:\n",
    "    session.write_transaction(run_tx, t)"
   ]
  },
  {
   "cell_type": "markdown",
   "metadata": {},
   "source": [
    "## Final TX query"
   ]
  },
  {
   "cell_type": "code",
   "execution_count": 27,
   "metadata": {},
   "outputs": [],
   "source": [
    "q_final = '''\n",
    "MERGE (t:Transaction{txid: event.txid})\n",
    "    SET t += {inDegree: event.inDegree, outDegree: event.outDegree, outSum: event.outSum, date: event.date}\n",
    "\n",
    "MERGE (b:Block{hash: event.block_hash})\n",
    "MERGE (t)-[:BELONGS_TO]->(b)\n",
    "\n",
    "FOREACH (output in event.output_list |\n",
    "    MERGE (o_a:Address{address: output.addr})\n",
    "        ON CREATE SET o_a += {inDegree: 1, outDegree: 0}\n",
    "        ON MATCH  SET o_a += {inDegree: o_a.inDegree + 1}\n",
    "    MERGE (t)-[r:RECEIVES{output_nr: output.outNr, value: output.val}]->(o_a))\n",
    "\n",
    "FOREACH (input in event.input_list |\n",
    "    MERGE (i_a:Address{address: input.addr})\n",
    "        ON MATCH SET i_a += {outDegree: i_a.outDegree + 1}\n",
    "    MERGE (i_a)-[:Sends{value: input.val}]->(t))\n",
    "'''"
   ]
  },
  {
   "cell_type": "code",
   "execution_count": 29,
   "metadata": {},
   "outputs": [
    {
     "data": {
      "text/plain": [
       "' MERGE (t:Transaction{txid: event.txid}) SET t += {inDegree: event.inDegree, outDegree: event.outDegree, outSum: event.outSum, date: event.date}  MERGE (b:Block{hash: event.block_hash}) MERGE (t)-[:BELONGS_TO]->(b)  FOREACH (output in event.output_list | MERGE (o_a:Address{address: output.addr}) ON CREATE SET o_a += {inDegree: 1, outDegree: 0} ON MATCH  SET o_a += {inDegree: o_a.inDegree + 1} MERGE (t)-[r:RECEIVES{output_nr: output.outNr, value: output.val}]->(o_a))  FOREACH (input in event.input_list | MERGE (i_a:Address{address: input.addr}) ON MATCH SET i_a += {outDegree: i_a.outDegree + 1} MERGE (i_a)-[:Sends{value: input.val}]->(t)) '"
      ]
     },
     "execution_count": 29,
     "metadata": {},
     "output_type": "execute_result"
    }
   ],
   "source": [
    "#### Convert final query by cutting all linebreaks...\n",
    "omit_characters = [\"\\n\", \"     \", \"     \"]\n",
    "for i in omit_characters:\n",
    "    q_final = q_final.replace(i, \" \")\n",
    "q_final"
   ]
  },
  {
   "cell_type": "markdown",
   "metadata": {},
   "source": [
    "## Blocks\n",
    "\n",
    "#### Creating initial block for backreferencing"
   ]
  },
  {
   "cell_type": "code",
   "execution_count": null,
   "metadata": {},
   "outputs": [],
   "source": []
  },
  {
   "cell_type": "code",
   "execution_count": null,
   "metadata": {},
   "outputs": [],
   "source": [
    "def create_initial_block(tx, initial_hash):\n",
    "    tx.run('CREATE (b:Block{hash: $initial_hash})', initial_hash=initial_hash)\n",
    "\n",
    "with driver.session() as session:\n",
    "    session.write_transaction(create_initial_block, b1['p_block_hash'])"
   ]
  },
  {
   "cell_type": "markdown",
   "metadata": {},
   "source": [
    "#### Function to create additional blocks"
   ]
  },
  {
   "cell_type": "code",
   "execution_count": null,
   "metadata": {},
   "outputs": [],
   "source": [
    "def create_block(tx, block_hash, block_height, block_timestamp):\n",
    "    tx.run('MERGE (b:Block{hash: $block_hash, height: $block_height, timestamp: $block_timestamp})',\n",
    "           block_hash=block_hash, block_height=block_height, block_timestamp=block_timestamp)"
   ]
  },
  {
   "cell_type": "code",
   "execution_count": null,
   "metadata": {},
   "outputs": [],
   "source": [
    "with driver.session() as session:\n",
    "    session.write_transaction(create_block, b2['block_hash'], b2['block_height'], b2['block_timestamp'])"
   ]
  },
  {
   "cell_type": "markdown",
   "metadata": {},
   "source": [
    "#### Block Creation and Back Referencing\n",
    "\n",
    "The function creates the new block, matches the preceding block and creates the relationship between both.\n",
    "<br>\n",
    "Issue: breaks if preciding block not creates (not found(?))"
   ]
  },
  {
   "cell_type": "code",
   "execution_count": null,
   "metadata": {},
   "outputs": [],
   "source": [
    "def create_block(tx, block_hash, block_height, block_timestamp, p_block_hash):\n",
    "    tx.run('MATCH (p:Block) WHERE p.hash = $p_block_hash ' \n",
    "           'MERGE (b:Block{hash: $block_hash, height: $block_height, timestamp: $block_timestamp}) '\n",
    "           'MERGE (p)-[r:Precedes]->(b)',\n",
    "           block_hash=block_hash, block_height=block_height, block_timestamp=block_timestamp, p_block_hash=p_block_hash)"
   ]
  },
  {
   "cell_type": "markdown",
   "metadata": {},
   "source": [
    "#### Alternative that recognizes whether the block was already created by the transaction"
   ]
  },
  {
   "cell_type": "code",
   "execution_count": null,
   "metadata": {},
   "outputs": [],
   "source": [
    "query = '''\n",
    "MATCH (p:Block) WHERE p.hash = $p_block_hash \n",
    "MERGE (b:Block {hash: $block_hash}) \n",
    "    SET b = {hash: $block_hash, height: $block_height, timestamp: $block_timestamp }\n",
    "MERGE (p)-[r:Precedes]->(b)\n",
    "'''\n",
    "\n",
    "def create_block(tx, block_hash, block_height, block_timestamp, p_block_hash):\n",
    "    tx.run(query, block_hash=block_hash, block_height=block_height, block_timestamp=block_timestamp, p_block_hash=p_block_hash)"
   ]
  },
  {
   "cell_type": "code",
   "execution_count": null,
   "metadata": {},
   "outputs": [],
   "source": [
    "block = b3\n",
    "with driver.session() as session:\n",
    "    session.write_transaction(create_block, \n",
    "                              block['block_hash'], \n",
    "                              block['block_height'], \n",
    "                              block['block_timestamp'],\n",
    "                              block['p_block_hash'])\n",
    "    "
   ]
  },
  {
   "cell_type": "markdown",
   "metadata": {},
   "source": [
    "#### Final Blocks query"
   ]
  },
  {
   "cell_type": "code",
   "execution_count": null,
   "metadata": {},
   "outputs": [],
   "source": [
    "\"\"\"\n",
    "MERGE (p:Block {hash: event.previousblockhash}) \n",
    "MERGE (b:Block {hash: event.block_hash}) \n",
    "SET b = {hash: event.block_hash, height: event.block_height, blockDate: event.block_date, mediantime: event.block_timestamp } \n",
    "MERGE (p)-[r:Precedes]->(b)\n",
    "\n",
    "\"\"\""
   ]
  },
  {
   "cell_type": "code",
   "execution_count": null,
   "metadata": {},
   "outputs": [],
   "source": []
  }
 ],
 "metadata": {
  "kernelspec": {
   "display_name": "Python 3",
   "language": "python",
   "name": "python3"
  },
  "language_info": {
   "codemirror_mode": {
    "name": "ipython",
    "version": 3
   },
   "file_extension": ".py",
   "mimetype": "text/x-python",
   "name": "python",
   "nbconvert_exporter": "python",
   "pygments_lexer": "ipython3",
   "version": "3.6.10"
  }
 },
 "nbformat": 4,
 "nbformat_minor": 4
}
