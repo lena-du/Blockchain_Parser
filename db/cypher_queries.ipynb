{
 "cells": [
  {
   "cell_type": "markdown",
   "metadata": {},
   "source": [
    "# Cypher queries\n",
    "\n",
    "## Testing import from blocks and transaction topics by sample queries"
   ]
  },
  {
   "cell_type": "code",
   "execution_count": null,
   "metadata": {},
   "outputs": [],
   "source": [
    "import numpy as np\n",
    "import time\n",
    "import sys\n",
    "sys.path.append(\"./evaluation\")\n",
    "from neo4jConnector import startNeo4jSession"
   ]
  },
  {
   "cell_type": "markdown",
   "metadata": {},
   "source": [
    "## Conversion functions "
   ]
  },
  {
   "cell_type": "code",
   "execution_count": null,
   "metadata": {},
   "outputs": [],
   "source": [
    "#### Convert final query by cutting all linebreaks...\n",
    "def createCypherForEvents(query):\n",
    "    new_query = query.replace('$', 'event.')\n",
    "    return new_query\n",
    "\n",
    "#### Convert final query by cutting all linebreaks...\n",
    "def omitSpacings(query):\n",
    "    omit_characters = [\"\\n\", \"     \", \"     \", \"  \"]\n",
    "    for i in omit_characters:\n",
    "        query = query.replace(i, \" \")\n",
    "    return query"
   ]
  },
  {
   "cell_type": "markdown",
   "metadata": {},
   "source": [
    "## Transactions\n"
   ]
  },
  {
   "cell_type": "code",
   "execution_count": null,
   "metadata": {},
   "outputs": [],
   "source": [
    "transactionQuery = '''\n",
    "    MERGE (t:Transaction{txid: $txid}) \n",
    "        SET t += {inDegree: $inDegree, outDegree: $outDegree, outSum: $outSum, inSum: $inSum, date: date($block_date)}\n",
    "\n",
    "    MERGE (b:Block{hash: $block_hash})\n",
    "    MERGE (t)-[:BELONGS_TO]->(b)\n",
    "    \n",
    "    FOREACH (output in $output_list | \n",
    "        MERGE (o_a:Address{address: output.addr}) \n",
    "            ON CREATE SET o_a += {inDegree: 1, outDegree: 0}\n",
    "            ON MATCH  SET o_a += {inDegree: o_a.inDegree + 1}\n",
    "        MERGE (t)-[r:RECEIVES{output_nr: output.outNr, value: output.val}]->(o_a))\n",
    "        \n",
    "    FOREACH (input in $input_list | \n",
    "        MERGE (i_a:Address{address: input.addr})\n",
    "            ON CREATE SET i_a += {inDegree: 0, outDegree: 1}\n",
    "            ON MATCH SET  i_a += {outDegree: i_a.outDegree + 1}\n",
    "        MERGE (i_a)-[:SENDS{value: input.val}]->(t))\n",
    "    '''\n",
    "\n",
    "\n",
    "## amanded for test and creationTime\n",
    "\n",
    "transactionQuery = '''\n",
    "    MERGE (t:Transaction_test{txid: $txid}) \n",
    "        SET t += {creationTime:apoc.date.currentTimestamp(), inDegree: $inDegree, outDegree: $outDegree, outSum: $outSum, inSum: $inSum, date: date($block_date)}\n",
    "\n",
    "    MERGE (b:Block_test{hash: $block_hash})\n",
    "    MERGE (t)-[:BELONGS_TO]->(b)\n",
    "    \n",
    "    FOREACH (output in $output_list | \n",
    "        MERGE (o_a:Address_test{address: output.addr}) \n",
    "            ON CREATE SET o_a += {creationTime:apoc.date.currentTimestamp(), inDegree: 1, outDegree: 0}\n",
    "            ON MATCH  SET o_a += {inDegree: o_a.inDegree + 1}\n",
    "        MERGE (t)-[r:RECEIVES{output_nr: output.outNr, value: output.val}]->(o_a))\n",
    "        \n",
    "    FOREACH (input in $input_list | \n",
    "        MERGE (i_a:Address_test{address: input.addr})\n",
    "            ON CREATE SET i_a += {creationTime:apoc.date.currentTimestamp(), inDegree: 0, outDegree: 1}\n",
    "            ON MATCH SET  i_a += {outDegree: i_a.outDegree + 1}\n",
    "        MERGE (i_a)-[:SENDS{value: input.val}]->(t))\n",
    "    '''\n",
    "\n"
   ]
  },
  {
   "cell_type": "markdown",
   "metadata": {},
   "source": [
    "## Final TX query"
   ]
  },
  {
   "cell_type": "code",
   "execution_count": null,
   "metadata": {},
   "outputs": [],
   "source": [
    "#### Convert final query by cutting all linebreaks...\n",
    "transactionQuery_forEvents = createCypherForEvents(transactionQuery)\n",
    "print(transactionQuery_forEvents)"
   ]
  },
  {
   "cell_type": "code",
   "execution_count": null,
   "metadata": {},
   "outputs": [],
   "source": [
    "#### Convert final query by cutting all linebreaks...\n",
    "transactionQuery_final = omitSpacings(transactionQuery_forEvents)\n",
    "print(transactionQuery_final)"
   ]
  },
  {
   "cell_type": "markdown",
   "metadata": {},
   "source": [
    "## Blocks"
   ]
  },
  {
   "cell_type": "code",
   "execution_count": null,
   "metadata": {},
   "outputs": [],
   "source": [
    "## !need to amend!\n",
    "blockQuery = '''\n",
    "MERGE (p:Block_test {hash: $previousblockhash})\n",
    "MERGE (b:Block_test {hash: $block_hash}) \n",
    "    SET b += {creationTime:apoc.date.currentTimestamp(), hash: $block_hash, height: $block_height, blockDate: date($block_date), mediantime: datetime($block_median_time) }\n",
    "MERGE (p)-[r:PRECEDES]->(b)\n",
    "'''"
   ]
  },
  {
   "cell_type": "markdown",
   "metadata": {},
   "source": [
    "## Final Block query"
   ]
  },
  {
   "cell_type": "code",
   "execution_count": null,
   "metadata": {},
   "outputs": [],
   "source": [
    "#### Convert final query by cutting all linebreaks...\n",
    "blockQuery_forEvents = createCypherForEvents(blockQuery)\n",
    "print(blockQuery_forEvents)"
   ]
  },
  {
   "cell_type": "code",
   "execution_count": null,
   "metadata": {},
   "outputs": [],
   "source": [
    "#### Convert final query by cutting all linebreaks...\n",
    "blockQuery_final = omitSpacings(blockQuery_forEvents)\n",
    "print(blockQuery_final)"
   ]
  },
  {
   "cell_type": "markdown",
   "metadata": {},
   "source": [
    "## Querying Neo4j directly"
   ]
  },
  {
   "cell_type": "code",
   "execution_count": null,
   "metadata": {},
   "outputs": [],
   "source": [
    "driver, session = startNeo4jSession(port=7688)"
   ]
  },
  {
   "cell_type": "markdown",
   "metadata": {},
   "source": [
    "### Example Data"
   ]
  },
  {
   "cell_type": "code",
   "execution_count": null,
   "metadata": {},
   "outputs": [],
   "source": [
    "#test data \n",
    "test = {'txid': '88d35b8d35ccaf8a315a2274d83081ab62aeda06fb2029af5c65b2a858f22fcb',\n",
    " 'block_hash': '00000000000000000005278b3b0d99196ded30c92edb64181abab711fb47527b',\n",
    " 'block_date': '2021-05-23',\n",
    " 'outDegree': 3,\n",
    " 'inDegree': 1,\n",
    " 'outSum': 656215465,\n",
    " 'inSum': 656215465,\n",
    " 'input_list': [{'addr': 'coinbase', 'val': 656215465}],\n",
    " 'output_list': [{'addr': '1Bf9sZvBHPFGVPX71WX2njhd1NXKv5y7v5', 'outNr': 0, 'val': 5}]}\n",
    "\n",
    "test = {'txid': 'd88fbb53146b8662b9e3d58f245d5d7ae0a841e8eb1ad13e8e3e8504a0d8fcea', 'block_hash': '000000000000098a0adb1934bee96bf43430257c9ed8759a219e45bf5758785c', 'block_date': '2012-01-30', 'outDegree': 2, 'inDegree': 1, 'outSum': 1089650000, 'inSum': 1089700000, 'input_list': [{'addr': '1KTWQ7aKeNyGKRtqCrkDTtrbWJphcsZMe3', 'val': 1089700000}], 'output_list': [{'addr': '1GFJf5o9DSjrN8V5VQnMqEfCR8Wa6QXVZn', 'val': 1089150000, 'outNr': 0}, {'addr': '1KNYrxYNpfCzoYZLYRSj9mFkX9M7xDUWpF', 'val': 500000, 'outNr': 1}]}\n",
    "\n",
    "\n",
    "block_data = {'block_hash': '00000000839a8e6886ab5951d76f411475428afc90947ee320161bbf18eb6048', \n",
    "              'block_height': 1, \n",
    "              'block_median_time': '2009-01-09T03:54', \n",
    "              'block_date': '2009-01-09', \n",
    "              'previousblockhash': '000000000019d6689c085ae165831e934ff763ae46a2a6c172b3f1b60a8ce26f'}"
   ]
  },
  {
   "cell_type": "markdown",
   "metadata": {},
   "source": [
    "### Transactions"
   ]
  },
  {
   "cell_type": "code",
   "execution_count": null,
   "metadata": {},
   "outputs": [],
   "source": [
    "def run_tx(tx, event):\n",
    "    tx.run(transactionQuery, \n",
    "           txid         = event[\"txid\"], \n",
    "           output_list  = event[\"output_list\"], \n",
    "           block_hash   = event[\"block_hash\"], \n",
    "           inDegree     = event[\"inDegree\"], \n",
    "           outDegree    = event[\"outDegree\"], \n",
    "           outSum       = event[\"outSum\"],\n",
    "           inSum        = event[\"inSum\"],\n",
    "           input_list   = event[\"input_list\"], \n",
    "           block_date   = event[\"block_date\"])\n",
    "\n",
    "\n",
    "with driver.session() as session:\n",
    "    session.write_transaction(run_tx, test)"
   ]
  },
  {
   "cell_type": "markdown",
   "metadata": {},
   "source": [
    "### Blocks"
   ]
  },
  {
   "cell_type": "code",
   "execution_count": null,
   "metadata": {},
   "outputs": [],
   "source": [
    "def create_block(tx, block_hash, block_height, block_median_time, block_date, previousblockhash):\n",
    "    tx.run(blockQuery, \n",
    "           block_hash=block_hash, \n",
    "           block_height=block_height, \n",
    "           block_median_time=block_median_time, \n",
    "           block_date=block_date,\n",
    "           previousblockhash=previousblockhash)\n",
    "\n",
    "block = block_data\n",
    "with driver.session() as session:\n",
    "    session.write_transaction(create_block, \n",
    "                              block['block_hash'], \n",
    "                              block['block_height'], \n",
    "                              block['block_median_time'],\n",
    "                              block['block_date'],\n",
    "                              block['previousblockhash'])\n",
    "        "
   ]
  }
 ],
 "metadata": {
  "kernelspec": {
   "display_name": "Python 3",
   "language": "python",
   "name": "python3"
  },
  "language_info": {
   "codemirror_mode": {
    "name": "ipython",
    "version": 3
   },
   "file_extension": ".py",
   "mimetype": "text/x-python",
   "name": "python",
   "nbconvert_exporter": "python",
   "pygments_lexer": "ipython3",
   "version": "3.6.10"
  }
 },
 "nbformat": 4,
 "nbformat_minor": 4
}
