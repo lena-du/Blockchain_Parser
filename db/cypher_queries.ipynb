{
 "cells": [
  {
   "cell_type": "markdown",
   "metadata": {},
   "source": [
    "# Cypher queries\n",
    "\n",
    "## Testing import from blocks and transaction topics by sample queries"
   ]
  },
  {
   "cell_type": "code",
   "execution_count": null,
   "metadata": {},
   "outputs": [],
   "source": [
    "from neo4j import GraphDatabase\n",
    "import pandas as pd\n",
    "\n",
    "uri = \"neo4j://localhost:7687\"\n",
    "credentialsNeo4j = pd.read_json('credentialsNeo4j.json')\n",
    "location = \"local\"\n",
    "username = credentialsNeo4j[location][0]['user']\n",
    "password = credentialsNeo4j[location][0]['pwd']\n",
    "driver = GraphDatabase.driver(uri, auth=(username, password))"
   ]
  },
  {
   "cell_type": "markdown",
   "metadata": {},
   "source": [
    "## Conversion functions "
   ]
  },
  {
   "cell_type": "code",
   "execution_count": null,
   "metadata": {},
   "outputs": [],
   "source": [
    "#### Convert final query by cutting all linebreaks...\n",
    "def createCypherForEvents(query):\n",
    "    new_query = query.replace('$', 'event.')\n",
    "    return new_query\n",
    "\n",
    "#### Convert final query by cutting all linebreaks...\n",
    "def omitSpacings(query):\n",
    "    omit_characters = [\"\\n\", \"     \", \"     \", \"  \"]\n",
    "    for i in omit_characters:\n",
    "        query = query.replace(i, \" \")\n",
    "    return query"
   ]
  },
  {
   "cell_type": "markdown",
   "metadata": {},
   "source": [
    "## Example Data"
   ]
  },
  {
   "cell_type": "code",
   "execution_count": null,
   "metadata": {},
   "outputs": [],
   "source": [
    "#test data \n",
    "test = {'txid': '88d35b8d35ccaf8a315a2274d83081ab62aeda06fb2029af5c65b2a858f22fcb',\n",
    " 'block_hash': '00000000000000000005278b3b0d99196ded30c92edb64181abab711fb47527b',\n",
    " 'block_date': '2021-05-23',\n",
    " 'outDegree': 3,\n",
    " 'inDegree': 1,\n",
    " 'outSum': 656215465,\n",
    " 'inSum': 656215465,\n",
    " 'input_list': [{'addr': 'coinbase', 'val': 656215465}],\n",
    " 'output_list': [{'addr': '1Bf9sZvBHPFGVPX71WX2njhd1NXKv5y7v5', 'outNr': 0, 'val': 5}]}"
   ]
  },
  {
   "cell_type": "markdown",
   "metadata": {},
   "source": [
    "## Transactions\n"
   ]
  },
  {
   "cell_type": "code",
   "execution_count": null,
   "metadata": {},
   "outputs": [],
   "source": [
    "###Address matching Structure + amendmends\n",
    "\n",
    "transactionQuery = '''\n",
    "    MERGE (t:Transaction{txid: $txid}) \n",
    "        SET t += {inDegree: $inDegree, outDegree: $outDegree, outSum: $outSum, inSum: $inSum, date: date($date_block)}\n",
    "\n",
    "    MERGE (b:Block{hash: $block_hash})\n",
    "    MERGE (t)-[:BELONGS_TO]->(b)\n",
    "    \n",
    "    FOREACH (output in $output_list | \n",
    "        MERGE (o_a:Address{address: output.addr}) \n",
    "            ON CREATE SET o_a += {inDegree: 1, outDegree: 0}\n",
    "            ON MATCH  SET o_a += {inDegree: o_a.inDegree + 1}\n",
    "        MERGE (t)-[r:RECEIVES{output_nr: output.outNr, value: output.val}]->(o_a))\n",
    "        \n",
    "    FOREACH (input in $input_list | \n",
    "        MERGE (i_a:Address{address: input.addr})\n",
    "            ON CREATE SET i_a += {inDegree: 0, outDegree: 1}\n",
    "            ON MATCH SET  i_a += {outDegree: i_a.outDegree + 1}\n",
    "        MERGE (i_a)-[:Sends{value: input.val}]->(t))\n",
    "    '''\n",
    "\n",
    "\n",
    "def run_tx(tx, event):\n",
    "    tx.run(transactionQuery, \n",
    "           txid         = event[\"txid\"], \n",
    "           output_list  = event[\"output_list\"], \n",
    "           block_hash   = event[\"block_hash\"], \n",
    "           inDegree     = event[\"inDegree\"], \n",
    "           outDegree    = event[\"outDegree\"], \n",
    "           outSum       = event[\"outSum\"],\n",
    "           inSum        = event[\"inSum\"],\n",
    "           input_list   = event[\"input_list\"], \n",
    "           date_block   = event[\"block_date\"])\n"
   ]
  },
  {
   "cell_type": "code",
   "execution_count": null,
   "metadata": {},
   "outputs": [],
   "source": [
    "t = test\n",
    "with driver.session() as session:\n",
    "    session.write_transaction(run_tx, t)"
   ]
  },
  {
   "cell_type": "markdown",
   "metadata": {},
   "source": [
    "## Final TX query"
   ]
  },
  {
   "cell_type": "code",
   "execution_count": null,
   "metadata": {},
   "outputs": [],
   "source": [
    "#### Convert final query by cutting all linebreaks...\n",
    "transactionQuery_forEvents = createCypherForEvents(transactionQuery)\n",
    "print(transactionQuery_forEvents)"
   ]
  },
  {
   "cell_type": "code",
   "execution_count": null,
   "metadata": {},
   "outputs": [],
   "source": [
    "#### Convert final query by cutting all linebreaks...\n",
    "transactionQuery_final = omitSpacings(transactionQuery_forEvents)\n",
    "print(transactionQuery_final)"
   ]
  },
  {
   "cell_type": "markdown",
   "metadata": {},
   "source": [
    "## Blocks\n",
    "!!block_median_time"
   ]
  },
  {
   "cell_type": "code",
   "execution_count": null,
   "metadata": {},
   "outputs": [],
   "source": [
    "## !need to amend!\n",
    "blockQuery = '''\n",
    "MATCH (p:Block) WHERE p.hash = $p_block_hash \n",
    "MERGE (b:Block {hash: $block_hash}) \n",
    "    SET b += {hash: $block_hash, height: $block_height, blockDate: date($block_date), mediantime: datetime($block_timestamp) }\n",
    "MERGE (p)-[r:Precedes]->(b)\n",
    "'''\n",
    "\n",
    "def create_block(tx, block_hash, block_height, block_timestamp, p_block_hash):\n",
    "    tx.run(query, block_hash=block_hash, block_height=block_height, block_timestamp=block_timestamp, p_block_hash=p_block_hash)"
   ]
  },
  {
   "cell_type": "code",
   "execution_count": null,
   "metadata": {},
   "outputs": [],
   "source": [
    "block = b3\n",
    "with driver.session() as session:\n",
    "    session.write_transaction(create_block, \n",
    "                              block['block_hash'], \n",
    "                              block['block_height'], \n",
    "                              block['block_timestamp'],\n",
    "                              block['p_block_hash'])\n",
    "    "
   ]
  },
  {
   "cell_type": "markdown",
   "metadata": {},
   "source": [
    "## Final Block query"
   ]
  },
  {
   "cell_type": "code",
   "execution_count": null,
   "metadata": {},
   "outputs": [],
   "source": [
    "#### Convert final query by cutting all linebreaks...\n",
    "blockQuery_forEvents = createCypherForEvents(blockQuery)\n",
    "print(blockQuery_forEvents)"
   ]
  },
  {
   "cell_type": "code",
   "execution_count": null,
   "metadata": {},
   "outputs": [],
   "source": [
    "#### Convert final query by cutting all linebreaks...\n",
    "blockQuery_final = omitSpacings(blockQuery_forEvents)\n",
    "print(blockQuery_final)"
   ]
  },
  {
   "cell_type": "code",
   "execution_count": null,
   "metadata": {},
   "outputs": [],
   "source": []
  }
 ],
 "metadata": {
  "kernelspec": {
   "display_name": "Python 3",
   "language": "python",
   "name": "python3"
  },
  "language_info": {
   "codemirror_mode": {
    "name": "ipython",
    "version": 3
   },
   "file_extension": ".py",
   "mimetype": "text/x-python",
   "name": "python",
   "nbconvert_exporter": "python",
   "pygments_lexer": "ipython3",
   "version": "3.6.10"
  }
 },
 "nbformat": 4,
 "nbformat_minor": 4
}
