{
 "cells": [
  {
   "cell_type": "code",
   "execution_count": 2,
   "metadata": {},
   "outputs": [],
   "source": [
    "from neo4j import GraphDatabase\n",
    "\n",
    "uri = \"neo4j://localhost:7687\"\n",
    "driver = GraphDatabase.driver(uri, auth=(\"neo4j\", \"neo4j\"))"
   ]
  },
  {
   "cell_type": "markdown",
   "metadata": {},
   "source": [
    "## Example Data"
   ]
  },
  {
   "cell_type": "code",
   "execution_count": 85,
   "metadata": {},
   "outputs": [],
   "source": [
    "# block node\n",
    "b1 = {\n",
    "        \"block_hash\": \"00000000000000000008bb27dd339ad1b2534f9060907a2be6925bb375395ba2\",\n",
    "        \"block_height\": \"681545\",\n",
    "        \"block_timestamp\" : \"2021-05-02 16:50:00\",\n",
    "        \"p_block_hash\": \"00\"\n",
    "    }\n",
    "\n",
    "b2 = {\n",
    "        \"block_hash\": \"00000000000000000008bb27dd339ad1b2534f9060907a2be6925bb375395986\",\n",
    "        \"block_height\": \"6815765\",\n",
    "        \"block_timestamp\" : \"2021-05-02 17:00:00\",\n",
    "        \"p_block_hash\": \"00000000000000000008bb27dd339ad1b2534f9060907a2be6925bb375395ba2\"\n",
    "    }\n",
    "\n",
    "# transaction node \n",
    "t1 = {\n",
    "    \"txid\": \"cebc8ac65d27d9ae05aad5249e5b991e01d50b256118ea1722373a212814b81e\",\n",
    "    \"block_date\": \"2021-05-02\",\n",
    "    \"inDegree\": 1,\n",
    "    \"outDegree\": 4, \n",
    "    \"inSum\": 20.0,\n",
    "    \"outSum\": 13.07\n",
    "}\n",
    "\n",
    "# address node \n",
    "a1 = {\n",
    "    \"address\": \"1EepjXgvWUoRyNvuLSAxjiqZ1QqKGDANLW\",\n",
    "    \"inDegree\": 1, \n",
    "    \"outDegree\": 1\n",
    "}\n",
    "\n",
    "# FOREACH Test\n",
    "f = {\n",
    "    \"txid\" : \"id1\",\n",
    "    \"addresses\": [\n",
    "        {\n",
    "            \"addr\": \"id_addr0\" \n",
    "        },\n",
    "        {\n",
    "            \"addr\": \"id_addr1\" \n",
    "        },\n",
    "        \n",
    "    ], \n",
    "    \"block\":'asdlkjasdl'\n",
    "    \n",
    "}"
   ]
  },
  {
   "cell_type": "markdown",
   "metadata": {},
   "source": [
    "## Transactions\n"
   ]
  },
  {
   "cell_type": "code",
   "execution_count": 86,
   "metadata": {},
   "outputs": [],
   "source": [
    "def create_transaction(tx, txid, block_date, inDegree, outDegree, inSum, outSum):\n",
    "    tx.run('MERGE (t:Transaction{txid: $txid, block_date: $block_date, inDegree: $inDegree, outDegree: $outDegree, inSum: $inSum, outSum: $outSum})',\n",
    "           txid=txid, block_date=block_date, inDegree=inDegree, outDegree=outDegree, inSum=inSum, outSum=outSum)"
   ]
  },
  {
   "cell_type": "code",
   "execution_count": 87,
   "metadata": {},
   "outputs": [],
   "source": [
    "t = t1\n",
    "with driver.session() as session:\n",
    "    session.write_transaction(create_transaction, \n",
    "                              t['txid'],\n",
    "                              t['block_date'],\n",
    "                              t['inDegree'],\n",
    "                              t['outDegree'],\n",
    "                              t['inSum'],\n",
    "                              t['outSum'])"
   ]
  },
  {
   "cell_type": "markdown",
   "metadata": {},
   "source": [
    "#### FOREACH Test"
   ]
  },
  {
   "cell_type": "code",
   "execution_count": null,
   "metadata": {},
   "outputs": [],
   "source": [
    "def test_foreach(tx, txid, addresses):\n",
    "    tx.run('MERGE (f:Tr{txid: $txid}) '\n",
    "           'FOREACH (address in $addresses | MERGE '\n",
    "           txid=txid, addresses=addresses)"
   ]
  },
  {
   "cell_type": "code",
   "execution_count": null,
   "metadata": {},
   "outputs": [],
   "source": []
  },
  {
   "cell_type": "markdown",
   "metadata": {},
   "source": [
    "## Blocks\n",
    "\n",
    "#### Creating initial block for backreferencing"
   ]
  },
  {
   "cell_type": "code",
   "execution_count": 73,
   "metadata": {},
   "outputs": [],
   "source": [
    "def create_initial_block(tx, initial_hash):\n",
    "    tx.run('CREATE (b:Block{hash: $initial_hash})', initial_hash=initial_hash)\n",
    "\n",
    "with driver.session() as session:\n",
    "    session.write_transaction(create_initial_block, b1['p_block_hash'])"
   ]
  },
  {
   "cell_type": "markdown",
   "metadata": {},
   "source": [
    "#### Function to create additional blocks"
   ]
  },
  {
   "cell_type": "code",
   "execution_count": 50,
   "metadata": {},
   "outputs": [],
   "source": [
    "def create_block(tx, block_hash, block_height, block_timestamp):\n",
    "    tx.run('MERGE (b:Block{hash: $block_hash, height: $block_height, timestamp: $block_timestamp})',\n",
    "           block_hash=block_hash, block_height=block_height, block_timestamp=block_timestamp)"
   ]
  },
  {
   "cell_type": "code",
   "execution_count": 38,
   "metadata": {},
   "outputs": [],
   "source": [
    "with driver.session() as session:\n",
    "    session.write_transaction(create_block, b2['block_hash'], b2['block_height'], b2['block_timestamp'])"
   ]
  },
  {
   "cell_type": "markdown",
   "metadata": {},
   "source": [
    "#### Block Creation and Back Referencing\n",
    "\n",
    "The function creates the new block, matches the preceding block and creates the relationship between both.\n",
    "<br>\n",
    "Issue: breaks if preciding block not creates (not found(?))"
   ]
  },
  {
   "cell_type": "code",
   "execution_count": 78,
   "metadata": {},
   "outputs": [],
   "source": [
    "def create_block(tx, block_hash, block_height, block_timestamp, p_block_hash):\n",
    "    tx.run('MATCH (p:Block) WHERE p.hash = $p_block_hash ' \n",
    "           'CREATE (b:Block{hash: $block_hash, height: $block_height, timestamp: $block_timestamp}) '\n",
    "           'MERGE (p)-[r:Precedes]->(b)',\n",
    "           block_hash=block_hash, block_height=block_height, block_timestamp=block_timestamp, p_block_hash=p_block_hash)"
   ]
  },
  {
   "cell_type": "code",
   "execution_count": 79,
   "metadata": {},
   "outputs": [],
   "source": [
    "block = b2\n",
    "with driver.session() as session:\n",
    "    session.write_transaction(create_block, \n",
    "                              block['block_hash'], \n",
    "                              block['block_height'], \n",
    "                              block['block_timestamp'],\n",
    "                              block['p_block_hash'])\n",
    "    "
   ]
  },
  {
   "cell_type": "code",
   "execution_count": null,
   "metadata": {},
   "outputs": [],
   "source": []
  }
 ],
 "metadata": {
  "kernelspec": {
   "display_name": "Python 3",
   "language": "python",
   "name": "python3"
  },
  "language_info": {
   "codemirror_mode": {
    "name": "ipython",
    "version": 3
   },
   "file_extension": ".py",
   "mimetype": "text/x-python",
   "name": "python",
   "nbconvert_exporter": "python",
   "pygments_lexer": "ipython3",
   "version": "3.6.10"
  }
 },
 "nbformat": 4,
 "nbformat_minor": 4
}
