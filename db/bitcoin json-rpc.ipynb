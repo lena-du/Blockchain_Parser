{
 "cells": [
  {
   "cell_type": "code",
   "execution_count": null,
   "metadata": {},
   "outputs": [],
   "source": [
    "# install necessary python libraries \n",
    "%pip install python-bitcoinrpc\n",
    "%pip install paramiko"
   ]
  },
  {
   "cell_type": "code",
   "execution_count": 48,
   "metadata": {},
   "outputs": [],
   "source": [
    "# read credentials from file \n",
    "import pandas as pd\n",
    "\n",
    "credentials = pd.read_json('credentials.json')"
   ]
  },
  {
   "cell_type": "code",
   "execution_count": 49,
   "metadata": {},
   "outputs": [],
   "source": [
    "# establish ssh connection to the host \n",
    "import paramiko \n",
    "host = \"artemis.uni.ma\"\n",
    "port = 22\n",
    "username = credentials['user'][0]\n",
    "password = credentials['pwd'][0]\n",
    "\n",
    "ssh = paramiko.SSHClient()\n",
    "ssh.set_missing_host_key_policy(paramiko.AutoAddPolicy())\n",
    "ssh.connect(host, port, username, password)"
   ]
  },
  {
   "cell_type": "code",
   "execution_count": null,
   "metadata": {},
   "outputs": [],
   "source": [
    "stdin, stdout, stderr = ssh.exec_command(\"bitcoin-cli getbestblockhash\") # returns the header hash of the most recent block on the best block chain.\n",
    "print(stdout.read().decode(\"utf-8\")) "
   ]
  },
  {
   "cell_type": "markdown",
   "metadata": {},
   "source": [
    "# Command: bitcoin-cli getblock [blockhash] 1\n",
    "Get blocks via the command `bitcoin-cli getblock [blockhash] 1`. The output contains information such as the transactions belonging to this block as well as the `previousblockhash` and `nextblockhash`. Via these attributes blocks can be retrieved in an ordered fashion and we have the neccessary information about the `PRECEDES/BELONGS_TO` relationship. \n",
    "In addition, this command returns the `blockheight` and `blocktime` (e.g., 1619858709) and an array of `txids` which are associated/ stored with the block. "
   ]
  },
  {
   "cell_type": "code",
   "execution_count": null,
   "metadata": {},
   "outputs": [],
   "source": [
    "stdin, stdout, stderr = ssh.exec_command(\"bitcoin-cli getblock 00000000000000000008c69128a76fb9888164db31dace993cf2a6b8a574664a 1\")\n",
    "print(stdout.read().decode(\"utf-8\")) "
   ]
  },
  {
   "cell_type": "markdown",
   "metadata": {},
   "source": [
    "# Command: bitcoin-cli getrawtransaction [txid] true\n",
    "Number of objects contained in `vin` equals `inDegree`(?)\n",
    "Number of objects contained in `vout` equals `outDegree`(?) \n",
    "returns info about which block in belongs => `BELONG_TO` relationship\n"
   ]
  },
  {
   "cell_type": "code",
   "execution_count": null,
   "metadata": {},
   "outputs": [],
   "source": [
    "stdin, stdout, stderr = ssh.exec_command(\"bitcoin-cli getrawtransaction 3511d57b5d64df0c1ba7c8b9d16ecdad7ea032e31003ac76abb9118e50ccea67 true\") \n",
    "\n",
    "# parse json output\n",
    "import json\n",
    "rawtx = json.loads(stdout.read().decode(\"utf-8\"))\n",
    "\n",
    "print(\"Indegree: \", len(rawtx['vin']))\n",
    "print(\"Outdegree: \", len(rawtx['vout']))\n",
    "\n",
    "inSum = 0 \n",
    "for vin in rawtx['vin']:\n",
    "    print(vin['txid'])\n",
    "    inSum += vin['vout']\n",
    "    \n",
    "print(\"InSum: \", inSum)\n",
    "    \n",
    "outSum = 0\n",
    "for v in rawtx['vout']:\n",
    "    outSum += v['value']\n",
    "    for a in v['scriptPubKey']['addresses']:\n",
    "        print(a)\n",
    "    \n",
    "    \n",
    "print(\"OutSum: \", outSum)"
   ]
  },
  {
   "cell_type": "code",
   "execution_count": null,
   "metadata": {},
   "outputs": [],
   "source": [
    "stdin, stdout, stderr = ssh.exec_command(\"bitcoin-cli getrawtransaction 3511d57b5d64df0c1ba7c8b9d16ecdad7ea032e31003ac76abb9118e50ccea67 true\")\n",
    "print(stdout.read().decode(\"utf-8\")) \n"
   ]
  },
  {
   "cell_type": "code",
   "execution_count": null,
   "metadata": {},
   "outputs": [],
   "source": [
    "# address - tx.outputs[o].addresses[0].address\n",
    "# blocks - [block_hash, block_height, block_timestamp]\n",
    "# transaction - txid, block_date, inDegree, outDegree"
   ]
  },
  {
   "cell_type": "code",
   "execution_count": null,
   "metadata": {},
   "outputs": [],
   "source": [
    "# before relationship - ([previous_block_hash, block_hash, 'PRECEDES']) OK\n",
    "# belongs relationship - txid, block_hash, 'BELONGS_TO' OK\n",
    "# receives relationship - [tx_id, val, o, addr, 'RECEIVES'] o= index array OK\n",
    "# sends relationship - ([in_address, in_value, tx_id, 'SENDS'])"
   ]
  },
  {
   "cell_type": "markdown",
   "metadata": {},
   "source": [
    "# Complete Process\n",
    "continuously monitor the bestblockhash - returns the tip of the blockchain"
   ]
  },
  {
   "cell_type": "code",
   "execution_count": null,
   "metadata": {},
   "outputs": [],
   "source": [
    "# get best blockhash - returns the header hash of the most recent block on the best block chain\n",
    "stdin, stdout, stderr = ssh.exec_command(\"bitcoin-cli getbestblockhash\")\n",
    "bestblockhash = stdout.read().decode(\"utf-8\")\n",
    "print(bestblockhash) "
   ]
  },
  {
   "cell_type": "code",
   "execution_count": null,
   "metadata": {},
   "outputs": [],
   "source": [
    "# get blockinfo \n",
    "command = \"bitcoin-cli getblock \" + bestblockhash + \" 2\"\n",
    "#stdin, stdout, stderr = ssh.exec_command(\"bitcoin-cli getblock 00000000000000000008bb27dd339ad1b2534f9060907a2be6925bb375395ba2 1\")\n",
    "stdin, stdout, stderr = ssh.exec_command(command)\n",
    "block = json.loads(stdout.read().decode(\"utf-8\"))\n",
    "\n",
    "# before relationship - ([previous_block_hash, block_hash, 'PRECEDES']) OK\n",
    "previousblockhash = block['previousblockhash']\n",
    "nextblockhash = block['nextblockhash']\n",
    "\n",
    "print(\"previousblockhash: \", previousblockhash)\n",
    "print(\"nextblockhash: \", nextblockhash)\n",
    "\n",
    "# blocks - [block_hash, block_height, block_timestamp]\n",
    "from datetime import datetime, timezone\n",
    "ts_epoch = block['time']\n",
    "block_timestamp = datetime.fromtimestamp(ts_epoch)\n",
    "block_date = block_timestamp.strftime('%Y-%m-%d')\n",
    "block_hash = block['hash']\n",
    "block_height = block['height']\n",
    "\n",
    "print(\"block_hash: \", block_hash)\n",
    "print(\"block_height: \", block_height)\n",
    "print(\"block_timestamp: \", block_timestamp)\n",
    "print(\"block_date: \", block_date) \n",
    "\n",
    "\n",
    "\n"
   ]
  },
  {
   "cell_type": "markdown",
   "metadata": {},
   "source": [
    "# Transaction Input Address\n",
    "The data you are looking for isn't actually included in the transaction that spends the UTXOs. Addresses are basically shorthand for a scriptPubKey, and scriptPubKeys are associated with outputs, not inputs. So if you want to check if an input spends from a certain address, you have to get the corresponding previous output and look what address it pays to."
   ]
  },
  {
   "cell_type": "code",
   "execution_count": null,
   "metadata": {},
   "outputs": [],
   "source": [
    "# parse transactions which are contained in one block \n",
    "\n",
    "# belongs relationship - txid, block_hash, 'BELONGS_TO' OK => all these transactions belong to the same block\n",
    "# transaction - txid, block_date, inDegree, outDegree\n",
    "\n",
    "for tx in block['tx']: \n",
    "    print(tx, block_hash, 'BELONGS_TO')\n",
    "    print(\"\\n-----TxID: \", tx)\n",
    "    command = \"bitcoin-cli getrawtransaction \" + tx + \" true\"\n",
    "    stdin, stdout, stderr = ssh.exec_command(command)\n",
    "    rawtx = json.loads(stdout.read().decode(\"utf-8\"))\n",
    "    print(\"Indegree: \", len(rawtx['vin']))\n",
    "    print(\"Outdegree: \", len(rawtx['vout']))\n",
    "    \n",
    "    # ([in_address, in_value, tx_id, 'SENDS'])\n",
    "    for vin in rawtx['vin']:\n",
    "        try: \n",
    "            print(\"TxID Input: \", vin['txid'])\n",
    "        except Exception as e:\n",
    "            pass\n",
    "        break;\n",
    "    \n",
    "    # receives relationship - [tx_id, val, o, addr, 'RECEIVES'] o= index array OK\n",
    "    for v in rawtx['vout']:\n",
    "        o = v['n']\n",
    "        val = v['value']\n",
    "        print(\"\\n#Addresses: \", len(v['scriptPubKey']['addresses']))\n",
    "        if len(v['scriptPubKey']['addresses'])> 0: \n",
    "            for a in v['scriptPubKey']['addresses']:\n",
    "                print(a)\n",
    "        break;\n",
    "\n"
   ]
  },
  {
   "cell_type": "markdown",
   "metadata": {},
   "source": [
    "## Get Input Addresses"
   ]
  },
  {
   "cell_type": "code",
   "execution_count": 57,
   "metadata": {},
   "outputs": [],
   "source": [
    "# parse transaction data \n",
    "import json\n",
    "txid = \"00000005aca88ceece655e19070dbfe9416b0c2850da0463f1e4c823bb41f295\"\n",
    "txid = \"00000990d69e3693c9ccf3f90b20f716ddcd1d043c7c613a9d58f5a722d06648\"\n",
    "txid = \"0000000fdb4d9b9479d9b061921cb9d073f1c814a3bbef30ccae212ab651952d\"\n",
    "command = \"bitcoin-cli getrawtransaction \" + txid + \" true\"\n",
    "stdin, stdout, stderr = ssh.exec_command(command)\n",
    "rawtx = json.loads(stdout.read().decode(\"utf-8\"))"
   ]
  },
  {
   "cell_type": "code",
   "execution_count": 66,
   "metadata": {},
   "outputs": [
    {
     "name": "stdout",
     "output_type": "stream",
     "text": [
      "#######Transaction Output#########\n",
      "{\n",
      "    \"txid\": \"0000000fdb4d9b9479d9b061921cb9d073f1c814a3bbef30ccae212ab651952d\",\n",
      "    \"address_list\": [\n",
      "        {\n",
      "            \"addr\": \"1Nvv2vdKssYTJNPYkqmsHHf9Kn7ei4nbXu\",\n",
      "            \"output_nr\": 0\n",
      "        },\n",
      "        {\n",
      "            \"addr\": \"1gucZbN2LdKr2z3szVWx1ZiQNeYgXK6py\",\n",
      "            \"output_nr\": 1\n",
      "        }\n",
      "    ],\n",
      "    \"inDegree\": 2,\n",
      "    \"outDegree\": 2,\n",
      "    \"outSum\": 2431925,\n",
      "    \"input_list\": [\n",
      "        {\n",
      "            \"txid\": \"11f3cdf4ed881811d5cf710e7fb8e6115768c999990a35b8f092e5e94adfbd5d\",\n",
      "            \"output_nr\": 0\n",
      "        },\n",
      "        {\n",
      "            \"txid\": \"e365bf7ee8f4466096743d53b327cddc2054df284f46907abc9a84477f91470d\",\n",
      "            \"output_nr\": 1\n",
      "        }\n",
      "    ]\n",
      "}\n"
     ]
    }
   ],
   "source": [
    "address_list = []  \n",
    "\n",
    "outSum = 0\n",
    "\n",
    "for o in rawtx['vout']: \n",
    "    outSum += o['value']\n",
    "    # check whether there are output adresses\n",
    "    if 'addresses' in o['scriptPubKey']:\n",
    "        for a in o['scriptPubKey']['addresses']: \n",
    "            # a Python object (dict):\n",
    "            addrObj = {\n",
    "               \"addr\": a,\n",
    "                \"output_nr\": o['n']\n",
    "            }\n",
    "            jAddr = json.dumps(addrObj)\n",
    "            # convert json string to Json Dict\n",
    "            jsonDict = json.loads(jAddr)\n",
    "            address_list.append(jsonDict)\n",
    "\n",
    "# print json object = one transaction within a block\n",
    "txdata = {}\n",
    "txdata['txid'] = txid\n",
    "#txdata['block_hash'] = block_hash\n",
    "#txdata['block_date'] = str(block_date)\n",
    "txdata['address_list'] = address_list\n",
    "txdata['inDegree'] = len(rawtx['vin']) \n",
    "txdata['outDegree'] = len(rawtx['vout'])\n",
    "x = round(outSum*100000000, 0)\n",
    "txdata['outSum'] = int( x)\n",
    "\n",
    "\n",
    "\n",
    "# creating input list  ## Throwing error for \n",
    "input_list = []\n",
    "for i in rawtx['vin']: \n",
    "    # bypassing coinbase transactions!\n",
    "    try:\n",
    "        addrObj = {\n",
    "           \"txid\": i['txid'],\n",
    "            \"output_nr\": i['vout']\n",
    "        }\n",
    "        jAddr = json.dumps(addrObj)\n",
    "        jsonDict = json.loads(jAddr)\n",
    "        input_list.append(jsonDict)\n",
    "\n",
    "        txdata['input_list'] = input_list\n",
    "\n",
    "    # reformulate and handle coinbase!\n",
    "    except: pass\n",
    "\n",
    "    tx_json_data = json.dumps(txdata, indent=4, sort_keys=False)\n",
    "    \n",
    "\n",
    "print(\"#######Transaction Output#########\")\n",
    "print(tx_json_data)    \n",
    "    "
   ]
  },
  {
   "cell_type": "code",
   "execution_count": 72,
   "metadata": {},
   "outputs": [
    {
     "name": "stdout",
     "output_type": "stream",
     "text": [
      "Input Address List:  ['19QgnpbWqopBV5Y53C7AU5bgkpXkLofybH', '1FzBd1p9uKXZcwqTHhAQzS3XCeUuK8jxHR']\n",
      "Insum:  2439567\n"
     ]
    }
   ],
   "source": [
    "# get input addresses\n",
    "outSum = 0\n",
    "input_address_list = []\n",
    "for i in input_list:\n",
    "    #print(i)\n",
    "    command = \"bitcoin-cli getrawtransaction \" + i['txid'] + \" true\"\n",
    "    stdin, stdout, stderr = ssh.exec_command(command)\n",
    "    inputtx = json.loads(stdout.read().decode(\"utf-8\"))\n",
    "    inputtx_json_data = json.dumps(inputtx, indent=4, sort_keys=False)\n",
    "    \n",
    "    val = int (inputtx['vout'][i['output_nr']]['value']*100000000)\n",
    "    outSum += val \n",
    "    \n",
    "    #input_address_list = []\n",
    "    #print(len(inputtx['vout'][i['output_nr']]['scriptPubKey']['addresses']))\n",
    "    for ia in inputtx['vout'][i['output_nr']]['scriptPubKey']['addresses']: \n",
    "        input_address_list.append(ia)\n",
    "       \n",
    "\n",
    "print(\"Input Address List: \", input_address_list)\n",
    "\n",
    "print(\"Insum: \", outSum)\n",
    "  "
   ]
  },
  {
   "cell_type": "code",
   "execution_count": null,
   "metadata": {},
   "outputs": [],
   "source": []
  }
 ],
 "metadata": {
  "kernelspec": {
   "display_name": "Python 3",
   "language": "python",
   "name": "python3"
  },
  "language_info": {
   "codemirror_mode": {
    "name": "ipython",
    "version": 3
   },
   "file_extension": ".py",
   "mimetype": "text/x-python",
   "name": "python",
   "nbconvert_exporter": "python",
   "pygments_lexer": "ipython3",
   "version": "3.8.5"
  }
 },
 "nbformat": 4,
 "nbformat_minor": 4
}
