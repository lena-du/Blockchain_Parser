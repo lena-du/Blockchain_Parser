{
 "cells": [
  {
   "cell_type": "markdown",
   "id": "a37d7d9b",
   "metadata": {},
   "source": [
    "# Create dataframe that can be filtered for different thresholds\n",
    "There are ~1.6million entries in the results of the direct and reverse approach. This is too much to calculate the CCS score for all vendor-address matches. Therefore we create a value on which we can do prefiltering according to a threshold.   \n",
    "VA_A = (#𝑣𝑒𝑛𝑑𝑜𝑟−𝑎𝑑𝑑𝑟𝑒𝑠𝑠 𝑚𝑎𝑡𝑐ℎ𝑒𝑠) / (#𝑎𝑑𝑑𝑟𝑒𝑠𝑠 𝑜𝑐𝑐𝑢𝑟𝑠 𝑜𝑣𝑒𝑟𝑎𝑙𝑙)     \n",
    "VA_V = (#𝑣𝑒𝑛𝑑𝑜𝑟−𝑎𝑑𝑑𝑟𝑒𝑠𝑠 𝑚𝑎𝑡𝑐ℎ𝑒𝑠) / (#𝑎𝑙𝑙 𝑎𝑑𝑑𝑟𝑒𝑠𝑠 𝑚𝑎𝑡𝑐ℎ𝑒𝑠 𝑜𝑓 𝑡ℎ𝑖𝑠 𝑣𝑒𝑛𝑑𝑜𝑟)  \n",
    "\n",
    "VA_HarmonicMean = (2∗𝑉𝐴_𝐴∗𝑉𝐴_𝑉) / (𝑉𝐴_𝐴+𝑉𝐴_𝑉)\n",
    "\n",
    "VA_A: \n",
    "If low, address most likely has huge indegree and matches many reviews of different vendors by chance  \n",
    "If high, address is relevant for this vendor  \n",
    "VA_V: \n",
    "If low, either the vendor has many addresses (maybe one per transaction) or the address is less relevant  \n",
    "If high, the address is more relevant for the vendor  "
   ]
  },
  {
   "cell_type": "code",
   "execution_count": 1,
   "id": "e7468986",
   "metadata": {},
   "outputs": [],
   "source": [
    "#import mariadb\n",
    "import tqdm\n",
    "import pickle\n",
    "import pandas as pd\n",
    "import datetime\n",
    "from decimal import Decimal\n",
    "from neo4j import GraphDatabase\n",
    "from datetime import timedelta\n",
    "import matplotlib.pyplot as plt"
   ]
  },
  {
   "cell_type": "code",
   "execution_count": 3,
   "id": "865e946a",
   "metadata": {},
   "outputs": [],
   "source": [
    "# load matches of both approaches\n",
    "df_direct = pd.read_csv('direct_results.csv')\n",
    "df_reverse = pd.read_csv('payout_review_matches2.csv')"
   ]
  },
  {
   "cell_type": "code",
   "execution_count": 4,
   "id": "6428f1d1",
   "metadata": {},
   "outputs": [
    {
     "name": "stdout",
     "output_type": "stream",
     "text": [
      "Unique addresses in both approaches:  0\n",
      "Resultset of Vendor-Address-Review matches now:  1925923\n"
     ]
    }
   ],
   "source": [
    "# combine the results and take out duplicates (=the address was found in both approaches)\n",
    "df_direct = df_direct.rename(columns={\"review\": \"ReviewID\", \n",
    "                                      \"vendor\": \"VendorID\", \n",
    "                                      \"vendor_address\": \"VendorAddress\"})\n",
    "df_all = pd.concat([df_direct[[\"ReviewID\",\"VendorID\",\"VendorAddress\"]],\n",
    "                    df_reverse[[\"ReviewID\",\"VendorID\",\"VendorAddress\"]]]).drop_duplicates()\n",
    "print(\"Unique addresses in both approaches: \", len(df_direct[df_direct[\"VendorAddress\"].isin(df_reverse[\"VendorAddress\"])][\"VendorAddress\"].unique()))\n",
    "print(\"Resultset of Vendor-Address-Review matches now: \", len(df_all))"
   ]
  },
  {
   "cell_type": "code",
   "execution_count": 5,
   "id": "06d36dd2",
   "metadata": {},
   "outputs": [],
   "source": [
    "#  group on vendor+address & vendor & address\n",
    "df_all_VA = df_all.groupby([\"VendorID\",\"VendorAddress\"]).count().reset_index().rename(columns={\"ReviewID\": \"vendor_address_matches\"})[[\"VendorID\",\"VendorAddress\",\"vendor_address_matches\"]]\n",
    "df_all_V =  df_all.groupby([\"VendorID\"]).count().reset_index().rename(columns={\"ReviewID\": \"all_vendor_matches\"})[[\"VendorID\",\"all_vendor_matches\"]]\n",
    "df_all_A =  df_all.groupby([\"VendorAddress\"]).count().reset_index().rename(columns={\"ReviewID\": \"all_address_matches\"})[[\"VendorAddress\",\"all_address_matches\"]]"
   ]
  },
  {
   "cell_type": "code",
   "execution_count": 6,
   "id": "60b1999e",
   "metadata": {},
   "outputs": [
    {
     "data": {
      "text/html": [
       "<div>\n",
       "<style scoped>\n",
       "    .dataframe tbody tr th:only-of-type {\n",
       "        vertical-align: middle;\n",
       "    }\n",
       "\n",
       "    .dataframe tbody tr th {\n",
       "        vertical-align: top;\n",
       "    }\n",
       "\n",
       "    .dataframe thead th {\n",
       "        text-align: right;\n",
       "    }\n",
       "</style>\n",
       "<table border=\"1\" class=\"dataframe\">\n",
       "  <thead>\n",
       "    <tr style=\"text-align: right;\">\n",
       "      <th></th>\n",
       "      <th>VendorID</th>\n",
       "      <th>VendorAddress</th>\n",
       "      <th>vendor_address_matches</th>\n",
       "      <th>all_vendor_matches</th>\n",
       "      <th>all_address_matches</th>\n",
       "      <th>#VA/#A</th>\n",
       "      <th>#VA/#V</th>\n",
       "      <th>VA_HarmonicMean</th>\n",
       "    </tr>\n",
       "  </thead>\n",
       "  <tbody>\n",
       "    <tr>\n",
       "      <th>929966</th>\n",
       "      <td>12e833597ebf7522b9e1b9e4123f391f</td>\n",
       "      <td>3NAWnfDYtMqi36QBoJP1pvUuuwK81QTRzm</td>\n",
       "      <td>1</td>\n",
       "      <td>1</td>\n",
       "      <td>1</td>\n",
       "      <td>1.0</td>\n",
       "      <td>1.0</td>\n",
       "      <td>1.000000</td>\n",
       "    </tr>\n",
       "    <tr>\n",
       "      <th>1428870</th>\n",
       "      <td>3f4c3527fec3eab55f41a193e972f08a</td>\n",
       "      <td>1EYcS4sVzH5ddmGBLMn7t3dg3FMeFQdtBH</td>\n",
       "      <td>1</td>\n",
       "      <td>1</td>\n",
       "      <td>1</td>\n",
       "      <td>1.0</td>\n",
       "      <td>1.0</td>\n",
       "      <td>1.000000</td>\n",
       "    </tr>\n",
       "    <tr>\n",
       "      <th>1522767</th>\n",
       "      <td>a3d8528a4b1a657aadad3f93f037f2c1</td>\n",
       "      <td>399WD1MQU7CNpnN3zmePYQ8ZAeVhQGFoMz</td>\n",
       "      <td>1</td>\n",
       "      <td>2</td>\n",
       "      <td>1</td>\n",
       "      <td>1.0</td>\n",
       "      <td>0.5</td>\n",
       "      <td>0.666667</td>\n",
       "    </tr>\n",
       "    <tr>\n",
       "      <th>1519990</th>\n",
       "      <td>913e588662f2c0567432b5a9736bc67f</td>\n",
       "      <td>3AariDdHFm4kRZh22EzUi1mDRt1G3wMXXN</td>\n",
       "      <td>1</td>\n",
       "      <td>1</td>\n",
       "      <td>2</td>\n",
       "      <td>0.5</td>\n",
       "      <td>1.0</td>\n",
       "      <td>0.666667</td>\n",
       "    </tr>\n",
       "    <tr>\n",
       "      <th>899730</th>\n",
       "      <td>107179581d76c12ece2679738f4ca066</td>\n",
       "      <td>1Kzb4Ao7kP2hpxrPE7g86PtHVM4TZpL6cV</td>\n",
       "      <td>1</td>\n",
       "      <td>2</td>\n",
       "      <td>1</td>\n",
       "      <td>1.0</td>\n",
       "      <td>0.5</td>\n",
       "      <td>0.666667</td>\n",
       "    </tr>\n",
       "  </tbody>\n",
       "</table>\n",
       "</div>"
      ],
      "text/plain": [
       "                                 VendorID                       VendorAddress  \\\n",
       "929966   12e833597ebf7522b9e1b9e4123f391f  3NAWnfDYtMqi36QBoJP1pvUuuwK81QTRzm   \n",
       "1428870  3f4c3527fec3eab55f41a193e972f08a  1EYcS4sVzH5ddmGBLMn7t3dg3FMeFQdtBH   \n",
       "1522767  a3d8528a4b1a657aadad3f93f037f2c1  399WD1MQU7CNpnN3zmePYQ8ZAeVhQGFoMz   \n",
       "1519990  913e588662f2c0567432b5a9736bc67f  3AariDdHFm4kRZh22EzUi1mDRt1G3wMXXN   \n",
       "899730   107179581d76c12ece2679738f4ca066  1Kzb4Ao7kP2hpxrPE7g86PtHVM4TZpL6cV   \n",
       "\n",
       "         vendor_address_matches  all_vendor_matches  all_address_matches  \\\n",
       "929966                        1                   1                    1   \n",
       "1428870                       1                   1                    1   \n",
       "1522767                       1                   2                    1   \n",
       "1519990                       1                   1                    2   \n",
       "899730                        1                   2                    1   \n",
       "\n",
       "         #VA/#A  #VA/#V  VA_HarmonicMean  \n",
       "929966      1.0     1.0         1.000000  \n",
       "1428870     1.0     1.0         1.000000  \n",
       "1522767     1.0     0.5         0.666667  \n",
       "1519990     0.5     1.0         0.666667  \n",
       "899730      1.0     0.5         0.666667  "
      ]
     },
     "execution_count": 6,
     "metadata": {},
     "output_type": "execute_result"
    }
   ],
   "source": [
    "# combine counts & calculate relation\n",
    "df_all_cand = pd.merge(df_all_VA,df_all_V,how='inner',on=\"VendorID\")\n",
    "df_all_cand = pd.merge(df_all_cand,df_all_A,how='inner', on=\"VendorAddress\" )\n",
    "df_all_cand[\"#VA/#A\"] = df_all_cand[\"vendor_address_matches\"] / df_all_cand[\"all_address_matches\"]\n",
    "df_all_cand[\"#VA/#V\"] = df_all_cand[\"vendor_address_matches\"] / df_all_cand[\"all_vendor_matches\"]\n",
    "df_all_cand[\"VA_HarmonicMean\"] = ( 2 * df_all_cand[\"#VA/#A\"] * df_all_cand[\"#VA/#V\"] )  / ( df_all_cand[\"#VA/#A\"] + df_all_cand[\"#VA/#V\"] )\n",
    "df_all_cand.sort_values(by=\"VA_HarmonicMean\",ascending=False).head()"
   ]
  },
  {
   "cell_type": "code",
   "execution_count": 7,
   "id": "2e855d9a",
   "metadata": {},
   "outputs": [],
   "source": [
    "# store as csv, the threshold can then be applied where the results are loaded so different values can be tried\n",
    "df_all_cand.to_csv(\"all_candidates2.csv\")"
   ]
  },
  {
   "cell_type": "code",
   "execution_count": 8,
   "id": "ca1d3428",
   "metadata": {},
   "outputs": [
    {
     "data": {
      "text/plain": [
       "1648361"
      ]
     },
     "execution_count": 8,
     "metadata": {},
     "output_type": "execute_result"
    }
   ],
   "source": [
    "# how many candidates are there all together?\n",
    "len(df_all_cand)"
   ]
  },
  {
   "cell_type": "code",
   "execution_count": 9,
   "id": "7fcf2b80",
   "metadata": {},
   "outputs": [
    {
     "data": {
      "text/plain": [
       "<matplotlib.lines.Line2D at 0x7fd61148a460>"
      ]
     },
     "execution_count": 9,
     "metadata": {},
     "output_type": "execute_result"
    },
    {
     "data": {
      "image/png": "[encoded data removed]",
      "text/plain": [
       "<Figure size 432x288 with 1 Axes>"
      ]
     },
     "metadata": {
      "needs_background": "light"
     },
     "output_type": "display_data"
    }
   ],
   "source": [
    "# check for knee value of VA_HarmonicMean\n",
    "# plot different VA_HarmonicMean values\n",
    "pd.set_option('precision', 3)\n",
    "plotlist = list()\n",
    "xlist = df_all_cand.sort_values(by=\"VA_HarmonicMean\",ascending=True)[\"VA_HarmonicMean\"].round(4).unique()\n",
    "for X in xlist:\n",
    "    df_freq_vendoraddresses = df_all_cand[df_all_cand[\"VA_HarmonicMean\"] >= X]\n",
    "    plotlist.append(len(df_freq_vendoraddresses))\n",
    "fig, ax = plt.subplots()   \n",
    "plt.bar(x = xlist, height=plotlist,width=0.0003)\n",
    "plt.title(\"#Address-Vendor Matches: VA_HarmonicMean\")\n",
    "plt.xlabel(\"VA_HarmonicMean\")\n",
    "plt.ylabel(\"#Matches\")\n",
    "plt.xlim(right=0.02)\n",
    "plt.xlim(left=0)\n",
    "plt.axvline(x=0.0009,color='grey')\n",
    "plt.axvline(x=0.005,color='red')"
   ]
  },
  {
   "cell_type": "code",
   "execution_count": 10,
   "id": "e85530ab",
   "metadata": {},
   "outputs": [
    {
     "data": {
      "text/plain": [
       "108819"
      ]
     },
     "execution_count": 10,
     "metadata": {},
     "output_type": "execute_result"
    }
   ],
   "source": [
    "# how many candidates are there for the knee value?\n",
    "len(df_all_cand[df_all_cand[\"VA_HarmonicMean\"] >= 0.0009])"
   ]
  },
  {
   "cell_type": "code",
   "execution_count": 11,
   "id": "23122789",
   "metadata": {},
   "outputs": [
    {
     "data": {
      "text/plain": [
       "15157"
      ]
     },
     "execution_count": 11,
     "metadata": {},
     "output_type": "execute_result"
    }
   ],
   "source": [
    "# how many candidates are there for another value?\n",
    "len(df_all_cand[df_all_cand[\"VA_HarmonicMean\"] >= 0.005])"
   ]
  },
  {
   "cell_type": "code",
   "execution_count": 12,
   "id": "78d956ab",
   "metadata": {},
   "outputs": [
    {
     "data": {
      "text/plain": [
       "1648361"
      ]
     },
     "execution_count": 12,
     "metadata": {},
     "output_type": "execute_result"
    }
   ],
   "source": [
    "# how many were there originally?\n",
    "len(df_all_cand)"
   ]
  }
 ],
 "metadata": {
  "kernelspec": {
   "display_name": "Python 3 (ipykernel)",
   "language": "python",
   "name": "python3"
  },
  "language_info": {
   "codemirror_mode": {
    "name": "ipython",
    "version": 3
   },
   "file_extension": ".py",
   "mimetype": "text/x-python",
   "name": "python",
   "nbconvert_exporter": "python",
   "pygments_lexer": "ipython3",
   "version": "3.8.10"
  }
 },
 "nbformat": 4,
 "nbformat_minor": 5
}
