{
 "cells": [
  {
   "cell_type": "code",
   "execution_count": 1,
   "id": "4b9bc536",
   "metadata": {},
   "outputs": [
    {
     "data": {
      "text/html": [
       "<style>.container { width:80% !important; }</style>"
      ],
      "text/plain": [
       "<IPython.core.display.HTML object>"
      ]
     },
     "metadata": {},
     "output_type": "display_data"
    }
   ],
   "source": [
    "from IPython.core.display import display, HTML\n",
    "display(HTML(\"<style>.container { width:80% !important; }</style>\"))"
   ]
  },
  {
   "cell_type": "markdown",
   "id": "0b2d80a6",
   "metadata": {},
   "source": [
    "<b>Idea: Member based community detection for T2</b>  \n",
    "1. vendor wallets filtered nur upper limit  \n",
    "2. review matching t2  \n",
    "3. 2 dimensional plotting von allen transactions, die an vendor zahlen mit farbe = known t2  \n",
    "\t-> clustering / member based community detection"
   ]
  },
  {
   "cell_type": "markdown",
   "id": "1ffbd0b6",
   "metadata": {},
   "source": [
    "T2 Clustering - Properties:  \n",
    "Direct Transaction properties:  \n",
    "- indegree  \n",
    "- outdegree  \n",
    "- indegree:outdegree  \n",
    "Indirect transaction properties:  \n",
    "- in-&outdegree of sends addresses  \n",
    "- in-&outdegree of receives addresses: known vendor addresses/all/mean of all  \n",
    "- script type of sends addresses  \n",
    "- maxdate - mindate of sends addresses  \n",
    "\n",
    "Hypothesis: All addresses of the market use the same script type  \n",
    "\n",
    "Further property ideas:  \n",
    "- amount in euro / is amount in euro glatt = nice amount e.g. 1000  \n",
    "( - \"sends address\" sends to speculated T2 transaction)  \n",
    "\n",
    "1. get dataframe in python: all transactions sending to known vendor addresses  \n",
    "2. including all properties  \n",
    "3. transform to a 2 dimensional space & plot (PCA, t-sne, or similar)  \n",
    "4. apply clustering technique  \n",
    "\n",
    "build so it can be redone once we have more T2 addresses!  \n",
    "-> T2 transaction set + vendor wallets as input  "
   ]
  },
  {
   "cell_type": "markdown",
   "id": "521d9c81",
   "metadata": {},
   "source": [
    "# 0. Load Connections, Data & Helper Functions"
   ]
  },
  {
   "cell_type": "code",
   "execution_count": 2,
   "id": "3944a788",
   "metadata": {},
   "outputs": [],
   "source": [
    "import matplotlib.pyplot as plt\n",
    "import numpy as np\n",
    "from scipy.interpolate import interpn"
   ]
  },
  {
   "cell_type": "code",
   "execution_count": 3,
   "id": "65acb215",
   "metadata": {},
   "outputs": [],
   "source": [
    "from sklearn.decomposition import PCA\n",
    "from sklearn.preprocessing import StandardScaler\n",
    "from sklearn.manifold import TSNE as TSNE\n",
    "from sklearn.cluster import DBSCAN\n",
    "from sklearn.neighbors import NearestNeighbors"
   ]
  },
  {
   "cell_type": "code",
   "execution_count": 4,
   "id": "5f854d0d",
   "metadata": {},
   "outputs": [],
   "source": [
    "#import mariadb\n",
    "import tqdm\n",
    "import pickle\n",
    "import pandas as pd\n",
    "import mysql.connector\n",
    "from decimal import Decimal\n",
    "from neo4j import GraphDatabase\n",
    "from datetime import timedelta"
   ]
  },
  {
   "cell_type": "code",
   "execution_count": 5,
   "id": "777ddbc3",
   "metadata": {},
   "outputs": [],
   "source": [
    "df_pw = pd.read_csv(\"pw.csv\", delimiter=\",\")"
   ]
  },
  {
   "cell_type": "code",
   "execution_count": 6,
   "id": "2cec159f",
   "metadata": {},
   "outputs": [],
   "source": [
    "berlusconi_reviews  = pd.read_csv('reviews_price_btc.csv')"
   ]
  },
  {
   "cell_type": "code",
   "execution_count": 7,
   "id": "521aa591",
   "metadata": {},
   "outputs": [],
   "source": [
    "vendor_wal_filtered=pd.read_csv('vendor_wallets_filtered.csv')"
   ]
  },
  {
   "cell_type": "code",
   "execution_count": 8,
   "id": "63359b36",
   "metadata": {},
   "outputs": [],
   "source": [
    "#!/usr/bin/env python\n",
    "# coding: utf-8\n",
    "\n",
    "# # Function to start neo4j session\n",
    "\n",
    "from neo4j import GraphDatabase\n",
    "import pandas as pd\n",
    "import os\n",
    "\n",
    "\n",
    "def startNeo4jSession(credentials  = 'pw.csv',\n",
    "                      port = 7687):\n",
    "\n",
    "    try:\n",
    "        credentials = pd.read_csv(credentials)\n",
    "    except:\n",
    "        raise Exception('credentials could not be found')\n",
    "\n",
    "    uri = \"neo4j://localhost:\" + str(port)\n",
    "\n",
    "\n",
    "    username = credentials['name'][0]\n",
    "    password = credentials['password'][0]\n",
    "    \n",
    "    driver = GraphDatabase.driver(uri, auth=(username, password))\n",
    "    session = driver.session()\n",
    "    return driver, session"
   ]
  },
  {
   "cell_type": "code",
   "execution_count": 9,
   "id": "b493e14b",
   "metadata": {},
   "outputs": [],
   "source": [
    "driver, session = startNeo4jSession()"
   ]
  },
  {
   "cell_type": "code",
   "execution_count": 11,
   "id": "797849c4",
   "metadata": {},
   "outputs": [],
   "source": [
    "# plot with density\n",
    "def density_scatter( x , y, ax = None, sort = True, bins = 20, **kwargs )   :\n",
    "    \"\"\"\n",
    "    Scatter plot colored by 2d histogram\n",
    "    \"\"\"\n",
    "    if ax is None :\n",
    "        fig , ax = plt.subplots()\n",
    "    data , x_e, y_e = np.histogram2d( x, y, bins = bins)\n",
    "    z = interpn( ( 0.5*(x_e[1:] + x_e[:-1]) , 0.5*(y_e[1:]+y_e[:-1]) ) , data , np.vstack([x,y]).T , method = \"splinef2d\", bounds_error = False )\n",
    "\n",
    "    # Sort the points by density, so that the densest points are plotted last\n",
    "    if sort :\n",
    "        idx = z.argsort()\n",
    "        x, y, z = x[idx], y[idx], z[idx]\n",
    "\n",
    "    ax.scatter( x, y, c=z, **kwargs )\n",
    "    return ax"
   ]
  },
  {
   "cell_type": "markdown",
   "id": "e834320e",
   "metadata": {},
   "source": [
    "# Community Detection"
   ]
  },
  {
   "cell_type": "markdown",
   "id": "14412f0f",
   "metadata": {},
   "source": [
    "## 1. Load identified vendor addresses"
   ]
  },
  {
   "cell_type": "code",
   "execution_count": 12,
   "id": "ae8fed3d",
   "metadata": {},
   "outputs": [
    {
     "data": {
      "text/plain": [
       "38"
      ]
     },
     "execution_count": 12,
     "metadata": {},
     "output_type": "execute_result"
    }
   ],
   "source": [
    "df_vendoraddresses = pd.read_csv(\"final_results.csv\")\n",
    "len(df_vendoraddresses)"
   ]
  },
  {
   "cell_type": "markdown",
   "id": "edeef6d9",
   "metadata": {},
   "source": [
    "## 2. Load transactions sending to vendor addresses with properties"
   ]
  },
  {
   "cell_type": "code",
   "execution_count": 13,
   "id": "4084c2ac",
   "metadata": {},
   "outputs": [
    {
     "data": {
      "text/plain": [
       "185"
      ]
     },
     "execution_count": 13,
     "metadata": {},
     "output_type": "execute_result"
    }
   ],
   "source": [
    "# load transactions matching our pattern\n",
    "df_pattern = pd.DataFrame()\n",
    "\n",
    "# include loop through all identified t2s\n",
    "for row in df_vendoraddresses.itertuples():\n",
    "#     print(\"Start for: \", row.Address)\n",
    "    candidate = row.CandidateAddress\n",
    "    observedChange = str(0.01 * 100000000)\n",
    "    \n",
    "    neo_results = []\n",
    "\n",
    "    # initial query retrieving all input addresses\n",
    "    neo_query = session.run(\"\"\"\n",
    "    WITH \n",
    "    '\"\"\" + candidate + \"\"\"' as vendorCandidate,\n",
    "    \"\"\" + observedChange + \"\"\" as usualChange\n",
    "    MATCH (payout:Transaction)-[RECEIVES]->(vendor:Address)\n",
    "    WHERE vendor.address = vendorCandidate and payout.outDegree = 2 and vendor.totalMoneyReceived < 6000000000\n",
    "    WITH payout, usualChange, vendor\n",
    "    MATCH (in:Address)-[SENDS]->(payout)-[r1:RECEIVES]->(change1:Address)\n",
    "    WHERE 0.85 * usualChange <= r1.value <= 1.15 * usualChange \n",
    "    AND change1 <> vendor\n",
    "    AND (change1.address STARTS WITH \"3\" OR change1.address STARTS WITH \"bc1\")\n",
    "    AND (in.address STARTS WITH \"3\" OR in.address STARTS WITH \"bc1\")\n",
    "    WITH payout, vendor\n",
    "    MATCH (payout)-[r:RECEIVES]->(vendor)\n",
    "    RETURN DISTINCT payout.txid\n",
    "    \"\"\")\n",
    "    for r in neo_query:\n",
    "        neo_results.append(r[0])\n",
    "\n",
    "    # all transactions spending to vendor wallet addresses\n",
    "    df_pattern = pd.concat([df_pattern,pd.DataFrame(data=neo_results,columns=[\"pattern_txid\"])], ignore_index = True)\n",
    "\n",
    "len(df_pattern)"
   ]
  },
  {
   "cell_type": "code",
   "execution_count": 14,
   "id": "73b14247",
   "metadata": {
    "scrolled": true
   },
   "outputs": [
    {
     "data": {
      "text/plain": [
       "2482"
      ]
     },
     "execution_count": 14,
     "metadata": {},
     "output_type": "execute_result"
    }
   ],
   "source": [
    "# load all transactions\n",
    "df_results = pd.DataFrame()\n",
    "\n",
    "# loop through all addresses\n",
    "for row in df_vendoraddresses.itertuples():\n",
    "#     print(\"Start for: \", row.Address)\n",
    "\n",
    "    # initial query retrieving all input addresses\n",
    "    query = f\"\"\"MATCH (input:Address)-[:SENDS]->(t2:Transaction)-[:RECEIVES]->(output:Address {{address: \\'{row.CandidateAddress}\\'}}) \n",
    "                WHERE input.address <> 'unknown'\n",
    "                RETURN t2.txid, t2.inDegree, t2.outDegree,  t2.inDegree / t2.outDegree as degreeRatio,\n",
    "                min(input.inDegree) as minInInDegree, max(input.inDegree) as maxInInDegree, avg(input.inDegree) as avgInInDegree,\n",
    "                min(input.outDegree) as minInOutDegree, max(input.outDegree) as maxInOutDegree, avg(input.outDegree) as avgInOutDegree,\n",
    "                min(output.inDegree) as minOutInDegree, max(output.inDegree) as maxOutInDegree, avg(output.inDegree) as avgOutInDegree,\n",
    "                min(output.outDegree) as minOutOutDegree, max(output.outDegree) as maxOutOutDegree, avg(output.outDegree) as avgOutOutDegree,\n",
    "                collect(input.address), collect(output.address)\"\"\"\n",
    "\n",
    "    # all transactions spending to vendor wallet addresses\n",
    "    df_results = pd.concat([df_results,pd.DataFrame(session.run(query).values(), \n",
    "                                                   columns=['txid','T2InDegree','T2OutDegree', \"degreeRatio\",\n",
    "                                                            'minInInDegree','maxInInDegree','avgInInDegree',\n",
    "                                                            'minInOutDegree','maxInOutDegree','avgInOutDegree',\n",
    "                                                            'minOutInDegree','maxOutInDegree','avgOutInDegree',\n",
    "                                                            'minOutOutDegree','maxOutOutDegree','avgOutOutDegree',\n",
    "                                                            'inputAddresses','outputAddresses'\n",
    "                                                           ])], ignore_index = True)\n",
    "\n",
    "\n",
    "len(df_results)"
   ]
  },
  {
   "cell_type": "code",
   "execution_count": 15,
   "id": "2be014f4",
   "metadata": {},
   "outputs": [],
   "source": [
    "# check script types of collected input addresses\n",
    "df_results['inputScriptP2PKH'] = df_results[\"inputAddresses\"].apply(lambda x_list: 1 if any(x.startswith('1') for x in x_list) else 0)\n",
    "df_results['inputScriptP2SH'] = df_results[\"inputAddresses\"].apply(lambda x_list: 1 if any(x.startswith('3') for x in x_list) else 0)\n",
    "df_results['outputScriptP2PKH'] = df_results[\"outputAddresses\"].apply(lambda x_list: 1 if any(x.startswith('1') for x in x_list) else 0)\n",
    "df_results['outputScriptP2SH'] = df_results[\"outputAddresses\"].apply(lambda x_list: 1 if any(x.startswith('3') for x in x_list) else 0)"
   ]
  },
  {
   "cell_type": "code",
   "execution_count": 16,
   "id": "2f8c2006",
   "metadata": {},
   "outputs": [],
   "source": [
    "# add column whether it matches the pattern\n",
    "df_results[\"isT2\"] = df_results[\"txid\"].isin(df_pattern[\"pattern_txid\"].unique())"
   ]
  },
  {
   "cell_type": "code",
   "execution_count": 17,
   "id": "85d9427b",
   "metadata": {},
   "outputs": [
    {
     "data": {
      "text/html": [
       "<div>\n",
       "<style scoped>\n",
       "    .dataframe tbody tr th:only-of-type {\n",
       "        vertical-align: middle;\n",
       "    }\n",
       "\n",
       "    .dataframe tbody tr th {\n",
       "        vertical-align: top;\n",
       "    }\n",
       "\n",
       "    .dataframe thead th {\n",
       "        text-align: right;\n",
       "    }\n",
       "</style>\n",
       "<table border=\"1\" class=\"dataframe\">\n",
       "  <thead>\n",
       "    <tr style=\"text-align: right;\">\n",
       "      <th></th>\n",
       "      <th>txid</th>\n",
       "    </tr>\n",
       "    <tr>\n",
       "      <th>isT2</th>\n",
       "      <th></th>\n",
       "    </tr>\n",
       "  </thead>\n",
       "  <tbody>\n",
       "    <tr>\n",
       "      <th>False</th>\n",
       "      <td>2297</td>\n",
       "    </tr>\n",
       "    <tr>\n",
       "      <th>True</th>\n",
       "      <td>185</td>\n",
       "    </tr>\n",
       "  </tbody>\n",
       "</table>\n",
       "</div>"
      ],
      "text/plain": [
       "       txid\n",
       "isT2       \n",
       "False  2297\n",
       "True    185"
      ]
     },
     "execution_count": 17,
     "metadata": {},
     "output_type": "execute_result"
    }
   ],
   "source": [
    "df_results.groupby(\"isT2\").count()[[\"txid\"]]"
   ]
  },
  {
   "cell_type": "markdown",
   "id": "8d4bb12b",
   "metadata": {},
   "source": [
    "## 3. Get 1000 random transactions"
   ]
  },
  {
   "cell_type": "code",
   "execution_count": 18,
   "id": "6fde98cb",
   "metadata": {},
   "outputs": [
    {
     "data": {
      "text/plain": [
       "1000"
      ]
     },
     "execution_count": 18,
     "metadata": {},
     "output_type": "execute_result"
    }
   ],
   "source": [
    "df_random = pd.DataFrame()\n",
    "\n",
    "query = f\"\"\"MATCH (output:Address)\n",
    "                WITH output  limit 2000\n",
    "                MATCH (input:Address)-[:SENDS]->(t2:Transaction)-[:RECEIVES]->(output) \n",
    "                WHERE input.address <> 'unknown'\n",
    "                AND t2.inDegree <> 1\n",
    "                RETURN t2.txid, t2.inDegree, t2.outDegree,  t2.inDegree / t2.outDegree as degreeRatio,\n",
    "                min(input.inDegree) as minInInDegree, max(input.inDegree) as maxInInDegree, avg(input.inDegree) as avgInInDegree,\n",
    "                min(input.outDegree) as minInOutDegree, max(input.outDegree) as maxInOutDegree, avg(input.outDegree) as avgInOutDegree,\n",
    "                min(output.inDegree) as minOutInDegree, max(output.inDegree) as maxOutInDegree, avg(output.inDegree) as avgOutInDegree,\n",
    "                min(output.outDegree) as minOutOutDegree, max(output.outDegree) as maxOutOutDegree, avg(output.outDegree) as avgOutOutDegree,\n",
    "                collect(input.address), collect(output.address)\n",
    "                limit 1000\"\"\"\n",
    "\n",
    "df_random = pd.DataFrame(session.run(query).values(), columns=['txid','T2InDegree','T2OutDegree', \"degreeRatio\",\n",
    "                                                            'minInInDegree','maxInInDegree','avgInInDegree',\n",
    "                                                            'minInOutDegree','maxInOutDegree','avgInOutDegree',\n",
    "                                                            'minOutInDegree','maxOutInDegree','avgOutInDegree',\n",
    "                                                            'minOutOutDegree','maxOutOutDegree','avgOutOutDegree',\n",
    "                                                            'inputAddresses','outputAddresses'])\n",
    "\n",
    "len(df_random)"
   ]
  },
  {
   "cell_type": "code",
   "execution_count": 19,
   "id": "992e35a9",
   "metadata": {},
   "outputs": [],
   "source": [
    "# check script types of collected input addresses\n",
    "df_random['inputScriptP2PKH'] = df_random[\"inputAddresses\"].apply(lambda x_list: 1 if any(x.startswith('1') for x in x_list) else 0)\n",
    "df_random['inputScriptP2SH'] = df_random[\"inputAddresses\"].apply(lambda x_list: 1 if any(x.startswith('3') for x in x_list) else 0)\n",
    "df_random['outputScriptP2PKH'] = df_random[\"outputAddresses\"].apply(lambda x_list: 1 if any(x.startswith('1') for x in x_list) else 0)\n",
    "df_random['outputScriptP2SH'] = df_random[\"outputAddresses\"].apply(lambda x_list: 1 if any(x.startswith('3') for x in x_list) else 0)"
   ]
  },
  {
   "cell_type": "code",
   "execution_count": 20,
   "id": "5c6f67f5",
   "metadata": {},
   "outputs": [
    {
     "data": {
      "text/plain": [
       "1000"
      ]
     },
     "execution_count": 20,
     "metadata": {},
     "output_type": "execute_result"
    }
   ],
   "source": [
    "# set isT2 to no\n",
    "df_random = df_random[~df_random[\"txid\"].isin(df_results[\"txid\"])]\n",
    "df_random[\"isT2\"] = False\n",
    "len(df_random)"
   ]
  },
  {
   "cell_type": "code",
   "execution_count": 21,
   "id": "acc4dc82",
   "metadata": {},
   "outputs": [
    {
     "data": {
      "text/plain": [
       "3482"
      ]
     },
     "execution_count": 21,
     "metadata": {},
     "output_type": "execute_result"
    }
   ],
   "source": [
    "# combine all data into one dataframe\n",
    "df_transactions = pd.concat([df_results,df_random],ignore_index=True)\n",
    "len(df_transactions)"
   ]
  },
  {
   "cell_type": "code",
   "execution_count": 22,
   "id": "437673d8",
   "metadata": {},
   "outputs": [
    {
     "name": "stdout",
     "output_type": "stream",
     "text": [
      "3482\n"
     ]
    },
    {
     "data": {
      "text/html": [
       "<div>\n",
       "<style scoped>\n",
       "    .dataframe tbody tr th:only-of-type {\n",
       "        vertical-align: middle;\n",
       "    }\n",
       "\n",
       "    .dataframe tbody tr th {\n",
       "        vertical-align: top;\n",
       "    }\n",
       "\n",
       "    .dataframe thead th {\n",
       "        text-align: right;\n",
       "    }\n",
       "</style>\n",
       "<table border=\"1\" class=\"dataframe\">\n",
       "  <thead>\n",
       "    <tr style=\"text-align: right;\">\n",
       "      <th></th>\n",
       "      <th>T2InDegree</th>\n",
       "      <th>T2OutDegree</th>\n",
       "      <th>degreeRatio</th>\n",
       "      <th>minInInDegree</th>\n",
       "      <th>maxInInDegree</th>\n",
       "      <th>avgInInDegree</th>\n",
       "      <th>minInOutDegree</th>\n",
       "      <th>maxInOutDegree</th>\n",
       "      <th>avgInOutDegree</th>\n",
       "      <th>minOutInDegree</th>\n",
       "      <th>...</th>\n",
       "      <th>maxOutOutDegree</th>\n",
       "      <th>avgOutOutDegree</th>\n",
       "      <th>inputScriptP2PKH</th>\n",
       "      <th>inputScriptP2SH</th>\n",
       "      <th>outputScriptP2PKH</th>\n",
       "      <th>outputScriptP2SH</th>\n",
       "      <th>txid</th>\n",
       "      <th>inputAddresses</th>\n",
       "      <th>outputAddresses</th>\n",
       "      <th>isT2</th>\n",
       "    </tr>\n",
       "  </thead>\n",
       "  <tbody>\n",
       "    <tr>\n",
       "      <th>0</th>\n",
       "      <td>0.143186</td>\n",
       "      <td>-0.148049</td>\n",
       "      <td>0.319417</td>\n",
       "      <td>-0.146012</td>\n",
       "      <td>-0.162913</td>\n",
       "      <td>-0.153002</td>\n",
       "      <td>-0.148239</td>\n",
       "      <td>-0.166290</td>\n",
       "      <td>-0.155778</td>\n",
       "      <td>-0.596154</td>\n",
       "      <td>...</td>\n",
       "      <td>-0.927825</td>\n",
       "      <td>-0.927817</td>\n",
       "      <td>-0.892579</td>\n",
       "      <td>0.870968</td>\n",
       "      <td>0.360767</td>\n",
       "      <td>-0.360767</td>\n",
       "      <td>fd91524c1107e031b0a7cc1a0904518fea6720df4e9ff0...</td>\n",
       "      <td>[33LQ1Ec3Te4iMgerji6YmSMHZ39HtStbJa, 34rQkGaSc...</td>\n",
       "      <td>[1My4BZTaHX2k8sSpAec6p3qoGikgGhYcDJ, 1My4BZTaH...</td>\n",
       "      <td>True</td>\n",
       "    </tr>\n",
       "    <tr>\n",
       "      <th>1</th>\n",
       "      <td>1.999651</td>\n",
       "      <td>-0.134457</td>\n",
       "      <td>1.299510</td>\n",
       "      <td>-0.146012</td>\n",
       "      <td>-0.136959</td>\n",
       "      <td>-0.152182</td>\n",
       "      <td>-0.148239</td>\n",
       "      <td>-0.142180</td>\n",
       "      <td>-0.155015</td>\n",
       "      <td>-0.596154</td>\n",
       "      <td>...</td>\n",
       "      <td>-0.927825</td>\n",
       "      <td>-0.927817</td>\n",
       "      <td>-0.892579</td>\n",
       "      <td>0.870968</td>\n",
       "      <td>0.360767</td>\n",
       "      <td>-0.360767</td>\n",
       "      <td>d877cc21faee2ce511a8de4becbf5a9d79d5f25ffb2a2d...</td>\n",
       "      <td>[3LDcYe43Jb8YwKLoqsxJ6Mqkkfgkv9Y9mF, 3HjMQzhik...</td>\n",
       "      <td>[1My4BZTaHX2k8sSpAec6p3qoGikgGhYcDJ, 1My4BZTaH...</td>\n",
       "      <td>False</td>\n",
       "    </tr>\n",
       "    <tr>\n",
       "      <th>2</th>\n",
       "      <td>-0.079590</td>\n",
       "      <td>-0.141253</td>\n",
       "      <td>-0.072620</td>\n",
       "      <td>-0.145774</td>\n",
       "      <td>-0.159346</td>\n",
       "      <td>-0.149384</td>\n",
       "      <td>-0.147979</td>\n",
       "      <td>-0.162415</td>\n",
       "      <td>-0.151827</td>\n",
       "      <td>-0.596154</td>\n",
       "      <td>...</td>\n",
       "      <td>-0.927825</td>\n",
       "      <td>-0.927817</td>\n",
       "      <td>-0.892579</td>\n",
       "      <td>0.870968</td>\n",
       "      <td>0.360767</td>\n",
       "      <td>-0.360767</td>\n",
       "      <td>b9beaf0982fbac9c30173ba427811c765307a22c959373...</td>\n",
       "      <td>[3AoWB5SYuX813W1oLxxhYFKxu67JfwwFay, 3JbMAKR3q...</td>\n",
       "      <td>[1My4BZTaHX2k8sSpAec6p3qoGikgGhYcDJ, 1My4BZTaH...</td>\n",
       "      <td>False</td>\n",
       "    </tr>\n",
       "    <tr>\n",
       "      <th>3</th>\n",
       "      <td>-0.079590</td>\n",
       "      <td>-0.148049</td>\n",
       "      <td>0.123398</td>\n",
       "      <td>-0.146012</td>\n",
       "      <td>-0.167636</td>\n",
       "      <td>-0.153627</td>\n",
       "      <td>-0.148239</td>\n",
       "      <td>-0.171440</td>\n",
       "      <td>-0.156463</td>\n",
       "      <td>-0.596681</td>\n",
       "      <td>...</td>\n",
       "      <td>-0.956075</td>\n",
       "      <td>-0.956068</td>\n",
       "      <td>-0.892579</td>\n",
       "      <td>0.870968</td>\n",
       "      <td>-2.771875</td>\n",
       "      <td>2.771875</td>\n",
       "      <td>d8917e0d45dcc8e4779588dd6113e846b7ef161303ef1a...</td>\n",
       "      <td>[3FkUD3jSZgX21DVFqZTgaoKnYVBPxwE48L, 3AmHLXYuH...</td>\n",
       "      <td>[3FW2rWrRQhfCM1ptFen96644rjESgT1pxk, 3FW2rWrRQ...</td>\n",
       "      <td>True</td>\n",
       "    </tr>\n",
       "    <tr>\n",
       "      <th>4</th>\n",
       "      <td>-0.079590</td>\n",
       "      <td>-0.148049</td>\n",
       "      <td>0.123398</td>\n",
       "      <td>-0.146012</td>\n",
       "      <td>-0.167827</td>\n",
       "      <td>-0.153713</td>\n",
       "      <td>-0.148239</td>\n",
       "      <td>-0.171647</td>\n",
       "      <td>-0.156556</td>\n",
       "      <td>-0.596681</td>\n",
       "      <td>...</td>\n",
       "      <td>-0.956075</td>\n",
       "      <td>-0.956068</td>\n",
       "      <td>-0.892579</td>\n",
       "      <td>0.870968</td>\n",
       "      <td>-2.771875</td>\n",
       "      <td>2.771875</td>\n",
       "      <td>0b2fb0fb7e1f9e918274036903e1aaf3f1f5b02f4831b2...</td>\n",
       "      <td>[3GjpvVBQcNEF5nyauUGU4AKCJg86T1hm9X, 3FDNSBS77...</td>\n",
       "      <td>[3LSG4dW8xhvXMrxa7LJUN28vAyGkSwC4KX, 3LSG4dW8x...</td>\n",
       "      <td>True</td>\n",
       "    </tr>\n",
       "  </tbody>\n",
       "</table>\n",
       "<p>5 rows × 23 columns</p>\n",
       "</div>"
      ],
      "text/plain": [
       "   T2InDegree  T2OutDegree  degreeRatio  minInInDegree  maxInInDegree  \\\n",
       "0    0.143186    -0.148049     0.319417      -0.146012      -0.162913   \n",
       "1    1.999651    -0.134457     1.299510      -0.146012      -0.136959   \n",
       "2   -0.079590    -0.141253    -0.072620      -0.145774      -0.159346   \n",
       "3   -0.079590    -0.148049     0.123398      -0.146012      -0.167636   \n",
       "4   -0.079590    -0.148049     0.123398      -0.146012      -0.167827   \n",
       "\n",
       "   avgInInDegree  minInOutDegree  maxInOutDegree  avgInOutDegree  \\\n",
       "0      -0.153002       -0.148239       -0.166290       -0.155778   \n",
       "1      -0.152182       -0.148239       -0.142180       -0.155015   \n",
       "2      -0.149384       -0.147979       -0.162415       -0.151827   \n",
       "3      -0.153627       -0.148239       -0.171440       -0.156463   \n",
       "4      -0.153713       -0.148239       -0.171647       -0.156556   \n",
       "\n",
       "   minOutInDegree  ...  maxOutOutDegree  avgOutOutDegree  inputScriptP2PKH  \\\n",
       "0       -0.596154  ...        -0.927825        -0.927817         -0.892579   \n",
       "1       -0.596154  ...        -0.927825        -0.927817         -0.892579   \n",
       "2       -0.596154  ...        -0.927825        -0.927817         -0.892579   \n",
       "3       -0.596681  ...        -0.956075        -0.956068         -0.892579   \n",
       "4       -0.596681  ...        -0.956075        -0.956068         -0.892579   \n",
       "\n",
       "   inputScriptP2SH  outputScriptP2PKH  outputScriptP2SH  \\\n",
       "0         0.870968           0.360767         -0.360767   \n",
       "1         0.870968           0.360767         -0.360767   \n",
       "2         0.870968           0.360767         -0.360767   \n",
       "3         0.870968          -2.771875          2.771875   \n",
       "4         0.870968          -2.771875          2.771875   \n",
       "\n",
       "                                                txid  \\\n",
       "0  fd91524c1107e031b0a7cc1a0904518fea6720df4e9ff0...   \n",
       "1  d877cc21faee2ce511a8de4becbf5a9d79d5f25ffb2a2d...   \n",
       "2  b9beaf0982fbac9c30173ba427811c765307a22c959373...   \n",
       "3  d8917e0d45dcc8e4779588dd6113e846b7ef161303ef1a...   \n",
       "4  0b2fb0fb7e1f9e918274036903e1aaf3f1f5b02f4831b2...   \n",
       "\n",
       "                                      inputAddresses  \\\n",
       "0  [33LQ1Ec3Te4iMgerji6YmSMHZ39HtStbJa, 34rQkGaSc...   \n",
       "1  [3LDcYe43Jb8YwKLoqsxJ6Mqkkfgkv9Y9mF, 3HjMQzhik...   \n",
       "2  [3AoWB5SYuX813W1oLxxhYFKxu67JfwwFay, 3JbMAKR3q...   \n",
       "3  [3FkUD3jSZgX21DVFqZTgaoKnYVBPxwE48L, 3AmHLXYuH...   \n",
       "4  [3GjpvVBQcNEF5nyauUGU4AKCJg86T1hm9X, 3FDNSBS77...   \n",
       "\n",
       "                                     outputAddresses   isT2  \n",
       "0  [1My4BZTaHX2k8sSpAec6p3qoGikgGhYcDJ, 1My4BZTaH...   True  \n",
       "1  [1My4BZTaHX2k8sSpAec6p3qoGikgGhYcDJ, 1My4BZTaH...  False  \n",
       "2  [1My4BZTaHX2k8sSpAec6p3qoGikgGhYcDJ, 1My4BZTaH...  False  \n",
       "3  [3FW2rWrRQhfCM1ptFen96644rjESgT1pxk, 3FW2rWrRQ...   True  \n",
       "4  [3LSG4dW8xhvXMrxa7LJUN28vAyGkSwC4KX, 3LSG4dW8x...   True  \n",
       "\n",
       "[5 rows x 23 columns]"
      ]
     },
     "execution_count": 22,
     "metadata": {},
     "output_type": "execute_result"
    }
   ],
   "source": [
    "# scale all features\n",
    "df_scaled  = df_transactions.drop(columns=['txid', 'inputAddresses','outputAddresses','isT2'])\n",
    "df_scaled = pd.DataFrame(StandardScaler().fit_transform(df_scaled), columns = df_scaled.columns)\n",
    "df_transactions = df_scaled.join(df_transactions[['txid', 'inputAddresses','outputAddresses','isT2']])\n",
    "print(len(df_transactions))\n",
    "df_transactions.head()"
   ]
  },
  {
   "cell_type": "markdown",
   "id": "84b49ebd",
   "metadata": {},
   "source": [
    "## 4. Transform & Plot Transactions\n",
    "## 4.1 Only transactions to known vendor addresses"
   ]
  },
  {
   "cell_type": "code",
   "execution_count": 23,
   "id": "8005bf5e",
   "metadata": {},
   "outputs": [],
   "source": [
    "df_plotk = df_transactions[df_transactions[\"txid\"].isin(df_results[\"txid\"])].drop(columns=['txid', 'inputAddresses','outputAddresses','isT2'])"
   ]
  },
  {
   "cell_type": "code",
   "execution_count": 24,
   "id": "04297eca",
   "metadata": {},
   "outputs": [
    {
     "data": {
      "image/png": "[encoded data removed]",
      "text/plain": [
       "<Figure size 576x576 with 1 Axes>"
      ]
     },
     "metadata": {
      "needs_background": "light"
     },
     "output_type": "display_data"
    }
   ],
   "source": [
    "pca = PCA(n_components=2)\n",
    "principalComponents = pca.fit_transform(df_plotk)\n",
    "principalDf = pd.DataFrame(data = principalComponents\n",
    "             , columns = ['principal component 1', 'principal component 2']).reset_index(drop=True)\n",
    "df_pca = pd.concat([principalDf, df_transactions[['isT2']].reset_index(drop=True)], axis = 1)\n",
    "fig = plt.figure(figsize = (8,8))\n",
    "ax = fig.add_subplot(1,1,1) \n",
    "ax.set_xlabel('Principal Component 1', fontsize = 15)\n",
    "ax.set_ylabel('Principal Component 2', fontsize = 15)\n",
    "ax.set_title('2 component PCA', fontsize = 20)\n",
    "targets = [False,True]\n",
    "colors = ['r', 'g', 'b']\n",
    "for target, color in zip(targets,colors):\n",
    "    indicesToKeep = df_pca['isT2'] == target\n",
    "    ax.scatter(df_pca.loc[indicesToKeep, 'principal component 1']\n",
    "               , df_pca.loc[indicesToKeep, 'principal component 2']\n",
    "               , c = color\n",
    "               , s = 50)\n",
    "ax.legend(targets)\n",
    "ax.grid()"
   ]
  },
  {
   "cell_type": "code",
   "execution_count": 25,
   "id": "16a19575",
   "metadata": {},
   "outputs": [
    {
     "data": {
      "image/png": "[encoded data removed]",
      "text/plain": [
       "<Figure size 432x288 with 1 Axes>"
      ]
     },
     "metadata": {
      "needs_background": "light"
     },
     "output_type": "display_data"
    }
   ],
   "source": [
    "plot1 = density_scatter( principalDf[\"principal component 1\"], principalDf[\"principal component 2\"], bins = [30,30])\n",
    "plot1.set(title=\"PCA-transformed Data, heatmap\")\n",
    "plt.show()"
   ]
  },
  {
   "cell_type": "markdown",
   "id": "1bb1d9df",
   "metadata": {},
   "source": [
    "## 4.2 All transactions"
   ]
  },
  {
   "cell_type": "code",
   "execution_count": 26,
   "id": "999af79c",
   "metadata": {},
   "outputs": [],
   "source": [
    "df_plot = df_transactions.drop(columns=['txid', 'inputAddresses','outputAddresses','isT2'])"
   ]
  },
  {
   "cell_type": "code",
   "execution_count": 27,
   "id": "aacee1f1",
   "metadata": {},
   "outputs": [],
   "source": [
    "pca = PCA(n_components=2)\n",
    "principalComponents = pca.fit_transform(df_plot)\n",
    "principalDf = pd.DataFrame(data = principalComponents\n",
    "             , columns = ['principal component 1', 'principal component 2']).reset_index(drop=True)"
   ]
  },
  {
   "cell_type": "code",
   "execution_count": 28,
   "id": "882791bf",
   "metadata": {},
   "outputs": [],
   "source": [
    "df_pca = pd.concat([principalDf, df_transactions[['isT2']].reset_index(drop=True)], axis = 1)"
   ]
  },
  {
   "cell_type": "code",
   "execution_count": 29,
   "id": "a1c46c54",
   "metadata": {},
   "outputs": [
    {
     "data": {
      "image/png": "[encoded data removed]",
      "text/plain": [
       "<Figure size 576x576 with 1 Axes>"
      ]
     },
     "metadata": {
      "needs_background": "light"
     },
     "output_type": "display_data"
    }
   ],
   "source": [
    "fig = plt.figure(figsize = (8,8))\n",
    "ax = fig.add_subplot(1,1,1) \n",
    "ax.set_xlabel('Principal Component 1', fontsize = 15)\n",
    "ax.set_ylabel('Principal Component 2', fontsize = 15)\n",
    "ax.set_title('2 component PCA', fontsize = 20)\n",
    "targets = [False,True]\n",
    "colors = ['r', 'g', 'b']\n",
    "for target, color in zip(targets,colors):\n",
    "    indicesToKeep = df_pca['isT2'] == target\n",
    "    ax.scatter(df_pca.loc[indicesToKeep, 'principal component 1']\n",
    "               , df_pca.loc[indicesToKeep, 'principal component 2']\n",
    "               , c = color\n",
    "               , s = 50)\n",
    "ax.legend(targets)\n",
    "ax.grid()"
   ]
  },
  {
   "cell_type": "code",
   "execution_count": 30,
   "id": "9fae21ff",
   "metadata": {},
   "outputs": [
    {
     "data": {
      "image/png": "[encoded data removed]",
      "text/plain": [
       "<Figure size 432x288 with 1 Axes>"
      ]
     },
     "metadata": {
      "needs_background": "light"
     },
     "output_type": "display_data"
    }
   ],
   "source": [
    "plot1 = density_scatter( principalDf[\"principal component 1\"], principalDf[\"principal component 2\"], bins = [30,30])\n",
    "plot1.set(title=\"PCA-transformed Data, heatmap\")\n",
    "plt.show()"
   ]
  },
  {
   "cell_type": "code",
   "execution_count": 31,
   "id": "b7996310",
   "metadata": {},
   "outputs": [],
   "source": [
    "# additionally apply different transformer: e.g. t-sne!\n",
    "# tsne: t-distributed stochastic neighbor embedding\n",
    "# NOTE: THIS TAKES A FEW MINUTES\n",
    "a_tsne = TSNE(n_components=2).fit_transform(df_plot)"
   ]
  },
  {
   "cell_type": "code",
   "execution_count": 32,
   "id": "23a9c903",
   "metadata": {},
   "outputs": [],
   "source": [
    "df_tsne = pd.concat([pd.DataFrame(data=a_tsne, columns= [\"Component 1\", \"Component 2\"]), df_transactions[['isT2']].reset_index(drop=True)], axis = 1)"
   ]
  },
  {
   "cell_type": "code",
   "execution_count": 33,
   "id": "5888bd46",
   "metadata": {},
   "outputs": [
    {
     "data": {
      "image/png": "[encoded data removed]",
      "text/plain": [
       "<Figure size 576x576 with 1 Axes>"
      ]
     },
     "metadata": {
      "needs_background": "light"
     },
     "output_type": "display_data"
    }
   ],
   "source": [
    "fig = plt.figure(figsize = (8,8))\n",
    "ax = fig.add_subplot(1,1,1) \n",
    "ax.set_xlabel('Component 1', fontsize = 15)\n",
    "ax.set_ylabel('Component 2', fontsize = 15)\n",
    "ax.set_title('2 component t-sne', fontsize = 20)\n",
    "targets = [False,True]\n",
    "colors = ['r', 'g', 'b']\n",
    "for target, color in zip(targets,colors):\n",
    "    indicesToKeep = df_tsne['isT2'] == target\n",
    "    ax.scatter(df_tsne.loc[indicesToKeep, 'Component 1']\n",
    "               , df_tsne.loc[indicesToKeep, 'Component 2']\n",
    "               , c = color\n",
    "               , s = 50,\n",
    "              alpha = 0.5)\n",
    "ax.legend(targets)\n",
    "ax.grid()"
   ]
  },
  {
   "cell_type": "code",
   "execution_count": 34,
   "id": "1264ba54",
   "metadata": {},
   "outputs": [
    {
     "data": {
      "image/png": "[encoded data removed]",
      "text/plain": [
       "<Figure size 432x288 with 1 Axes>"
      ]
     },
     "metadata": {
      "needs_background": "light"
     },
     "output_type": "display_data"
    }
   ],
   "source": [
    "plot1 = density_scatter( df_tsne[(~df_tsne[\"Component 1\"].isna() & ~df_tsne[\"Component 2\"].isna())][\"Component 1\"], \n",
    "                        df_tsne[(~df_tsne[\"Component 1\"].isna() & ~df_tsne[\"Component 2\"].isna())][\"Component 2\"], bins = [30,30])\n",
    "plot1.set(title=\"TSNE-transformed Data\")\n",
    "plt.show()"
   ]
  },
  {
   "cell_type": "markdown",
   "id": "5921fc8d",
   "metadata": {},
   "source": [
    "### 4.3 Manually selected features"
   ]
  },
  {
   "cell_type": "code",
   "execution_count": 35,
   "id": "8ca9f4ea",
   "metadata": {},
   "outputs": [
    {
     "data": {
      "text/plain": [
       "Index(['T2InDegree', 'T2OutDegree', 'degreeRatio', 'minInInDegree',\n",
       "       'maxInInDegree', 'avgInInDegree', 'minInOutDegree', 'maxInOutDegree',\n",
       "       'avgInOutDegree', 'minOutInDegree', 'maxOutInDegree', 'avgOutInDegree',\n",
       "       'minOutOutDegree', 'maxOutOutDegree', 'avgOutOutDegree',\n",
       "       'inputScriptP2PKH', 'inputScriptP2SH', 'outputScriptP2PKH',\n",
       "       'outputScriptP2SH'],\n",
       "      dtype='object')"
      ]
     },
     "execution_count": 35,
     "metadata": {},
     "output_type": "execute_result"
    }
   ],
   "source": [
    "df_plot.columns"
   ]
  },
  {
   "cell_type": "code",
   "execution_count": 36,
   "id": "eca36894",
   "metadata": {},
   "outputs": [],
   "source": [
    "manual_cols = ['T2InDegree', 'T2OutDegree', 'degreeRatio',\n",
    "               'inputScriptP2PKH', 'inputScriptP2SH'#, 'outputScriptP2PKH', 'outputScriptP2SH'\n",
    "              ]"
   ]
  },
  {
   "cell_type": "code",
   "execution_count": 37,
   "id": "29e08117",
   "metadata": {},
   "outputs": [
    {
     "data": {
      "image/png": "[encoded data removed]",
      "text/plain": [
       "<Figure size 576x576 with 1 Axes>"
      ]
     },
     "metadata": {
      "needs_background": "light"
     },
     "output_type": "display_data"
    }
   ],
   "source": [
    "pca = PCA(n_components=2)\n",
    "principalComponents = pca.fit_transform(df_plot[manual_cols])\n",
    "principalDf = pd.DataFrame(data = principalComponents\n",
    "             , columns = ['principal component 1', 'principal component 2']).reset_index(drop=True)\n",
    "df_pca = pd.concat([principalDf, df_transactions[['isT2']].reset_index(drop=True)], axis = 1)\n",
    "fig = plt.figure(figsize = (8,8))\n",
    "ax = fig.add_subplot(1,1,1) \n",
    "ax.set_xlabel('Principal Component 1', fontsize = 15)\n",
    "ax.set_ylabel('Principal Component 2', fontsize = 15)\n",
    "ax.set_title('2 component PCA', fontsize = 20)\n",
    "targets = [False,True]\n",
    "colors = ['r', 'g', 'b']\n",
    "for target, color in zip(targets,colors):\n",
    "    indicesToKeep = df_pca['isT2'] == target\n",
    "    ax.scatter(df_pca.loc[indicesToKeep, 'principal component 1']\n",
    "               , df_pca.loc[indicesToKeep, 'principal component 2']\n",
    "               , c = color\n",
    "               , s = 50)\n",
    "ax.legend(targets)\n",
    "ax.grid()"
   ]
  },
  {
   "cell_type": "code",
   "execution_count": 38,
   "id": "9f0b5ae1",
   "metadata": {},
   "outputs": [],
   "source": [
    "# additionally apply different transformer: e.g. t-sne!\n",
    "# tsne: t-distributed stochastic neighbor embedding\n",
    "# NOTE: THIS TAKES A FEW MINUTES\n",
    "a_tsne = TSNE(n_components=2).fit_transform(df_plot[manual_cols])"
   ]
  },
  {
   "cell_type": "code",
   "execution_count": 39,
   "id": "eeb1ac92",
   "metadata": {},
   "outputs": [
    {
     "data": {
      "image/png": "[encoded data removed]",
      "text/plain": [
       "<Figure size 576x576 with 1 Axes>"
      ]
     },
     "metadata": {
      "needs_background": "light"
     },
     "output_type": "display_data"
    }
   ],
   "source": [
    "df_tsne = pd.concat([pd.DataFrame(data=a_tsne, columns= [\"Component 1\", \"Component 2\"]), df_transactions[['isT2']].reset_index(drop=True)], axis = 1)\n",
    "fig = plt.figure(figsize = (8,8))\n",
    "ax = fig.add_subplot(1,1,1) \n",
    "ax.set_xlabel('Component 1', fontsize = 15)\n",
    "ax.set_ylabel('Component 2', fontsize = 15)\n",
    "ax.set_title('2 component t-sne', fontsize = 20)\n",
    "targets = [False,True]\n",
    "colors = ['r', 'g', 'b']\n",
    "for target, color in zip(targets,colors):\n",
    "    indicesToKeep = df_tsne['isT2'] == target\n",
    "    ax.scatter(df_tsne.loc[indicesToKeep, 'Component 1']\n",
    "               , df_tsne.loc[indicesToKeep, 'Component 2']\n",
    "               , c = color\n",
    "               , s = 50,\n",
    "              alpha = 0.5)\n",
    "ax.legend(targets)\n",
    "ax.grid()"
   ]
  },
  {
   "cell_type": "markdown",
   "id": "a1f99f0c",
   "metadata": {},
   "source": [
    "## 5. Cluster Transactions \n",
    "Based on normal dimensions, scaled data, manual feature selection.  \n",
    "Algorithms/Models: https://scikit-learn.org/stable/modules/clustering.html  \n",
    "Noise = cluster number -1"
   ]
  },
  {
   "cell_type": "markdown",
   "id": "1b884211",
   "metadata": {},
   "source": [
    "### DBScan"
   ]
  },
  {
   "cell_type": "code",
   "execution_count": 40,
   "id": "00d842fc",
   "metadata": {},
   "outputs": [],
   "source": [
    "def applyDBScan(columns,eps,min_samples):\n",
    "    estimator = DBSCAN(eps=eps, min_samples=min_samples)\n",
    "    estimator.fit(df_transactions[columns].fillna(0))                   \n",
    "    new_df = df_transactions.join(pd.Series(estimator.labels_, name=\"clusters\"))\n",
    "    \n",
    "    dbscan_results = pd.DataFrame(columns=['cluster_id', 'isT2', 'cluster_size'])\n",
    "    for cluster_id in new_df[\"clusters\"].unique(): \n",
    "        c = new_df.groupby(['clusters']).get_group(cluster_id)[['txid', 'isT2']]\n",
    "        isT2 = c['isT2'] == True\n",
    "        numberT2Tx = c[isT2]['isT2'].count()\n",
    "        df2 = pd.DataFrame([[cluster_id, numberT2Tx, len(new_df.groupby(['clusters']).get_group(cluster_id)['txid'].values)]],\n",
    "                       columns=['cluster_id', 'isT2', 'cluster_size'])\n",
    "        dbscan_results = pd.concat([dbscan_results, df2], ignore_index = True)\n",
    "\n",
    "    return dbscan_results"
   ]
  },
  {
   "cell_type": "markdown",
   "id": "b528b91d",
   "metadata": {},
   "source": [
    "#### 4.1.1 All features"
   ]
  },
  {
   "cell_type": "code",
   "execution_count": 41,
   "id": "650db4f0",
   "metadata": {},
   "outputs": [
    {
     "data": {
      "text/html": [
       "<div>\n",
       "<style scoped>\n",
       "    .dataframe tbody tr th:only-of-type {\n",
       "        vertical-align: middle;\n",
       "    }\n",
       "\n",
       "    .dataframe tbody tr th {\n",
       "        vertical-align: top;\n",
       "    }\n",
       "\n",
       "    .dataframe thead th {\n",
       "        text-align: right;\n",
       "    }\n",
       "</style>\n",
       "<table border=\"1\" class=\"dataframe\">\n",
       "  <thead>\n",
       "    <tr style=\"text-align: right;\">\n",
       "      <th></th>\n",
       "      <th>cluster_id</th>\n",
       "      <th>isT2</th>\n",
       "      <th>cluster_size</th>\n",
       "    </tr>\n",
       "  </thead>\n",
       "  <tbody>\n",
       "    <tr>\n",
       "      <th>0</th>\n",
       "      <td>0</td>\n",
       "      <td>101</td>\n",
       "      <td>272</td>\n",
       "    </tr>\n",
       "    <tr>\n",
       "      <th>1</th>\n",
       "      <td>-1</td>\n",
       "      <td>10</td>\n",
       "      <td>393</td>\n",
       "    </tr>\n",
       "    <tr>\n",
       "      <th>2</th>\n",
       "      <td>1</td>\n",
       "      <td>65</td>\n",
       "      <td>259</td>\n",
       "    </tr>\n",
       "    <tr>\n",
       "      <th>3</th>\n",
       "      <td>2</td>\n",
       "      <td>0</td>\n",
       "      <td>76</td>\n",
       "    </tr>\n",
       "    <tr>\n",
       "      <th>4</th>\n",
       "      <td>3</td>\n",
       "      <td>0</td>\n",
       "      <td>38</td>\n",
       "    </tr>\n",
       "    <tr>\n",
       "      <th>5</th>\n",
       "      <td>4</td>\n",
       "      <td>0</td>\n",
       "      <td>129</td>\n",
       "    </tr>\n",
       "    <tr>\n",
       "      <th>6</th>\n",
       "      <td>5</td>\n",
       "      <td>0</td>\n",
       "      <td>354</td>\n",
       "    </tr>\n",
       "    <tr>\n",
       "      <th>7</th>\n",
       "      <td>6</td>\n",
       "      <td>6</td>\n",
       "      <td>125</td>\n",
       "    </tr>\n",
       "    <tr>\n",
       "      <th>8</th>\n",
       "      <td>7</td>\n",
       "      <td>3</td>\n",
       "      <td>12</td>\n",
       "    </tr>\n",
       "    <tr>\n",
       "      <th>9</th>\n",
       "      <td>8</td>\n",
       "      <td>0</td>\n",
       "      <td>961</td>\n",
       "    </tr>\n",
       "    <tr>\n",
       "      <th>10</th>\n",
       "      <td>9</td>\n",
       "      <td>0</td>\n",
       "      <td>11</td>\n",
       "    </tr>\n",
       "    <tr>\n",
       "      <th>11</th>\n",
       "      <td>10</td>\n",
       "      <td>0</td>\n",
       "      <td>820</td>\n",
       "    </tr>\n",
       "    <tr>\n",
       "      <th>12</th>\n",
       "      <td>11</td>\n",
       "      <td>0</td>\n",
       "      <td>32</td>\n",
       "    </tr>\n",
       "  </tbody>\n",
       "</table>\n",
       "</div>"
      ],
      "text/plain": [
       "   cluster_id isT2 cluster_size\n",
       "0           0  101          272\n",
       "1          -1   10          393\n",
       "2           1   65          259\n",
       "3           2    0           76\n",
       "4           3    0           38\n",
       "5           4    0          129\n",
       "6           5    0          354\n",
       "7           6    6          125\n",
       "8           7    3           12\n",
       "9           8    0          961\n",
       "10          9    0           11\n",
       "11         10    0          820\n",
       "12         11    0           32"
      ]
     },
     "execution_count": 41,
     "metadata": {},
     "output_type": "execute_result"
    }
   ],
   "source": [
    "applyDBScan(df_plot.columns,0.25,10)"
   ]
  },
  {
   "cell_type": "markdown",
   "id": "45d3faf7",
   "metadata": {},
   "source": [
    "#### 4.1.2 Manual Columns"
   ]
  },
  {
   "cell_type": "code",
   "execution_count": 42,
   "id": "665d32e5",
   "metadata": {},
   "outputs": [
    {
     "data": {
      "text/html": [
       "<div>\n",
       "<style scoped>\n",
       "    .dataframe tbody tr th:only-of-type {\n",
       "        vertical-align: middle;\n",
       "    }\n",
       "\n",
       "    .dataframe tbody tr th {\n",
       "        vertical-align: top;\n",
       "    }\n",
       "\n",
       "    .dataframe thead th {\n",
       "        text-align: right;\n",
       "    }\n",
       "</style>\n",
       "<table border=\"1\" class=\"dataframe\">\n",
       "  <thead>\n",
       "    <tr style=\"text-align: right;\">\n",
       "      <th></th>\n",
       "      <th>cluster_id</th>\n",
       "      <th>isT2</th>\n",
       "      <th>cluster_size</th>\n",
       "    </tr>\n",
       "  </thead>\n",
       "  <tbody>\n",
       "    <tr>\n",
       "      <th>0</th>\n",
       "      <td>0</td>\n",
       "      <td>175</td>\n",
       "      <td>1730</td>\n",
       "    </tr>\n",
       "    <tr>\n",
       "      <th>1</th>\n",
       "      <td>-1</td>\n",
       "      <td>1</td>\n",
       "      <td>256</td>\n",
       "    </tr>\n",
       "    <tr>\n",
       "      <th>2</th>\n",
       "      <td>1</td>\n",
       "      <td>0</td>\n",
       "      <td>1469</td>\n",
       "    </tr>\n",
       "    <tr>\n",
       "      <th>3</th>\n",
       "      <td>2</td>\n",
       "      <td>9</td>\n",
       "      <td>27</td>\n",
       "    </tr>\n",
       "  </tbody>\n",
       "</table>\n",
       "</div>"
      ],
      "text/plain": [
       "  cluster_id isT2 cluster_size\n",
       "0          0  175         1730\n",
       "1         -1    1          256\n",
       "2          1    0         1469\n",
       "3          2    9           27"
      ]
     },
     "execution_count": 42,
     "metadata": {},
     "output_type": "execute_result"
    }
   ],
   "source": [
    "applyDBScan(manual_cols,0.25,10)"
   ]
  }
 ],
 "metadata": {
  "kernelspec": {
   "display_name": "Python 3 (ipykernel)",
   "language": "python",
   "name": "python3"
  },
  "language_info": {
   "codemirror_mode": {
    "name": "ipython",
    "version": 3
   },
   "file_extension": ".py",
   "mimetype": "text/x-python",
   "name": "python",
   "nbconvert_exporter": "python",
   "pygments_lexer": "ipython3",
   "version": "3.8.10"
  }
 },
 "nbformat": 4,
 "nbformat_minor": 5
}
