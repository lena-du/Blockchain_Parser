{
 "cells": [
  {
   "cell_type": "markdown",
   "metadata": {},
   "source": [
    "# Vendor Address Clustering\n",
    "Input: 38 addresses of vendors active on both Cryptonia and Berlusconi.  \n",
    "Output: Their wallets (filtered for too big wallets)."
   ]
  },
  {
   "cell_type": "code",
   "execution_count": 64,
   "metadata": {},
   "outputs": [],
   "source": [
    "#import needed libraries\n",
    "import tqdm\n",
    "import pickle\n",
    "import pandas as pd\n",
    "import mysql.connector\n",
    "from decimal import Decimal\n",
    "from neo4j import GraphDatabase\n",
    "from datetime import timedelta\n",
    "import datetime\n",
    "from matplotlib import pyplot as plt\n",
    "import numpy as np"
   ]
  },
  {
   "cell_type": "code",
   "execution_count": 2,
   "metadata": {},
   "outputs": [],
   "source": [
    "# load username and password\n",
    "df_pw = pd.read_csv(\"pw.csv\", delimiter=\",\")\n",
    "# connect to neo4j database\n",
    "db = GraphDatabase.driver(\"neo4j://127.0.0.1:7687\", auth=(df_pw[\"name\"][0], df_pw[\"password\"][0]))\n",
    "session = db.session()\n",
    "# connect to sql database\n",
    "con = mysql.connector.connect(\n",
    "    host=\"localhost\",\n",
    "    user=df_pw[\"name\"][0], \n",
    "    passwd=df_pw[\"password\"][0],\n",
    "    database=\"DarknetScrape\",\n",
    ")\n",
    "cursor = con.cursor()"
   ]
  },
  {
   "cell_type": "code",
   "execution_count": 3,
   "metadata": {},
   "outputs": [
    {
     "data": {
      "text/html": [
       "<div>\n",
       "<style scoped>\n",
       "    .dataframe tbody tr th:only-of-type {\n",
       "        vertical-align: middle;\n",
       "    }\n",
       "\n",
       "    .dataframe tbody tr th {\n",
       "        vertical-align: top;\n",
       "    }\n",
       "\n",
       "    .dataframe thead th {\n",
       "        text-align: right;\n",
       "    }\n",
       "</style>\n",
       "<table border=\"1\" class=\"dataframe\">\n",
       "  <thead>\n",
       "    <tr style=\"text-align: right;\">\n",
       "      <th></th>\n",
       "      <th>vendor_id</th>\n",
       "      <th>username</th>\n",
       "    </tr>\n",
       "  </thead>\n",
       "  <tbody>\n",
       "    <tr>\n",
       "      <th>0</th>\n",
       "      <td>06fb02d14c74a85e9d140a913a39b295</td>\n",
       "      <td>fungee</td>\n",
       "    </tr>\n",
       "    <tr>\n",
       "      <th>1</th>\n",
       "      <td>0950a1f76562be214846bb0d90aaba5f</td>\n",
       "      <td>WackyWestWeed</td>\n",
       "    </tr>\n",
       "    <tr>\n",
       "      <th>2</th>\n",
       "      <td>130256b643f1fd56dcc29d20ca39b48e</td>\n",
       "      <td>projeccao</td>\n",
       "    </tr>\n",
       "  </tbody>\n",
       "</table>\n",
       "</div>"
      ],
      "text/plain": [
       "                          vendor_id       username\n",
       "0  06fb02d14c74a85e9d140a913a39b295         fungee\n",
       "1  0950a1f76562be214846bb0d90aaba5f  WackyWestWeed\n",
       "2  130256b643f1fd56dcc29d20ca39b48e      projeccao"
      ]
     },
     "execution_count": 3,
     "metadata": {},
     "output_type": "execute_result"
    }
   ],
   "source": [
    "# get vendors active on cryptonia and berlusconi market\n",
    "cursor.execute(\"\"\"select a.vendor_id, b.username from (\n",
    "SELECT vendor_id, count(*) as count\n",
    "from vendors\n",
    "group by vendor_id\n",
    ") as a\n",
    "JOIN (SELECT vendor_id, username from vendors where market = 'Cryptonia') b\n",
    "on a.vendor_id = b.vendor_id\n",
    "where a.count = 2;\n",
    "\"\"\")\n",
    "results = cursor.fetchall()\n",
    "df=pd.DataFrame(results, columns=['vendor_id', 'username'])\n",
    "df.head(3)"
   ]
  },
  {
   "cell_type": "code",
   "execution_count": 4,
   "metadata": {},
   "outputs": [
    {
     "data": {
      "text/html": [
       "<div>\n",
       "<style scoped>\n",
       "    .dataframe tbody tr th:only-of-type {\n",
       "        vertical-align: middle;\n",
       "    }\n",
       "\n",
       "    .dataframe tbody tr th {\n",
       "        vertical-align: top;\n",
       "    }\n",
       "\n",
       "    .dataframe thead th {\n",
       "        text-align: right;\n",
       "    }\n",
       "</style>\n",
       "<table border=\"1\" class=\"dataframe\">\n",
       "  <thead>\n",
       "    <tr style=\"text-align: right;\">\n",
       "      <th></th>\n",
       "      <th>Vendor</th>\n",
       "      <th>Address</th>\n",
       "    </tr>\n",
       "  </thead>\n",
       "  <tbody>\n",
       "    <tr>\n",
       "      <th>0</th>\n",
       "      <td>CNSHarmony</td>\n",
       "      <td>34Xo7fKRe9MjYBf3tyJjAFg9qX2kuFuhA1</td>\n",
       "    </tr>\n",
       "    <tr>\n",
       "      <th>1</th>\n",
       "      <td>TheHoneymonster</td>\n",
       "      <td>1Ew7BnRn3Q3xkpKMpgc7r5YFrkQXpwXMz7</td>\n",
       "    </tr>\n",
       "    <tr>\n",
       "      <th>2</th>\n",
       "      <td>EUCarder</td>\n",
       "      <td>1Nou6Q9qmxbi48m6eSeYy7KHvSSiWFMq5y</td>\n",
       "    </tr>\n",
       "  </tbody>\n",
       "</table>\n",
       "</div>"
      ],
      "text/plain": [
       "            Vendor                             Address\n",
       "0       CNSHarmony  34Xo7fKRe9MjYBf3tyJjAFg9qX2kuFuhA1\n",
       "1  TheHoneymonster  1Ew7BnRn3Q3xkpKMpgc7r5YFrkQXpwXMz7\n",
       "2         EUCarder  1Nou6Q9qmxbi48m6eSeYy7KHvSSiWFMq5y"
      ]
     },
     "execution_count": 4,
     "metadata": {},
     "output_type": "execute_result"
    }
   ],
   "source": [
    "# load addresses of vendors active on cryptonia\n",
    "j_addresses=pd.read_csv('candidates_final.csv')\n",
    "j_addresses=j_addresses.drop(columns=['Unnamed: 0'])\n",
    "j_addresses.head(3)"
   ]
  },
  {
   "cell_type": "code",
   "execution_count": 5,
   "metadata": {},
   "outputs": [
    {
     "data": {
      "text/html": [
       "<div>\n",
       "<style scoped>\n",
       "    .dataframe tbody tr th:only-of-type {\n",
       "        vertical-align: middle;\n",
       "    }\n",
       "\n",
       "    .dataframe tbody tr th {\n",
       "        vertical-align: top;\n",
       "    }\n",
       "\n",
       "    .dataframe thead th {\n",
       "        text-align: right;\n",
       "    }\n",
       "</style>\n",
       "<table border=\"1\" class=\"dataframe\">\n",
       "  <thead>\n",
       "    <tr style=\"text-align: right;\">\n",
       "      <th></th>\n",
       "      <th>Vendor</th>\n",
       "      <th>Address</th>\n",
       "      <th>vendor_id</th>\n",
       "    </tr>\n",
       "  </thead>\n",
       "  <tbody>\n",
       "    <tr>\n",
       "      <th>0</th>\n",
       "      <td>GreenSupreme</td>\n",
       "      <td>bc1qcuxc8fl7eqm8a48sv3n6vgqhc0mtzsswdy4h66</td>\n",
       "      <td>135137a5e88e1fa749c1374f51048773</td>\n",
       "    </tr>\n",
       "    <tr>\n",
       "      <th>1</th>\n",
       "      <td>SocialPharma</td>\n",
       "      <td>3DdUb8Tt59tvZacikVt6R9pYWYqzGqgxff</td>\n",
       "      <td>1db74355bd33521d281b3e15cc6dbe21</td>\n",
       "    </tr>\n",
       "    <tr>\n",
       "      <th>2</th>\n",
       "      <td>americansteroids</td>\n",
       "      <td>1PWVgJ96YtELbfqEW625JPG16NXsFYU315</td>\n",
       "      <td>26bda6b380be1d4321145f15599f2508</td>\n",
       "    </tr>\n",
       "  </tbody>\n",
       "</table>\n",
       "</div>"
      ],
      "text/plain": [
       "             Vendor                                     Address  \\\n",
       "0      GreenSupreme  bc1qcuxc8fl7eqm8a48sv3n6vgqhc0mtzsswdy4h66   \n",
       "1      SocialPharma          3DdUb8Tt59tvZacikVt6R9pYWYqzGqgxff   \n",
       "2  americansteroids          1PWVgJ96YtELbfqEW625JPG16NXsFYU315   \n",
       "\n",
       "                          vendor_id  \n",
       "0  135137a5e88e1fa749c1374f51048773  \n",
       "1  1db74355bd33521d281b3e15cc6dbe21  \n",
       "2  26bda6b380be1d4321145f15599f2508  "
      ]
     },
     "execution_count": 5,
     "metadata": {},
     "output_type": "execute_result"
    }
   ],
   "source": [
    "# filter for vendors that are active on both markets, not just cryptonia\n",
    "df=df[df['username'].isin(j_addresses['Vendor'])]\n",
    "j_addresses = j_addresses[j_addresses[\"Vendor\"].isin(df[\"username\"])]\n",
    "# add vendor id column to crpytonia vendors\n",
    "j_addresses_id = pd.merge(j_addresses,df,left_on='Vendor',right_on='username')\n",
    "j_addresses_id=j_addresses_id[[\"Vendor\",\"Address\",\"vendor_id\"]]\n",
    "j_addresses_id.head(3)"
   ]
  },
  {
   "cell_type": "code",
   "execution_count": 6,
   "metadata": {},
   "outputs": [
    {
     "name": "stdout",
     "output_type": "stream",
     "text": [
      "GreenSupreme  finish:  2021-08-12 10:04:39.914786\n",
      "SocialPharma  finish:  2021-08-12 10:04:39.937316\n",
      "Break for:  SocialPharma\n",
      "americansteroids  finish:  2021-08-12 10:04:39.994047\n",
      "g3cko  finish:  2021-08-12 10:04:40.314060\n",
      "DrParagon  finish:  2021-08-12 10:04:41.573451\n",
      "somecvvvendor  finish:  2021-08-12 10:04:42.366737\n",
      "probitexchange  finish:  2021-08-12 10:04:45.598128\n",
      "SafeStash  finish:  2021-08-12 10:04:46.337569\n",
      "cannadepot  finish:  2021-08-12 10:04:46.498241\n",
      "Break for:  cannadepot\n",
      "LySanDerspooner  finish:  2021-08-12 10:04:46.760380\n",
      "vessel  finish:  2021-08-12 10:04:46.926693\n",
      "expresspharma  finish:  2021-08-12 10:04:47.026283\n",
      "DrogenTeamDE  finish:  2021-08-12 10:04:48.455976\n",
      "MrAddyDeals  finish:  2021-08-12 10:04:48.471575\n",
      "canadianpharmacy  finish:  2021-08-12 10:04:48.544170\n",
      "Break for:  canadianpharmacy\n",
      "SteroidWarehouse  finish:  2021-08-12 10:04:48.596296\n",
      "Drugbox24  finish:  2021-08-12 10:04:48.618558\n",
      "Inquireequuleus  finish:  2021-08-12 10:04:48.634023\n",
      "Break for:  Inquireequuleus\n",
      "Discover  finish:  2021-08-12 10:04:48.821794\n",
      "picsou  finish:  2021-08-12 10:04:48.859764\n",
      "JustRelax  finish:  2021-08-12 10:04:48.874203\n",
      "DSLabs  finish:  2021-08-12 10:04:50.023576\n",
      "TheGrassCompany  finish:  2021-08-12 10:04:50.037840\n",
      "mamba  finish:  2021-08-12 10:04:50.761534\n",
      "TheWizard  finish:  2021-08-12 10:04:51.850348\n",
      "Drpillss  finish:  2021-08-12 10:04:54.225140\n",
      "Righteous  finish:  2021-08-12 10:04:54.239642\n",
      "martell  finish:  2021-08-12 10:04:54.450983\n",
      "wochris  finish:  2021-08-12 10:04:54.469552\n",
      "Break for:  wochris\n",
      "royalqueenweed  finish:  2021-08-12 10:04:54.534757\n",
      "AlphaCVV  finish:  2021-08-12 10:04:55.351413\n",
      "Break for:  AlphaCVV\n",
      "AshWilliams  finish:  2021-08-12 10:04:55.461607\n",
      "Medicineman1  finish:  2021-08-12 10:04:55.882833\n",
      "Break for:  Medicineman1\n",
      "Budness  finish:  2021-08-12 10:04:55.936563\n",
      "FrostyNuggs  finish:  2021-08-12 10:04:57.148416\n",
      "TripWithScience  finish:  2021-08-12 10:04:57.189114\n",
      "Break for:  TripWithScience\n",
      "HashAndWeed  finish:  2021-08-12 10:04:58.094162\n",
      "THETHCDOCTOR  finish:  2021-08-12 10:04:58.110570\n",
      "careersclap  finish:  2021-08-12 10:04:58.127552\n"
     ]
    },
    {
     "data": {
      "text/html": [
       "<div>\n",
       "<style scoped>\n",
       "    .dataframe tbody tr th:only-of-type {\n",
       "        vertical-align: middle;\n",
       "    }\n",
       "\n",
       "    .dataframe tbody tr th {\n",
       "        vertical-align: top;\n",
       "    }\n",
       "\n",
       "    .dataframe thead th {\n",
       "        text-align: right;\n",
       "    }\n",
       "</style>\n",
       "<table border=\"1\" class=\"dataframe\">\n",
       "  <thead>\n",
       "    <tr style=\"text-align: right;\">\n",
       "      <th></th>\n",
       "      <th>Vendor</th>\n",
       "      <th>Address</th>\n",
       "      <th>vendor_id</th>\n",
       "    </tr>\n",
       "  </thead>\n",
       "  <tbody>\n",
       "    <tr>\n",
       "      <th>0</th>\n",
       "      <td>GreenSupreme</td>\n",
       "      <td>bc1qcuxc8fl7eqm8a48sv3n6vgqhc0mtzsswdy4h66</td>\n",
       "      <td>135137a5e88e1fa749c1374f51048773</td>\n",
       "    </tr>\n",
       "    <tr>\n",
       "      <th>1</th>\n",
       "      <td>SocialPharma</td>\n",
       "      <td>3DdUb8Tt59tvZacikVt6R9pYWYqzGqgxff</td>\n",
       "      <td>1db74355bd33521d281b3e15cc6dbe21</td>\n",
       "    </tr>\n",
       "    <tr>\n",
       "      <th>2</th>\n",
       "      <td>SocialPharma</td>\n",
       "      <td>3BXFBrsmqugHGCjEFsKYubWEDkMneY1ifB</td>\n",
       "      <td>1db74355bd33521d281b3e15cc6dbe21</td>\n",
       "    </tr>\n",
       "    <tr>\n",
       "      <th>3</th>\n",
       "      <td>SocialPharma</td>\n",
       "      <td>396MViJh4GgZJRQTX3Yp3A3qhQnE6QSLQK</td>\n",
       "      <td>1db74355bd33521d281b3e15cc6dbe21</td>\n",
       "    </tr>\n",
       "    <tr>\n",
       "      <th>4</th>\n",
       "      <td>SocialPharma</td>\n",
       "      <td>39y3xeZKQAHN9UpZXPfUACS5DYhBfzHnSd</td>\n",
       "      <td>1db74355bd33521d281b3e15cc6dbe21</td>\n",
       "    </tr>\n",
       "  </tbody>\n",
       "</table>\n",
       "</div>"
      ],
      "text/plain": [
       "         Vendor                                     Address  \\\n",
       "0  GreenSupreme  bc1qcuxc8fl7eqm8a48sv3n6vgqhc0mtzsswdy4h66   \n",
       "1  SocialPharma          3DdUb8Tt59tvZacikVt6R9pYWYqzGqgxff   \n",
       "2  SocialPharma          3BXFBrsmqugHGCjEFsKYubWEDkMneY1ifB   \n",
       "3  SocialPharma          396MViJh4GgZJRQTX3Yp3A3qhQnE6QSLQK   \n",
       "4  SocialPharma          39y3xeZKQAHN9UpZXPfUACS5DYhBfzHnSd   \n",
       "\n",
       "                          vendor_id  \n",
       "0  135137a5e88e1fa749c1374f51048773  \n",
       "1  1db74355bd33521d281b3e15cc6dbe21  \n",
       "2  1db74355bd33521d281b3e15cc6dbe21  \n",
       "3  1db74355bd33521d281b3e15cc6dbe21  \n",
       "4  1db74355bd33521d281b3e15cc6dbe21  "
      ]
     },
     "metadata": {},
     "output_type": "display_data"
    }
   ],
   "source": [
    "# execute vendor address clustering to get vendor wallets\n",
    "vendor_wallets = pd.DataFrame()\n",
    "for i in j_addresses_id.itertuples():\n",
    "    # initialize wallet & reverse wallet with known address\n",
    "    wallet = pd.DataFrame(data = [[i.Vendor,i.Address,i.vendor_id]], columns=[\"Vendor\",\"Address\",\"vendor_id\"])\n",
    "    reverse_wallet = wallet\n",
    "    print(i.Vendor, \" finish: \", datetime.datetime.now())\n",
    "\n",
    "    while len(reverse_wallet) > 0:\n",
    "        address = reverse_wallet[\"Address\"][0]\n",
    "        neo_query = session.run(\"\"\"\n",
    "                MATCH (vendor:Address)\n",
    "                    WHERE vendor.address = '\"\"\" + address + \"\"\"'\n",
    "                WITH vendor\n",
    "                MATCH (vendor)-[r:SENDS]->(t:Transaction)\n",
    "                WITH t\n",
    "                MATCH (vendor2:Address)-[s:SENDS]->(t)\n",
    "\n",
    "                RETURN DISTINCT vendor2.address LIMIT 200\n",
    "                \"\"\")\n",
    "        wallet_temp = set()\n",
    "        for r in neo_query:\n",
    "            wallet_temp.add(r[0])\n",
    "        \n",
    "        if len(wallet_temp) > 0:\n",
    "            df_neo4j = pd.DataFrame(wallet_temp)\n",
    "            df_neo4j[\"Vendor\"] = i.Vendor\n",
    "            df_neo4j[\"Address\"] = df_neo4j[0]\n",
    "            df_neo4j[\"vendor_id\"] = i.vendor_id\n",
    "            df_neo4j = df_neo4j[[\"Vendor\",\"Address\",\"vendor_id\"]]\n",
    "            \n",
    "            # add all newly found addresses to wallet & erverse wallet\n",
    "            reverse_wallet = pd.concat([reverse_wallet,df_neo4j[~df_neo4j[\"Address\"].isin(wallet[\"Address\"])]]).reset_index(drop=True)\n",
    "            wallet = pd.concat([wallet,df_neo4j[~df_neo4j[\"Address\"].isin(wallet[\"Address\"])]]).reset_index(drop=True)\n",
    "            \n",
    "        # delete address we just used from the reverse wallet so we won't search for it more than once\n",
    "        reverse_wallet = reverse_wallet.iloc[1:].reset_index(drop=True)\n",
    "        # check whether the wallet has exceeded the accepted maximum size of 200\n",
    "        if(len(wallet) > 200):\n",
    "            print(\"Break for: \", i.Vendor)\n",
    "            break\n",
    "    # add the new wallet to the full dataframe of all wallets\n",
    "    vendor_wallets = pd.concat([vendor_wallets,wallet]).reset_index(drop=True)\n",
    "       \n",
    "display(vendor_wallets.head())"
   ]
  },
  {
   "cell_type": "code",
   "execution_count": 7,
   "metadata": {},
   "outputs": [],
   "source": [
    "# remove wallets with too many (>200) addresses\n",
    "wallets_grouped=vendor_wallets.groupby(by='Vendor').count()\n",
    "wallets_grouped=wallets_grouped[wallets_grouped['Address'].isin(range(1,200))]\n",
    "wallets_grouped=wallets_grouped.reset_index()"
   ]
  },
  {
   "cell_type": "code",
   "execution_count": 8,
   "metadata": {},
   "outputs": [
    {
     "name": "stdout",
     "output_type": "stream",
     "text": [
      "Total #addresses in all wallets:  897\n",
      "Unique vendors with wallets:  31\n"
     ]
    }
   ],
   "source": [
    "# store results as csv\n",
    "vendor_wal_filtered=vendor_wallets[vendor_wallets['Vendor'].isin(wallets_grouped['Vendor'])]\n",
    "print(\"Total #addresses in all wallets: \",len(vendor_wal_filtered))\n",
    "print(\"Unique vendors with wallets: \", len(vendor_wal_filtered[\"Vendor\"].unique()))\n",
    "vendor_wal_filtered.to_csv('vendor_wallets_filtered2.csv')"
   ]
  },
  {
   "cell_type": "code",
   "execution_count": 9,
   "metadata": {},
   "outputs": [
    {
     "name": "stdout",
     "output_type": "stream",
     "text": [
      " Min #Addresses per Wallet:  1 \n",
      " Max #Addresses per Wallet:  177 \n",
      " Avg #Addresses per Wallet:  28.93548387096774\n"
     ]
    }
   ],
   "source": [
    "print(\" Min #Addresses per Wallet: \", vendor_wal_filtered.groupby(\"Vendor\").count()['Address'].min(), \"\\n\",\n",
    "     \"Max #Addresses per Wallet: \", vendor_wal_filtered.groupby(\"Vendor\").count()['Address'].max(), \"\\n\",\n",
    "     \"Avg #Addresses per Wallet: \", vendor_wal_filtered.groupby(\"Vendor\").count()['Address'].mean())"
   ]
  },
  {
   "cell_type": "code",
   "execution_count": 63,
   "metadata": {},
   "outputs": [
    {
     "data": {
      "text/plain": [
       "[]"
      ]
     },
     "execution_count": 63,
     "metadata": {},
     "output_type": "execute_result"
    },
    {
     "data": {
      "image/png": "[encoded data removed]",
      "text/plain": [
       "<Figure size 720x360 with 1 Axes>"
      ]
     },
     "metadata": {
      "needs_background": "light"
     },
     "output_type": "display_data"
    }
   ],
   "source": [
    "plt.subplots(figsize=(10, 5))\n",
    "ax = wallets_grouped.rename(columns={\"Address\":\"#Addresses in Wallet\"})[\"#Addresses in Wallet\"].hist(width = 10,align='mid')\n",
    "for p in ax.patches:\n",
    "    ax.annotate(str(p.get_height()), (p.get_x() * 1.005, p.get_height() * 1.005))\n",
    "plt.xticks(np.arange(0, 200,10))\n",
    "# plt.title(\"Histogram of Distribution of Vendor Wallet Sizes\")\n",
    "ax.grid(False)\n",
    "plt.rcParams.update({'font.size': 8})\n",
    "plt.plot()"
   ]
  }
 ],
 "metadata": {
  "kernelspec": {
   "display_name": "Python 3 (ipykernel)",
   "language": "python",
   "name": "python3"
  },
  "language_info": {
   "codemirror_mode": {
    "name": "ipython",
    "version": 3
   },
   "file_extension": ".py",
   "mimetype": "text/x-python",
   "name": "python",
   "nbconvert_exporter": "python",
   "pygments_lexer": "ipython3",
   "version": "3.8.10"
  }
 },
 "nbformat": 4,
 "nbformat_minor": 4
}
