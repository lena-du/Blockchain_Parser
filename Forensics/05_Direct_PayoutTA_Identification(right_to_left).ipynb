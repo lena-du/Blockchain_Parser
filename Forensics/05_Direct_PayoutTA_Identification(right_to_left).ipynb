{
 "cells": [
  {
   "cell_type": "code",
   "execution_count": 12,
   "id": "712b4fb3",
   "metadata": {},
   "outputs": [],
   "source": [
    "#import needed libraries\n",
    "import tqdm\n",
    "import pickle\n",
    "import pandas as pd\n",
    "import datetime\n",
    "from decimal import Decimal\n",
    "from neo4j import GraphDatabase\n",
    "from datetime import timedelta"
   ]
  },
  {
   "cell_type": "code",
   "execution_count": 13,
   "id": "37a6002b",
   "metadata": {},
   "outputs": [],
   "source": [
    "# connect to neo4j\n",
    "df_pw = pd.read_csv(\"pw.csv\", delimiter=\",\")\n",
    "db = GraphDatabase.driver(\"neo4j://127.0.0.1:7687\", auth=(df_pw[\"name\"][0], df_pw[\"password\"][0]))\n",
    "session = db.session()"
   ]
  },
  {
   "cell_type": "code",
   "execution_count": 4,
   "id": "709c4b11",
   "metadata": {},
   "outputs": [],
   "source": [
    "# get reviews\n",
    "berlusconi_reviews  = pd.read_csv('reviews_price_btc.csv')\n",
    "berlusconi_reviews.time = pd.to_datetime(berlusconi_reviews.time)"
   ]
  },
  {
   "cell_type": "code",
   "execution_count": 6,
   "id": "ab9146ee",
   "metadata": {},
   "outputs": [],
   "source": [
    "#Used for manual analysis\n",
    "# reviews_of_identified_payoutTAs = berlusconi_reviews [berlusconi_reviews [\"vendor_review_id\"]==107526]\n",
    "# reviews_of_identified_payoutTAs = reviews_of_identified_payoutTAs.append(berlusconi_reviews [berlusconi_reviews [\"vendor_review_id\"]==106746])\n",
    "# reviews_of_identified_payoutTAs = reviews_of_identified_payoutTAs.append(berlusconi_reviews [berlusconi_reviews [\"vendor_review_id\"]==106732])\n",
    "# reviews_of_identified_payoutTAs = reviews_of_identified_payoutTAs.append(berlusconi_reviews [berlusconi_reviews [\"vendor_review_id\"]==106762])\n",
    "# reviews_of_identified_payoutTAs = reviews_of_identified_payoutTAs.append(berlusconi_reviews [berlusconi_reviews [\"vendor_review_id\"]==106687])\n",
    "\n",
    "# display(reviews_of_identified_payoutTAs)"
   ]
  },
  {
   "cell_type": "code",
   "execution_count": null,
   "id": "42496bc2",
   "metadata": {},
   "outputs": [
    {
     "name": "stderr",
     "output_type": "stream",
     "text": [
      "/tmp/ipykernel_441537/3407464277.py:72: DeprecationWarning: The default dtype for empty Series will be 'object' instead of 'float64' in a future version. Specify a dtype explicitly to silence this warning.\n",
      "  df_neo4j[\"rvalue\"] = pd.Series(neo_results2)\n",
      "/tmp/ipykernel_441537/3407464277.py:73: DeprecationWarning: The default dtype for empty Series will be 'object' instead of 'float64' in a future version. Specify a dtype explicitly to silence this warning.\n",
      "  df_neo4j[\"vendor_address\"] = pd.Series(neo_results3)\n"
     ]
    }
   ],
   "source": [
    "# get all transactions matching the berlusconi pattern and a review\n",
    "transaction_t2 = pd.DataFrame()\n",
    "berlusconi_reviews2 = berlusconi_reviews \n",
    "for i in berlusconi_reviews .itertuples():\n",
    "    neo_results = []\n",
    "    neo_results2 = []\n",
    "    neo_results3 = []\n",
    "\n",
    "    # time frame in which payout transaction may have occured (start <= payout.date <= end)\n",
    "    # most identified payout TAs occur 2 days after the review. \n",
    "    # To reduce number of matches setting \"start = end = reviewdate + 2 days\" might be a good idea\n",
    "    start = str(i.time.date())\n",
    "    end = str(i.time.date() + timedelta(days=2))\n",
    "    # range of possible inSum values of the payout TA (could also implement the same for outSum, if required)\n",
    "    minSum = str(round(i.price_btc_reviews_satoshi,0))\n",
    "    maxSum = str(round(i.price_btc_reviews_satoshi*2.0,0))\n",
    "    \n",
    "\n",
    "    #neo_query with all possible parameters. Remove whatever you don't want to use\n",
    "    neo_query = session.run(\"\"\"\n",
    "    WITH\n",
    "    '\"\"\" + start + \"\"\"' as startDate,\n",
    "    '\"\"\" + end + \"\"\"' as endDate,\n",
    "    \"\"\"+ minSum + \"\"\" as minSum, \n",
    "    \"\"\" + maxSum + \"\"\" as maxSum \n",
    "    MATCH (t:Transaction)<-[:SENDS]-(a:Address)\n",
    "    WHERE date(startDate) <= t.date <= date(endDate)\n",
    "        and t.outDegree = 2\n",
    "        and minSum <= t.inSum < maxSum\n",
    "        and (a.address STARTS WITH \"3\" OR a.address STARTS WITH \"bc1\")\n",
    "    WITH t, minSum\n",
    "    MATCH (e0:Address)-[s0:SENDS]->(t0:Transaction)-[r0:RECEIVES]->(e1:Address)-[s1:SENDS]->(t)\n",
    "    WHERE e1.address STARTS WITH \"3\"\n",
    "    AND t0.outDegree=2\n",
    "    AND (e0.address STARTS WITH \"3\" OR e0.address STARTS WITH \"bc1\")\n",
    "    AND 900000<s0.value< 1100000\n",
    "    AND 900000<r0.value< 1100000\n",
    "    AND 900000<s1.value< 1100000\n",
    "    AND r0.value=s1.value\n",
    "    WITH t, minSum\n",
    "    MATCH (t)-[r:RECEIVES]->(change:Address)-[s:SENDS]->(t3:Transaction)-[r3:RECEIVES]->()\n",
    "    WHERE (change.address STARTS WITH \"3\" OR change.address STARTS WITH \"bc1\")\n",
    "        AND change.inDegree = 1\n",
    "        AND r.value = s.value\n",
    "        AND 900000<s.value< 1100000\n",
    "        AND t3.outDegree=2\n",
    "    WITH t, minSum, change\n",
    "    MATCH (t)-[r:RECEIVES]->(vendor:Address)\n",
    "    WHERE minSum <= r.value < minSum * 1.05 \n",
    "    AND vendor <> change\n",
    "    RETURN DISTINCT t, r.value, vendor.address\n",
    "    \"\"\")\n",
    "    \n",
    "    for r in neo_query:\n",
    "        neo_results.append(r[0])\n",
    "        neo_results2.append(r[1])\n",
    "        neo_results3.append(r[2])\n",
    "\n",
    "    \n",
    "    df_neo4j = pd.DataFrame(neo_results)\n",
    "    df_neo4j[\"vendor\"] = i.vendor_id\n",
    "    df_neo4j[\"review\"] = i.vendor_review_id\n",
    "    df_neo4j[\"rvalue\"] = pd.Series(neo_results2)\n",
    "    df_neo4j[\"vendor_address\"] = pd.Series(neo_results3)\n",
    "    transaction_t2 = pd.concat([transaction_t2,df_neo4j])\n",
    "    \n",
    "display(transaction_t2)\n",
    "transaction_t2.to_csv('transaction_t2.csv')"
   ]
  },
  {
   "cell_type": "code",
   "execution_count": 17,
   "id": "07cf4f2c",
   "metadata": {},
   "outputs": [
    {
     "data": {
      "text/plain": [
       "1981870"
      ]
     },
     "execution_count": 17,
     "metadata": {},
     "output_type": "execute_result"
    }
   ],
   "source": [
    "# how many address-review matches are there now?\n",
    "len(transaction_t2)"
   ]
  },
  {
   "cell_type": "code",
   "execution_count": 32,
   "id": "78409221",
   "metadata": {},
   "outputs": [],
   "source": [
    "# exclude the transactions for which there exist a pay to public key sending address\n",
    "\n",
    "tx_list=list(transaction_t2['txid'])\n",
    "neo_results = []\n",
    "neo_results2 = []\n",
    "neo_query = session.run(\"\"\"MATCH (t:Transaction)<-[:SENDS]-(a:Address)\n",
    "    WHERE t.txid in \"\"\"+ str(tx_list) +\"\"\"\n",
    "    and a.address STARTS WITH \"1\"\n",
    "return t, a.address\"\"\")\n",
    "\n",
    "for r in neo_query:\n",
    "        neo_results.append(r[0])\n",
    "        neo_results2.append(r[1])\n",
    "df_neo4j = pd.DataFrame(neo_results)\n",
    "df_neo4j[\"address\"] = pd.Series(neo_results2)\n",
    "\n",
    "# dataframe with only correct transactions\n",
    "direct_result=transaction_t2[~transaction_t2['txid'].isin(df_neo4j['txid'])]\n",
    "direct_result.to_csv('direct_results.csv')"
   ]
  }
 ],
 "metadata": {
  "kernelspec": {
   "display_name": "Python 3 (ipykernel)",
   "language": "python",
   "name": "python3"
  },
  "language_info": {
   "codemirror_mode": {
    "name": "ipython",
    "version": 3
   },
   "file_extension": ".py",
   "mimetype": "text/x-python",
   "name": "python",
   "nbconvert_exporter": "python",
   "pygments_lexer": "ipython3",
   "version": "3.8.10"
  }
 },
 "nbformat": 4,
 "nbformat_minor": 5
}
