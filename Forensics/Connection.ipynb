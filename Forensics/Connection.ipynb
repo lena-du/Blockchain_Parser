{
 "cells": [
  {
   "cell_type": "code",
   "execution_count": 1,
   "metadata": {},
   "outputs": [],
   "source": [
    "import tqdm\n",
    "import pickle\n",
    "import pandas as pd\n",
    "from neo4j import GraphDatabase"
   ]
  },
  {
   "cell_type": "code",
   "execution_count": 3,
   "metadata": {},
   "outputs": [],
   "source": [
    "df_pw = pd.read_csv(\"pw.csv\", delimiter=\",\")"
   ]
  },
  {
   "cell_type": "code",
   "execution_count": 4,
   "metadata": {},
   "outputs": [],
   "source": [
    "db = GraphDatabase.driver(\"neo4j://127.0.0.1:7687\", auth=(df_pw[\"name\"][0], df_pw[\"password\"][0]))"
   ]
  },
  {
   "cell_type": "code",
   "execution_count": 5,
   "metadata": {},
   "outputs": [
    {
     "name": "stderr",
     "output_type": "stream",
     "text": [
      "c:\\users\\d067608\\appdata\\local\\programs\\python\\python37\\lib\\site-packages\\ipykernel_launcher.py:15: SADeprecationWarning: Calling URL() directly is deprecated and will be disabled in a future release.  The public constructor for URL is now the URL.create() method.\n",
      "  from ipykernel import kernelapp as app\n"
     ]
    }
   ],
   "source": [
    "from sqlalchemy import create_engine\n",
    "from sqlalchemy.engine.url import URL\n",
    "import pymysql\n",
    "\n",
    "db_url = {\n",
    "    'database': 'DarknetScrape',\n",
    "    'drivername': 'mysql',\n",
    "    'username': df_pw[\"name\"][0],\n",
    "    'password': df_pw[\"password\"][0],\n",
    "    'host': '127.0.0.1',\n",
    "    'port': 3306,\n",
    "    'query': {'charset': 'utf8'},\n",
    "}\n",
    "\n",
    "db_connection = create_engine(URL(**db_url), encoding=\"utf8\")"
   ]
  },
  {
   "cell_type": "code",
   "execution_count": 6,
   "metadata": {},
   "outputs": [
    {
     "data": {
      "text/html": [
       "<div>\n",
       "<style scoped>\n",
       "    .dataframe tbody tr th:only-of-type {\n",
       "        vertical-align: middle;\n",
       "    }\n",
       "\n",
       "    .dataframe tbody tr th {\n",
       "        vertical-align: top;\n",
       "    }\n",
       "\n",
       "    .dataframe thead th {\n",
       "        text-align: right;\n",
       "    }\n",
       "</style>\n",
       "<table border=\"1\" class=\"dataframe\">\n",
       "  <thead>\n",
       "    <tr style=\"text-align: right;\">\n",
       "      <th></th>\n",
       "      <th>price_eur_review</th>\n",
       "      <th>price_eur_items</th>\n",
       "      <th>price_btc</th>\n",
       "      <th>time</th>\n",
       "      <th>vendor_id</th>\n",
       "      <th>item_id</th>\n",
       "    </tr>\n",
       "  </thead>\n",
       "  <tbody>\n",
       "    <tr>\n",
       "      <th>0</th>\n",
       "      <td>208.82</td>\n",
       "      <td>130.0</td>\n",
       "      <td>0.015269</td>\n",
       "      <td>2019-07-07 18:40:42</td>\n",
       "      <td>b5f6b728cec773313da84887919cef33</td>\n",
       "      <td>04906d05a940</td>\n",
       "    </tr>\n",
       "    <tr>\n",
       "      <th>1</th>\n",
       "      <td>160.24</td>\n",
       "      <td>130.0</td>\n",
       "      <td>0.015269</td>\n",
       "      <td>2019-07-06 22:10:17</td>\n",
       "      <td>b5f6b728cec773313da84887919cef33</td>\n",
       "      <td>04906d05a940</td>\n",
       "    </tr>\n",
       "    <tr>\n",
       "      <th>2</th>\n",
       "      <td>125.91</td>\n",
       "      <td>130.0</td>\n",
       "      <td>0.015269</td>\n",
       "      <td>2019-06-12 17:41:47</td>\n",
       "      <td>b5f6b728cec773313da84887919cef33</td>\n",
       "      <td>04906d05a940</td>\n",
       "    </tr>\n",
       "    <tr>\n",
       "      <th>3</th>\n",
       "      <td>119.83</td>\n",
       "      <td>130.0</td>\n",
       "      <td>0.015269</td>\n",
       "      <td>2019-06-08 10:03:15</td>\n",
       "      <td>b5f6b728cec773313da84887919cef33</td>\n",
       "      <td>04906d05a940</td>\n",
       "    </tr>\n",
       "    <tr>\n",
       "      <th>4</th>\n",
       "      <td>117.43</td>\n",
       "      <td>130.0</td>\n",
       "      <td>0.015269</td>\n",
       "      <td>2019-06-06 08:36:34</td>\n",
       "      <td>b5f6b728cec773313da84887919cef33</td>\n",
       "      <td>04906d05a940</td>\n",
       "    </tr>\n",
       "  </tbody>\n",
       "</table>\n",
       "</div>"
      ],
      "text/plain": [
       "   price_eur_review  price_eur_items  price_btc                time  \\\n",
       "0            208.82            130.0   0.015269 2019-07-07 18:40:42   \n",
       "1            160.24            130.0   0.015269 2019-07-06 22:10:17   \n",
       "2            125.91            130.0   0.015269 2019-06-12 17:41:47   \n",
       "3            119.83            130.0   0.015269 2019-06-08 10:03:15   \n",
       "4            117.43            130.0   0.015269 2019-06-06 08:36:34   \n",
       "\n",
       "                          vendor_id       item_id  \n",
       "0  b5f6b728cec773313da84887919cef33  04906d05a940  \n",
       "1  b5f6b728cec773313da84887919cef33  04906d05a940  \n",
       "2  b5f6b728cec773313da84887919cef33  04906d05a940  \n",
       "3  b5f6b728cec773313da84887919cef33  04906d05a940  \n",
       "4  b5f6b728cec773313da84887919cef33  04906d05a940  "
      ]
     },
     "execution_count": 6,
     "metadata": {},
     "output_type": "execute_result"
    }
   ],
   "source": [
    "query = \"\"\"SELECT\n",
    "\treviews.price_eur as price_eur_review,\n",
    "\titems.price_eur as price_eur_items,\n",
    "\titems.price_btc ,\n",
    "\treviews.`time`,\n",
    "\tvendors.vendor_id ,\n",
    "\treviews.item_id\n",
    "FROM\n",
    "\tDarknetScrape.item_reviews as reviews\n",
    "JOIN DarknetScrape.items as items on\n",
    "\treviews.item_id = items.item_id\n",
    "join DarknetScrape.vendors vendors on\n",
    "\tvendors.vendor_id = items.vendor_id\n",
    "join DarknetScrape.market market on\n",
    "\tmarket.market_name = vendors.market\n",
    "WHERE\n",
    "\treviews.positive = 1\n",
    "\tand market.market_name = \"Berlusconi Market\"\n",
    "\"\"\"\n",
    "\n",
    "df = pd.read_sql(query, con=db_connection)\n",
    "df.head()"
   ]
  },
  {
   "cell_type": "code",
   "execution_count": 7,
   "metadata": {},
   "outputs": [],
   "source": [
    "sess = db.session()\n",
    "result = sess.run(\"MATCH (n:Transaction) Where date ({year: 2019, month: 7}) >n.date >= date({year: 2017, month: 8}) RETURN n LIMIT 25\")\n",
    "results = []\n",
    "for r in result:\n",
    "    results.append(r[0])\n",
    "df_neo4j = pd.DataFrame(results)"
   ]
  }
 ],
 "metadata": {
  "kernelspec": {
   "display_name": "Python 3",
   "language": "python",
   "name": "python3"
  },
  "language_info": {
   "codemirror_mode": {
    "name": "ipython",
    "version": 3
   },
   "file_extension": ".py",
   "mimetype": "text/x-python",
   "name": "python",
   "nbconvert_exporter": "python",
   "pygments_lexer": "ipython3",
   "version": "3.7.6"
  }
 },
 "nbformat": 4,
 "nbformat_minor": 2
}
